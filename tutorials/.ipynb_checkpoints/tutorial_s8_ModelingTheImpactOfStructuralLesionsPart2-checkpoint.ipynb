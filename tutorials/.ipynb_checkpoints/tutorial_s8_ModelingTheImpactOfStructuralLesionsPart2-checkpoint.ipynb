{
 "cells": [
  {
   "cell_type": "code",
   "execution_count": null,
   "metadata": {},
   "outputs": [],
   "source": [
    "#!/usr/bin/env python\n",
    "# coding: utf-8"
   ]
  },
  {
   "cell_type": "code",
   "execution_count": null,
   "metadata": {},
   "outputs": [],
   "source": [
    "get_ipython().magic('pylab nbagg')\n",
    "from tvb.simulator.lab import *\n",
    "import numpy"
   ]
  },
  {
   "cell_type": "markdown",
   "metadata": {},
   "source": [
    "# Tutorial: Modeling The Impact of Structural Lesions -- Part II: The Brain Network Model"
   ]
  },
  {
   "cell_type": "markdown",
   "metadata": {},
   "source": [
    "In this tutorial we will show the steps required to build the network model used in [1]. First, the dynamics of the uncoupled network will be explored (ie, single node dynamics). Second, you can either run the script 'region_deterministic_modeling_structural_lesions.py' or execute the code cell to obtain some sample time-series. Running time for a complete 10 minutes long simulation using the 998 ROIs Hagmann connectome takes about 5 days, for an integration time step size of 0.2 ms. Even though empirical BOLD data length is in the order of ten of minutes, for the purposes of understanding the stages of this modeling pipeline we suggest to execute short simulations. "
   ]
  },
  {
   "cell_type": "code",
   "execution_count": null,
   "metadata": {},
   "outputs": [],
   "source": [
    "lb = models.LarterBreakspear(QV_max=1.0, QZ_max=1.0, \n",
    "                             d_V=0.65, d_Z=0.65, \n",
    "                             aee=0.36, ani=0.4, ane=1.0)"
   ]
  },
  {
   "cell_type": "code",
   "execution_count": null,
   "metadata": {},
   "outputs": [],
   "source": [
    "lb.variables_of_interest = [\"V\", \"W\", \"Z\"]"
   ]
  },
  {
   "cell_type": "code",
   "execution_count": null,
   "metadata": {},
   "outputs": [],
   "source": [
    "white_matter = connectivity.Connectivity.from_file(\"connectivity_66.zip\")\n",
    "white_matter.speed = numpy.array([7.0])"
   ]
  },
  {
   "cell_type": "code",
   "execution_count": null,
   "metadata": {},
   "outputs": [],
   "source": [
    "white_matter_coupling = coupling.HyperbolicTangent(a=0.5*lb.QV_max, \n",
    "                                                   midpoint=lb.VT, \n",
    "                                                   sigma=lb.d_V,)"
   ]
  },
  {
   "cell_type": "markdown",
   "metadata": {},
   "source": [
    "nitialise an Integrator"
   ]
  },
  {
   "cell_type": "code",
   "execution_count": null,
   "metadata": {},
   "outputs": [],
   "source": [
    "heunint = integrators.HeunDeterministic(dt=0.2)"
   ]
  },
  {
   "cell_type": "markdown",
   "metadata": {},
   "source": [
    "nitialise some Monitors with period in physical time"
   ]
  },
  {
   "cell_type": "code",
   "execution_count": null,
   "metadata": {},
   "outputs": [],
   "source": [
    "mon_tavg =  monitors.TemporalAverage(period=2.)\n",
    "mon_bold  = monitors.Bold(period=2000.)"
   ]
  },
  {
   "cell_type": "markdown",
   "metadata": {},
   "source": [
    "undle them"
   ]
  },
  {
   "cell_type": "code",
   "execution_count": null,
   "metadata": {},
   "outputs": [],
   "source": [
    "what_to_watch = (mon_bold, mon_tavg)"
   ]
  },
  {
   "cell_type": "markdown",
   "metadata": {},
   "source": [
    "nitialise a Simulator -- Model, Connectivity, Integrator, and Monitors."
   ]
  },
  {
   "cell_type": "code",
   "execution_count": null,
   "metadata": {},
   "outputs": [],
   "source": [
    "sim = simulator.Simulator(model = lb, \n",
    "                          connectivity = white_matter,\n",
    "                          coupling = white_matter_coupling, \n",
    "                          integrator = heunint, \n",
    "                          monitors = what_to_watch)"
   ]
  },
  {
   "cell_type": "code",
   "execution_count": null,
   "metadata": {},
   "outputs": [],
   "source": [
    "sim.configure()"
   ]
  },
  {
   "cell_type": "code",
   "execution_count": null,
   "metadata": {},
   "outputs": [],
   "source": [
    "LOG.info(\"Starting simulation...\")\n",
    "#Perform the simulation\n",
    "bold_data, bold_time = [], []\n",
    "tavg_data, tavg_time = [], []"
   ]
  },
  {
   "cell_type": "code",
   "execution_count": null,
   "metadata": {},
   "outputs": [],
   "source": [
    "for raw, tavg in sim(simulation_length=2000):\n",
    "    if not raw is None:\n",
    "        bold_time.append(raw[0])\n",
    "        bold_data.append(raw[1])\n",
    "    \n",
    "    if not tavg is None:\n",
    "        tavg_time.append(tavg[0])\n",
    "        tavg_data.append(tavg[1])"
   ]
  },
  {
   "cell_type": "code",
   "execution_count": null,
   "metadata": {},
   "outputs": [],
   "source": [
    "LOG.info(\"Finished simulation.\")"
   ]
  },
  {
   "cell_type": "code",
   "execution_count": null,
   "metadata": {},
   "outputs": [],
   "source": [
    "import matplotlib.pyplot as plt"
   ]
  },
  {
   "cell_type": "markdown",
   "metadata": {},
   "source": [
    "ake the lists numpy.arrays for easier use."
   ]
  },
  {
   "cell_type": "code",
   "execution_count": null,
   "metadata": {},
   "outputs": [],
   "source": [
    "BOLD = numpy.array(bold_data)\n",
    "TAVG = numpy.array(tavg_data)\n",
    "tavg_time = numpy.array(tavg_time)\n",
    "t_interval=numpy.arange(100)"
   ]
  },
  {
   "cell_type": "markdown",
   "metadata": {},
   "source": [
    "lot raw time series"
   ]
  },
  {
   "cell_type": "code",
   "execution_count": null,
   "metadata": {},
   "outputs": [],
   "source": [
    "figure(1)\n",
    "plot(tavg_time[t_interval], TAVG[t_interval, 0, :, 0], 'k', alpha=0.05)\n",
    "plot(tavg_time[t_interval], TAVG[t_interval, 0, :, 0].mean(axis=1), 'k',  linewidth=3)\n",
    "title(\"Temporal average -- State variable V\")"
   ]
  },
  {
   "cell_type": "code",
   "execution_count": null,
   "metadata": {},
   "outputs": [],
   "source": [
    "figure(2)\n",
    "plot(tavg_time[t_interval], TAVG[t_interval, 1, :, 0], 'b', alpha=0.05)\n",
    "plot(tavg_time[t_interval], TAVG[t_interval, 1, :, 0].mean(axis=1), 'b', linewidth=3)\n",
    "title(\"Temporal average -- State variable W\")"
   ]
  },
  {
   "cell_type": "code",
   "execution_count": null,
   "metadata": {},
   "outputs": [],
   "source": [
    "figure(3)\n",
    "plot(tavg_time[t_interval], TAVG[t_interval, 2, :, 0], 'r', alpha=0.05)\n",
    "plot(tavg_time[t_interval], TAVG[t_interval, 2, :, 0].mean(axis=1), 'r', linewidth=3)\n",
    "title(\"Temporal average -- State variable Z\")\n",
    "xlabel('time [ms]', fontsize=24)"
   ]
  },
  {
   "cell_type": "markdown",
   "metadata": {},
   "source": [
    "lot 3D trajectories"
   ]
  },
  {
   "cell_type": "code",
   "execution_count": null,
   "metadata": {},
   "outputs": [],
   "source": [
    "import matplotlib.pyplot as plt\n",
    "from mpl_toolkits.mplot3d import Axes3D"
   ]
  },
  {
   "cell_type": "code",
   "execution_count": null,
   "metadata": {},
   "outputs": [],
   "source": [
    "fig = plt.figure(4)\n",
    "ax = fig.gca(projection='3d')"
   ]
  },
  {
   "cell_type": "code",
   "execution_count": null,
   "metadata": {},
   "outputs": [],
   "source": [
    "ax.plot(TAVG[:, 0, :, 0].mean(axis=1),  TAVG[:, 1, :, 0].mean(axis=1), 'k', zs=0.0, zdir='z', linewidth=2)\n",
    "ax.plot(TAVG[:, 1, :, 0].mean(axis=1),  TAVG[:, 2, :, 0].mean(axis=1), 'b', zdir='x', zs=-0.6,linewidth=2)\n",
    "ax.plot(TAVG[:, 0, :, 0].mean(axis=1),  TAVG[:, 2, :, 0].mean(axis=1), 'r', zdir='y', zs=0.8,linewidth=2)\n",
    "ax.set_xlabel('V')\n",
    "ax.set_ylabel('W')\n",
    "ax.set_zlabel('Z')\n",
    "plt.show()"
   ]
  },
  {
   "cell_type": "code",
   "execution_count": null,
   "metadata": {},
   "outputs": [],
   "source": [
    "fig = plt.figure(6)\n",
    "ax = fig.gca(projection='3d')"
   ]
  },
  {
   "cell_type": "code",
   "execution_count": null,
   "metadata": {},
   "outputs": [],
   "source": [
    "for node in range(white_matter.number_of_regions):\n",
    "    ax.plot(TAVG[:, 0, node, 0], TAVG[:, 1, node, 0], TAVG[:, 2, node, 0], alpha=0.05)"
   ]
  },
  {
   "cell_type": "code",
   "execution_count": null,
   "metadata": {},
   "outputs": [],
   "source": [
    "ax.set_xlabel('V')\n",
    "ax.set_ylabel('W')\n",
    "ax.set_zlabel('Z')"
   ]
  },
  {
   "cell_type": "markdown",
   "metadata": {},
   "source": [
    "[1] Alstott et al. (2009) Modeling the impact of lesions in the human brain. Plos Comp Bio.<br>\n"
   ]
  }
 ],
 "metadata": {
  "kernelspec": {
   "display_name": "Python 3",
   "language": "python",
   "name": "python3"
  },
  "language_info": {
   "codemirror_mode": {
    "name": "ipython",
    "version": 3
   },
   "file_extension": ".py",
   "mimetype": "text/x-python",
   "name": "python",
   "nbconvert_exporter": "python",
   "pygments_lexer": "ipython3",
   "version": "3.7.0"
  }
 },
 "nbformat": 4,
 "nbformat_minor": 2
}
