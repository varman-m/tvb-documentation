{
 "cells": [
  {
   "cell_type": "code",
   "execution_count": null,
   "metadata": {},
   "outputs": [],
   "source": [
    "#!/usr/bin/env python\n",
    "# coding: utf-8"
   ]
  },
  {
   "cell_type": "code",
   "execution_count": null,
   "metadata": {},
   "outputs": [],
   "source": [
    "get_ipython().magic('pylab nbagg')\n",
    "from tvb.simulator.lab import *\n",
    "import numpy\n",
    "import tvb.datatypes.projections as projections\n",
    "from scipy import io"
   ]
  },
  {
   "cell_type": "markdown",
   "metadata": {},
   "source": [
    "Tutorial: **Evoked Responses in the Visual Cortex**<br>\n",
    "==================================================="
   ]
  },
  {
   "cell_type": "markdown",
   "metadata": {},
   "source": [
    "## Set up a Connectivity and its attributes."
   ]
  },
  {
   "cell_type": "code",
   "execution_count": null,
   "metadata": {},
   "outputs": [],
   "source": [
    "conn = connectivity.Connectivity(load_default=True)\n",
    "conn_coupling = coupling.Linear(a=0.042)"
   ]
  },
  {
   "cell_type": "markdown",
   "metadata": {},
   "source": [
    "## Set up a model.<br>\n",
    "<br>\n",
    "In this configuration the topology of the phase portrait features a stable fixed point (a stable spiral) with a characteristics frequency of approximately 10Hz.<br>\n",
    "You can check it using the nice phase_plane_interactive tool ..."
   ]
  },
  {
   "cell_type": "code",
   "execution_count": null,
   "metadata": {},
   "outputs": [],
   "source": [
    "mod = models.Generic2dOscillator(a=-0.5, b=-15.0, c=0.0, d=0.02)"
   ]
  },
  {
   "cell_type": "markdown",
   "metadata": {},
   "source": [
    "## Choose an integration scheme (noise or not?). <br>\n",
    "<br>\n",
    "Selecting a deterministic integration scheme allows you to observe very clearly the effect of stimulation-driven activity.<br>\n",
    "With a stochastic scheme, you may observe some neural reponses which are not due to stimulation but to noise fluctuations (uncontrolled reponses of the resting state)."
   ]
  },
  {
   "cell_type": "code",
   "execution_count": null,
   "metadata": {},
   "outputs": [],
   "source": [
    "hiss    = noise.Additive(nsig = numpy.array([0.015]))\n",
    "heunint = integrators.HeunStochastic(dt=2**-6, noise=hiss)"
   ]
  },
  {
   "cell_type": "markdown",
   "metadata": {},
   "source": [
    "## Build a Stimulus<br>\n",
    "<br>\n",
    "In TVB's connectivity demo dataset region 35 and 36 represent areas V1 and V2 respectively in the left hemisphere. "
   ]
  },
  {
   "cell_type": "code",
   "execution_count": null,
   "metadata": {},
   "outputs": [],
   "source": [
    "conn.configure()\n",
    "nodes = [35, 36] \n",
    "stim_weights = numpy.zeros((conn.number_of_regions, 1))\n",
    "stim_weights[nodes] = numpy.array([3.5, 0.0])[:, numpy.newaxis]\n",
    "eqn_t = equations.PulseTrain()\n",
    "eqn_t.parameters[\"onset\"] = 500.0 # ms\n",
    "eqn_t.parameters[\"tau\"]   = 5.0   # ms\n",
    "eqn_t.parameters[\"T\"]     = 500.  # 0.002kHz repetition frequency"
   ]
  },
  {
   "cell_type": "code",
   "execution_count": null,
   "metadata": {},
   "outputs": [],
   "source": [
    "stimulus = patterns.StimuliRegion(temporal = eqn_t,\n",
    "                                  connectivity = conn, \n",
    "                                  weight = stim_weights)\n",
    "    "
   ]
  },
  {
   "cell_type": "markdown",
   "metadata": {},
   "source": [
    "## Record the ouput as:<br>\n",
    "<br>\n",
    "<br>\n",
    "* Temporal Averaged time-series. By default only the first state variable is recorded for the `Generic2dOscillator` model.<br>\n",
    "<br>\n",
    "* EEG (FIXME. By default pr = projections.ProjectionRegionEEG() should do all the tricks)"
   ]
  },
  {
   "cell_type": "code",
   "execution_count": null,
   "metadata": {},
   "outputs": [],
   "source": [
    "pr = projections.ProjectionSurfaceEEG(load_default=True)\n",
    "ss = sensors.SensorsEEG.from_file(source_file=\"eeg_brainstorm_65.txt\")\n",
    "rm = region_mapping.RegionMapping(load_default=True)"
   ]
  },
  {
   "cell_type": "code",
   "execution_count": null,
   "metadata": {},
   "outputs": [],
   "source": [
    "rec = (monitors.TemporalAverage(period=1e3 / 2048.), \n",
    "       monitors.EEG(projection=pr, sensors=ss, region_mapping=rm, period=1e3/2048.))"
   ]
  },
  {
   "cell_type": "markdown",
   "metadata": {},
   "source": [
    "## Create a `Simulator` instance. "
   ]
  },
  {
   "cell_type": "code",
   "execution_count": null,
   "metadata": {},
   "outputs": [],
   "source": [
    "def config_sim(stim=None):\n",
    "    sim = simulator.Simulator(model = mod, \n",
    "                          connectivity = conn,\n",
    "                          coupling = conn_coupling, \n",
    "                          integrator = heunint, \n",
    "                          monitors = rec,\n",
    "                          stimulus = stim)\n",
    "                    \n",
    "    sim.configure()\n",
    "    return sim"
   ]
  },
  {
   "cell_type": "markdown",
   "metadata": {},
   "source": [
    "## Create a `run` function to perform the simulation"
   ]
  },
  {
   "cell_type": "code",
   "execution_count": null,
   "metadata": {},
   "outputs": [],
   "source": [
    "def run_simulation(sim):\n",
    "    #Perform the simulation\n",
    "    tavg_data = []\n",
    "    tavg_time = []\n",
    "    eeg_data = []\n",
    "    eeg_time = []\n",
    "    for tavg, eeg in sim(simulation_length=2**10):\n",
    "    # approx 4 sec\n",
    "        if not tavg is None:\n",
    "            tavg_time.append(tavg[0])\n",
    "            tavg_data.append(tavg[1])\n",
    "            \n",
    "        if not eeg is None:\n",
    "            eeg_time.append(eeg[0])\n",
    "            eeg_data.append(eeg[1])\n",
    "            \n",
    "    return (tavg_data, tavg_time, eeg_data, eeg_time)"
   ]
  },
  {
   "cell_type": "markdown",
   "metadata": {},
   "source": [
    "**Results**<br>\n",
    "==============<br>\n",
    "A. Activity in the absence of stimulation<br>\n",
    "------------------------------------------"
   ]
  },
  {
   "cell_type": "code",
   "execution_count": null,
   "metadata": {},
   "outputs": [],
   "source": [
    "sim = config_sim()\n",
    "out = run_simulation(sim)"
   ]
  },
  {
   "cell_type": "code",
   "execution_count": null,
   "metadata": {},
   "outputs": [],
   "source": [
    "TAVG = numpy.array(out[0])\n",
    "tt   = numpy.array(out[1])\n",
    "EEG  = numpy.array(out[2])"
   ]
  },
  {
   "cell_type": "code",
   "execution_count": null,
   "metadata": {},
   "outputs": [],
   "source": [
    "figure()"
   ]
  },
  {
   "cell_type": "code",
   "execution_count": null,
   "metadata": {},
   "outputs": [],
   "source": [
    "subplot(211)\n",
    "plot(tt, TAVG[:, 0, nodes, 0])\n",
    "title(\"Temporal Averaged time-series\")"
   ]
  },
  {
   "cell_type": "code",
   "execution_count": null,
   "metadata": {},
   "outputs": [],
   "source": [
    "subplot(212)\n",
    "plot(tt, EEG[:, 0, 60, 0], 'k')\n",
    "title(\"EEG\")"
   ]
  },
  {
   "cell_type": "code",
   "execution_count": null,
   "metadata": {},
   "outputs": [],
   "source": [
    "tight_layout()"
   ]
  },
  {
   "cell_type": "markdown",
   "metadata": {},
   "source": [
    "Figure 1: TAVG and EEG traces (0z) resting state"
   ]
  },
  {
   "cell_type": "markdown",
   "metadata": {},
   "source": [
    "B. Stimulus-driven activity<br>\n",
    "----------------------------------------------------------"
   ]
  },
  {
   "cell_type": "code",
   "execution_count": null,
   "metadata": {},
   "outputs": [],
   "source": [
    "sim = config_sim(stim=stimulus)\n",
    "stout = run_simulation(sim)"
   ]
  },
  {
   "cell_type": "code",
   "execution_count": null,
   "metadata": {},
   "outputs": [],
   "source": [
    "STAVG = numpy.array(stout[0])\n",
    "stt   = numpy.array(stout[1])\n",
    "SEEG  = numpy.array(stout[2])"
   ]
  },
  {
   "cell_type": "code",
   "execution_count": null,
   "metadata": {},
   "outputs": [],
   "source": [
    "figure()"
   ]
  },
  {
   "cell_type": "code",
   "execution_count": null,
   "metadata": {},
   "outputs": [],
   "source": [
    "subplot(211)\n",
    "plot(stt, STAVG[:, 0, nodes, 0])\n",
    "title(\"Stim - Temporal Averaged time-series\")"
   ]
  },
  {
   "cell_type": "code",
   "execution_count": null,
   "metadata": {},
   "outputs": [],
   "source": [
    "subplot(212)\n",
    "plot(stt, SEEG[:, 0, 60, 0], 'k')\n",
    "title(\"Stim - EEG\")"
   ]
  },
  {
   "cell_type": "markdown",
   "metadata": {},
   "source": [
    "Figure 2: TAVG and EEG traces (0Z) under stimulation -- onset is @ 500 ms"
   ]
  }
 ],
 "metadata": {
  "kernelspec": {
   "display_name": "Python 3",
   "language": "python",
   "name": "python3"
  },
  "language_info": {
   "codemirror_mode": {
    "name": "ipython",
    "version": 3
   },
   "file_extension": ".py",
   "mimetype": "text/x-python",
   "name": "python",
   "nbconvert_exporter": "python",
   "pygments_lexer": "ipython3",
   "version": "3.7.0"
  }
 },
 "nbformat": 4,
 "nbformat_minor": 2
}
