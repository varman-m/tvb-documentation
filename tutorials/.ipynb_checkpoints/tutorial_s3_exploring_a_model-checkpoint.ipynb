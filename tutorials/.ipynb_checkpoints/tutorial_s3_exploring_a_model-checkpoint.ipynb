{
 "cells": [
  {
   "cell_type": "code",
   "execution_count": null,
   "metadata": {},
   "outputs": [],
   "source": [
    "#!/usr/bin/env python\n",
    "# coding: utf-8"
   ]
  },
  {
   "cell_type": "code",
   "execution_count": null,
   "metadata": {},
   "outputs": [],
   "source": [
    "get_ipython().magic('pylab nbagg')\n",
    "from tvb.simulator.lab import *\n",
    "from tvb.simulator.plot.phase_plane_interactive import PhasePlaneInteractive"
   ]
  },
  {
   "cell_type": "markdown",
   "metadata": {},
   "source": [
    "# Exploring A Model<br>\n",
    "<br>\n",
    "This tutorial discusses using the phase_plane_interactive plotting tool to explore<br>\n",
    "the dynamics of a Model object and, at the same time, set its parameters.<br>\n",
    "<br>\n",
    "This works best for the simpler, 2d, Models, as their trajectories and nullclines<br>\n",
    "lie within a single plane and are thus easily visualised. And so, for the demo here <br>\n",
    "we'll stick with a Model of that type. However, although it requires a little more <br>\n",
    "effort, it can still be used to get a basic handle on the dynamics of higher <br>\n",
    "dimensional models.<br>\n",
    "<br>\n",
    "It is also important to note that this is only for the local dynamic model, that is,<br>\n",
    "it only represents the dynamic behaviour of a disconnected node. "
   ]
  },
  {
   "cell_type": "markdown",
   "metadata": {},
   "source": [
    "Create An Interactive Phase-Plane<br>\n",
    "----------------------------------<br>\n",
    "<br>\n",
    "PhasePlaneInteractive produces an interactive window containing plots of a Model's<br>\n",
    "phase-plane, sample trajectories, and sliders and buttons for adjusting various <br>\n",
    "parameters.<br>\n",
    "<br>\n",
    "The important thing to note here is that as we drag around the sliders for the Model's<br>\n",
    "parameters we are actually modifying the parameters of the Model we passed in, so when<br>\n",
    "we close the figure at the end whatever values the Model's parameters are set to will<br>\n",
    "be the values in the Model. Also, changing the range of the phase-plane plot (that is,<br>\n",
    "the extent of the x and y axis) changes the \"state_variable_range\" attribute of a Model.<br>\n",
    "This attribute is used when constructing random initial conditions for a simulation, so<br>\n",
    "setting the axis to be relatively tightly bound around a fixed point for example will<br>\n",
    "produce initial conditions that better approximate the range of the Model's state <br>\n",
    "variables for the given parameters. <br>\n",
    "<br>\n",
    "We'll begin by creating a Model object and taking a quick look at its parameters:"
   ]
  },
  {
   "cell_type": "code",
   "execution_count": null,
   "metadata": {},
   "outputs": [],
   "source": [
    "oscillator = models.Generic2dOscillator()"
   ]
  },
  {
   "cell_type": "code",
   "execution_count": null,
   "metadata": {},
   "outputs": [],
   "source": [
    "oscillator"
   ]
  },
  {
   "cell_type": "markdown",
   "metadata": {},
   "source": [
    "We'll now create and launch the interactive plot.<br>\n",
    "<br>\n",
    "**NOTE:** *Changing the Model's parameters or the axis settings causes a redraw of the entire <br>\n",
    "phase-plane, clearing trajectories and their corresponding time-series.*"
   ]
  },
  {
   "cell_type": "code",
   "execution_count": null,
   "metadata": {},
   "outputs": [],
   "source": [
    "ppi_fig = PhasePlaneInteractive(model=oscillator)\n",
    "ppi_fig.show()"
   ]
  },
  {
   "cell_type": "markdown",
   "metadata": {},
   "source": [
    "In the main central panel of the window you can see the phase-plane for the model, including arrows<br>\n",
    "representing the vector field and coloured lines representing any nullclines present in this plane.<br>\n",
    "Clicking on the phase-plane will launch a sample trajectory originating from where you clicked. <br>\n",
    "Below the phase-plane is a panel which will show time-series for all state variables for any sample <br>\n",
    "trajectories you initiate. All around the edges are sliders for adjusting Model parameters and <br>\n",
    "adjusting what is displayed. The red vertical lines in sliders indicate the initial values. <br>\n",
    "<br>\n",
    "After we've adjusted parameters to our satisfaction we can close the window and take another<br>\n",
    "quick look at the parameters of our Model"
   ]
  },
  {
   "cell_type": "code",
   "execution_count": null,
   "metadata": {},
   "outputs": [],
   "source": [
    "oscillator"
   ]
  },
  {
   "cell_type": "markdown",
   "metadata": {},
   "source": [
    "As you can see in the line above, the Model's parameters, for example \"a\", \"tau\", and the<br>\n",
    "state_variable_ranges are modified from their initial values."
   ]
  },
  {
   "cell_type": "markdown",
   "metadata": {},
   "source": [
    "Specifying Stochastic Integration<br>\n",
    "----------------------------------<br>\n",
    "<br>\n",
    "It is possible to explicitly specify the integration scheme used to plot sample <br>\n",
    "trajectories. This can be useful when deciding what amplitude to give your noise <br>\n",
    "when specifying a stochastic integration scheme.<br>\n",
    "<br>\n",
    "We'll take a look at this using HeunStochastic, we'll also pass in the same Model<br>\n",
    "object we modified above. In this way PhasePlaneInteractive initialises with the <br>\n",
    "parameters we'd set for the Model, so that here we can focus on the effect of <br>\n",
    "the noise amplitude relative to the intrinsic dynamics.<br>\n",
    "<br>\n",
    "Unlike changes to Model parameters and the axes, changing to the noise <br>\n",
    "amplitude doesn't cause a redraw of the existing trajectories, so, after creating <br>\n",
    "a trajectory you can alter the noise strength and click on the same starting <br>\n",
    "location to see the effect of a different noise amplitude on the same trajectory.<br>\n",
    "<br>\n",
    "Starting by setting the noise to 0.0, to get a deterministic trajectory, and then<br>\n",
    "adding a small amount of noise can help give a useful intuition for the effects of<br>\n",
    "noise on a simulation.<br>\n",
    "<br>\n",
    "Also, as the random sequence used each time you launch a trajectory is distinct, <br>\n",
    "clicking on the same point multiple times will give you an idea of the range <br>\n",
    "of trajectory a given type of noise can produce.<br>\n",
    "<br>\n",
    "Alternatively, clicking reset random stream enables you to see the effect of <br>\n",
    "the same random sequence with different amplitudes or on a trajectory initiating<br>\n",
    "from a different location.<br>\n",
    "<br>\n",
    "**Note:** *The default standard deviation for the noise is 1.0, which is too large <br>\n",
    "(in the sense that noise will dominate the intrinsic dynamics) relative to the range<br>\n",
    "of our Model's state variables.*"
   ]
  },
  {
   "cell_type": "code",
   "execution_count": null,
   "metadata": {},
   "outputs": [],
   "source": [
    "heunstochint = integrators.HeunStochastic(dt=2**-5)"
   ]
  },
  {
   "cell_type": "markdown",
   "metadata": {},
   "source": [
    "examine integrator's attributes"
   ]
  },
  {
   "cell_type": "code",
   "execution_count": null,
   "metadata": {},
   "outputs": [],
   "source": [
    "heunstochint"
   ]
  },
  {
   "cell_type": "code",
   "execution_count": null,
   "metadata": {},
   "outputs": [],
   "source": [
    "heunstochint.noise"
   ]
  },
  {
   "cell_type": "markdown",
   "metadata": {},
   "source": [
    "Relaunch the phase plane tool, but with the stochastic integrator"
   ]
  },
  {
   "cell_type": "code",
   "execution_count": null,
   "metadata": {},
   "outputs": [],
   "source": [
    "ppi_fig = PhasePlaneInteractive(model=oscillator, integrator=heunstochint)\n",
    "ppi_fig.show()"
   ]
  },
  {
   "cell_type": "code",
   "execution_count": null,
   "metadata": {},
   "outputs": [],
   "source": [
    "heunstochint.noise"
   ]
  },
  {
   "cell_type": "markdown",
   "metadata": {},
   "source": [
    "# Simulate and Visualize<br>\n",
    "<br>\n",
    "Finally, we can use the objects created above in a simulation:"
   ]
  },
  {
   "cell_type": "code",
   "execution_count": null,
   "metadata": {},
   "outputs": [],
   "source": [
    "sim = simulator.Simulator(\n",
    "    model = oscillator, \n",
    "    connectivity = connectivity.Connectivity(load_default=True),\n",
    "    coupling = coupling.Linear(a=0.0152), \n",
    "    integrator = heunstochint, \n",
    "    monitors = monitors.TemporalAverage(period=2**-1),\n",
    "    simulation_length=1e3,\n",
    ").configure()"
   ]
  },
  {
   "cell_type": "markdown",
   "metadata": {},
   "source": [
    "run"
   ]
  },
  {
   "cell_type": "code",
   "execution_count": null,
   "metadata": {},
   "outputs": [],
   "source": [
    "(tavg_time, tavg_data), = sim.run()"
   ]
  },
  {
   "cell_type": "markdown",
   "metadata": {},
   "source": [
    "plot"
   ]
  },
  {
   "cell_type": "code",
   "execution_count": null,
   "metadata": {},
   "outputs": [],
   "source": [
    "figure()\n",
    "plot(tavg_time, tavg_data[:, 0, :, 0], 'k', alpha=0.1)\n",
    "grid(True)\n",
    "xlabel('Time (ms)')\n",
    "ylabel(\"Temporal average\")"
   ]
  },
  {
   "cell_type": "markdown",
   "metadata": {},
   "source": [
    "As long as the interactive phase plane figure isn't closed, the parameters can be tuned and the simulation rerun to iterate between the local dynamics of a node and integration scheme and the global dynamics of the entire network."
   ]
  }
 ],
 "metadata": {
  "kernelspec": {
   "display_name": "Python 3",
   "language": "python",
   "name": "python3"
  },
  "language_info": {
   "codemirror_mode": {
    "name": "ipython",
    "version": 3
   },
   "file_extension": ".py",
   "mimetype": "text/x-python",
   "name": "python",
   "nbconvert_exporter": "python",
   "pygments_lexer": "ipython3",
   "version": "3.7.0"
  }
 },
 "nbformat": 4,
 "nbformat_minor": 2
}
