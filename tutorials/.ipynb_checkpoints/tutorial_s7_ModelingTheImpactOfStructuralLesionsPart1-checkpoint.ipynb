{
 "cells": [
  {
   "cell_type": "code",
   "execution_count": null,
   "metadata": {},
   "outputs": [],
   "source": [
    "#!/usr/bin/env python\n",
    "# coding: utf-8"
   ]
  },
  {
   "cell_type": "code",
   "execution_count": null,
   "metadata": {},
   "outputs": [],
   "source": [
    "get_ipython().magic('pylab nbagg')\n",
    "from tvb.simulator.lab import *\n",
    "import os\n",
    "import numpy\n",
    "import networkx"
   ]
  },
  {
   "cell_type": "markdown",
   "metadata": {},
   "source": [
    "# Tutorial: Modeling The Impact of Structural Lesions -- Part I: Modeling Lesions"
   ]
  },
  {
   "cell_type": "markdown",
   "metadata": {},
   "source": [
    "In this tutorial we will explore different lesion strategies as presented in [1]. <br>\n",
    "<br>\n",
    "Two main strategies were used:<br>\n",
    "<br>\n",
    "  * sequential single deletion     <br>\n",
    "    * random<br>\n",
    "    * targeted    <br>\n",
    "  * focal<br>\n",
    "<br>\n",
    "The first type, random method,  was aiming to provide a structural failure analysis, that is, to analyse systematically the robustness of the network. The first type, second method, provides an intemediate step toward specific lesioning, by taking into account graph metrics like degree, strength and betweeness centrality to select a target node.  <br>\n",
    "<br>\n",
    "The second type was intended to evaluate functional failure analysis. In this strategy we not only specify a focal node that belongs to a region of the Default Mode Network (DMN) [2, 3] but nodes within a localized extent are deleted as well. <br>\n",
    "The size of the lesions represent 5% of the cortical surface.<br>\n",
    "<br>\n",
    "<br>\n",
    "<br>\n",
    "Here, we will explore what these strategies are about and compute + store some graph metrics of the lesioned connectivities. New matrices won't be saved. The first thing to do is creating an instance of a Connectivity datatype with the connectome we'll use as a control ('healthy').  <br>\n",
    "<br>\n",
    "There are several connectivity matrices available, one of them is the 998 regions originally used in [3]"
   ]
  },
  {
   "cell_type": "code",
   "execution_count": null,
   "metadata": {},
   "outputs": [],
   "source": [
    "white_matter = connectivity.Connectivity.from_file(\"connectivity_998.zip\")\n",
    "white_matter.configure()\n",
    "nor = white_matter.number_of_regions"
   ]
  },
  {
   "cell_type": "markdown",
   "metadata": {},
   "source": [
    "Let's have a look at the properties of this matrix"
   ]
  },
  {
   "cell_type": "code",
   "execution_count": null,
   "metadata": {},
   "outputs": [],
   "source": [
    "white_matter"
   ]
  },
  {
   "cell_type": "markdown",
   "metadata": {},
   "source": [
    "<br>\n"
   ]
  },
  {
   "cell_type": "markdown",
   "metadata": {},
   "source": [
    "#### Graph Metrics<br>\n",
    "Graph metrics computed after each node deletion are node degree, strength, global efficiency, largest component and betweeness centrality. <br>\n",
    "<br>\n",
    "We'll import from the `tvb.analyzers.graph` a few useful functions:"
   ]
  },
  {
   "cell_type": "code",
   "execution_count": null,
   "metadata": {},
   "outputs": [],
   "source": [
    "from tvb.analyzers.graph import betweenness_bin, distance_inv, efficiency_bin, get_components_sizes, sequential_random_deletion"
   ]
  },
  {
   "cell_type": "markdown",
   "metadata": {},
   "source": [
    "### Sequential random deletion <br>\n"
   ]
  },
  {
   "cell_type": "markdown",
   "metadata": {},
   "source": [
    "In orider to be consistent about the lesions, we'll first set the Numpy's random number genrator seed -- this will guarantee that you'll get the same random sequence.<br>\n",
    "<br>\n",
    "A small example is given below:"
   ]
  },
  {
   "cell_type": "code",
   "execution_count": null,
   "metadata": {},
   "outputs": [],
   "source": [
    "my_seed = 42\n",
    "my_random_state = numpy.random.RandomState(my_seed)"
   ]
  },
  {
   "cell_type": "markdown",
   "metadata": {},
   "source": [
    "Next, a sequence of random sequence of integer numbers drawn from the regions indices, without replacement, will define the order in which the nodes are going to be deleted."
   ]
  },
  {
   "cell_type": "code",
   "execution_count": null,
   "metadata": {},
   "outputs": [],
   "source": [
    "random_sequence = my_random_state.choice(numpy.arange(nor), nor-2, replace=False)\n",
    "ns, nd, ge, lc = sequential_random_deletion(white_matter, random_sequence, nor)"
   ]
  },
  {
   "cell_type": "markdown",
   "metadata": {},
   "source": [
    "In [1] the graph metrics were computed for 25 different random sequences. So, the next cell contains a loop to do this. It is most certainly not the way to do it since it takes a long long time. This task can/should be parallelized without a problem."
   ]
  },
  {
   "cell_type": "code",
   "execution_count": null,
   "metadata": {},
   "outputs": [],
   "source": [
    "my_seeds = [0, 1, 2, 3, 5, 7, 12, 13, 19, 21, 27, 33, 42, 53, 64, 67, 73, 77, 81, 84, 86, 89, 92, 97, 99]"
   ]
  },
  {
   "cell_type": "code",
   "execution_count": null,
   "metadata": {},
   "outputs": [],
   "source": [
    "for this_seed in my_seeds:\n",
    "    my_random_state = numpy.random.RandomState(this_seed)\n",
    "    random_sequence = my_random_state.choice(numpy.arange(nor), nor-2, replace=False)\n",
    "    ns, nd, ge, lc = sequential_random_deletion(white_matter, random_sequence, nor)\n",
    "    # save them\n",
    "    numpy.save('data/node_strength_' + str(this_seed) + '.npy' , ns)\n",
    "    numpy.save('data/node_degree_' + str(this_seed) + '.npy' , nd)\n",
    "    numpy.save('data/global_efficiency_' + str(this_seed) + '.npy' , ge)\n",
    "    numpy.save('data/largest_component_' + str(this_seed) + '.npy' , lc)    "
   ]
  },
  {
   "cell_type": "markdown",
   "metadata": {},
   "source": [
    "### Sequential targeted deletions"
   ]
  },
  {
   "cell_type": "code",
   "execution_count": null,
   "metadata": {},
   "outputs": [],
   "source": [
    "ns, nd, nbc, ge, lc = sequential_targeted_deletion(white_matter, nor)"
   ]
  },
  {
   "cell_type": "markdown",
   "metadata": {},
   "source": [
    "save them"
   ]
  },
  {
   "cell_type": "code",
   "execution_count": null,
   "metadata": {},
   "outputs": [],
   "source": [
    "numpy.save('data/node_strength_' + 'ns' + '.npy' , ns)\n",
    "numpy.save('data/node_degree_'   + 'nd' + '.npy' , nd)\n",
    "numpy.save('data/node_betweenness_centrality_'    + 'nbc' + '.npy' , nbc)\n",
    "numpy.save('data/global_efficiency_' + 'ns_nd_bc' + '.npy' , ge)\n",
    "numpy.save('data/largest_component_' + 'ns_nd_bc' + '.npy' , lc)"
   ]
  },
  {
   "cell_type": "markdown",
   "metadata": {},
   "source": [
    "Now, we'll load the metrics computed for **sequential random deletion**..."
   ]
  },
  {
   "cell_type": "code",
   "execution_count": null,
   "metadata": {},
   "outputs": [],
   "source": [
    "global_efficiency = numpy.zeros((996, len(my_seeds)))\n",
    "largest_component = numpy.zeros((996, len(my_seeds)))\n",
    "for i, this_seed in enumerate(my_seeds):\n",
    "    # load them\n",
    "    global_efficiency[:, i] = numpy.load('data/global_efficiency_' + str(this_seed) + '.npy')\n",
    "    largest_component[:, i] = numpy.load('data/largest_component_' + str(this_seed) + '.npy')"
   ]
  },
  {
   "cell_type": "markdown",
   "metadata": {},
   "source": [
    "And the ones computed for **sequential targeted deletion** ..."
   ]
  },
  {
   "cell_type": "code",
   "execution_count": null,
   "metadata": {},
   "outputs": [],
   "source": [
    "ge = numpy.load('data/global_efficiency_' + 'ns_nd_bc' + '.npy' )\n",
    "lc = numpy.load('data/largest_component_' + 'ns_nd_bc' + '.npy' )"
   ]
  },
  {
   "cell_type": "markdown",
   "metadata": {},
   "source": [
    "#### Global  efficiency"
   ]
  },
  {
   "cell_type": "code",
   "execution_count": null,
   "metadata": {},
   "outputs": [],
   "source": [
    "fig, ax = plt.subplots(1, figsize=(20,8))\n",
    "ax.plot(global_efficiency.mean(axis=1), 'k', linewidth=4, label='random')\n",
    "ax.plot(ge[:, 0], 'g', linewidth=4, label='targeted (strength)')\n",
    "ax.plot(ge[:, 1], 'b', linewidth=4, label='targeted (degree)')\n",
    "ax.plot(ge[:, 2], 'r', linewidth=4, label='targeted (centrality)')"
   ]
  },
  {
   "cell_type": "code",
   "execution_count": null,
   "metadata": {},
   "outputs": [],
   "source": [
    "plt.xlabel('Number of Deleted Nodes', fontsize=24)\n",
    "plt.ylabel('Global Efficiency (binary)', fontsize=24)"
   ]
  },
  {
   "cell_type": "code",
   "execution_count": null,
   "metadata": {},
   "outputs": [],
   "source": [
    "for tick in ax.xaxis.get_major_ticks():\n",
    "    tick.label.set_fontsize(24) \n",
    "for tick in ax.yaxis.get_major_ticks():\n",
    "    tick.label.set_fontsize(24) \n",
    "    \n",
    "plt.legend()"
   ]
  },
  {
   "cell_type": "markdown",
   "metadata": {},
   "source": [
    "#### Size of the largest component"
   ]
  },
  {
   "cell_type": "code",
   "execution_count": null,
   "metadata": {},
   "outputs": [],
   "source": [
    "fig, ax = plt.subplots(1, figsize=(20,8))\n",
    "ax.plot(largest_component.mean(axis=1), 'k', linewidth=4, label='random')\n",
    "ax.plot(lc[:, 0], 'g', linewidth=4, label='targeted (strength)')\n",
    "ax.plot(lc[:, 1], 'b', linewidth=4, label='targeted (degree)')\n",
    "ax.plot(lc[:, 2], 'r', linewidth=4, label='targeted (centrality)')"
   ]
  },
  {
   "cell_type": "code",
   "execution_count": null,
   "metadata": {},
   "outputs": [],
   "source": [
    "plt.xlabel('Number of Deleted Nodes',   fontsize=24)\n",
    "plt.ylabel('Size of Largest Component', fontsize=24)\n",
    "for tick in ax.xaxis.get_major_ticks():\n",
    "    tick.label.set_fontsize(24) \n",
    "for tick in ax.yaxis.get_major_ticks():\n",
    "    tick.label.set_fontsize(24) \n",
    "    \n",
    "plt.legend()"
   ]
  },
  {
   "cell_type": "markdown",
   "metadata": {},
   "source": [
    "### Localized deletions<br>\n",
    "<br>\n",
    "Localized deletions represent area removal, that is, a certain number of nodes and their connections around a focal point were deleted. This strategy was aiming at dynamic and functional failure analysis, since more evident changes in the dynamic patters are expected. <br>\n",
    "<br>\n",
    "The central locations were abribitrarily chosen. In this example we'll only remove node 194 [index 193] and its 49 nearest neighbours (5% of the represented cortical surface). Despite having the fibre distances, the nearest neighbouts were etermined by the Euclidean distance. <br>\n"
   ]
  },
  {
   "cell_type": "code",
   "execution_count": null,
   "metadata": {},
   "outputs": [],
   "source": [
    "def localized_deletions(white_matter, lesion_indices, start, end, k=49):\n",
    "    \"\"\"\n",
    "    \n",
    "    Remove a focal node and its k nearest neighbours.\n",
    "    Lesions are constrained to be intrahemispheric.\n",
    "    \n",
    "    \n",
    "    Parameters\n",
    "    ----------\n",
    "    \n",
    "    white_matter   : a tvb Connectivity datatype    \n",
    "    lesion_indices : array\n",
    "                     an index vector with the focal nodes that will be deleted.\n",
    "                     \n",
    "    k              : int \n",
    "                     neighbours to be deleted.\n",
    "                                        \n",
    "    start          : int \n",
    "                     first index of a given hemisphere\n",
    "                     \n",
    "    end            : int \n",
    "                     last index of a hemisphere\n",
    "                     \n",
    "                     \n",
    "    Notes\n",
    "    -----\n",
    "    eg, first hemipshere start=0; end=nor//2\n",
    "        second hemisphere: start=nor//2; end=nor\n",
    "        \n",
    "        and nor is white_matter.number_of_regions\n",
    "        \n",
    "    .. author:: Paula Sanz Leon\n",
    "    \"\"\"\n",
    "    for lesion in lesion_indices:\n",
    "\n",
    "        # compute distances and such\n",
    "        xo = white_matter.centres[lesion, 0]\n",
    "        yo = white_matter.centres[lesion, 1]\n",
    "        zo = white_matter.centres[lesion, 2]\n",
    "\n",
    "        # only compute distance wrt to intra-hemispheric neighbours\n",
    "        nor = white_matter.number_of_regions\n",
    "        distances = numpy.sqrt((white_matter.centres[start:end, 0] - xo)**2 \n",
    "                    +  (white_matter.centres[start:end, 1] - yo)**2 \n",
    "                    +  (white_matter.centres[start:end, 2] - zo)**2)\n",
    "\n",
    "        # get neighbouring nodes\n",
    "        sorted_euclidean = numpy.argsort(distances)\n",
    "        good_indices     = sorted_euclidean[:k+1]\n",
    "\n",
    "        # lesion\n",
    "        new_connectivity_weights = white_matter.weights.copy()\n",
    "        new_connectivity_weights[good_indices, :] = 0.0\n",
    "        new_connectivity_weights[:, good_indices] = 0.0\n",
    "        \n",
    "        return new_connectivity_weights, good_indices"
   ]
  },
  {
   "cell_type": "code",
   "execution_count": null,
   "metadata": {},
   "outputs": [],
   "source": [
    "lesion_indices           = (numpy.array([194]) - 1).astype(int)\n",
    "lesioned_matrix_weights, idxs  = localized_deletions(white_matter, lesion_indices, 0, nor//2)"
   ]
  },
  {
   "cell_type": "code",
   "execution_count": null,
   "metadata": {},
   "outputs": [],
   "source": [
    "import matplotlib.pyplot as plt\n",
    "from matplotlib import colors"
   ]
  },
  {
   "cell_type": "code",
   "execution_count": null,
   "metadata": {},
   "outputs": [],
   "source": [
    "fig, ax = plt.subplots(1, figsize=(25,20))"
   ]
  },
  {
   "cell_type": "markdown",
   "metadata": {},
   "source": [
    "for visualization purposes"
   ]
  },
  {
   "cell_type": "code",
   "execution_count": null,
   "metadata": {},
   "outputs": [],
   "source": [
    "data = lesioned_matrix_weights.copy()\n",
    "# binarize\n",
    "data[data > 0] = 1\n",
    "data[idxs, :] = 3\n",
    "data[:, idxs] = 3\n",
    "data[lesion_indices, :] = 2\n",
    "data[:, lesion_indices] = 2"
   ]
  },
  {
   "cell_type": "markdown",
   "metadata": {},
   "source": [
    "make a color map of fixed colors"
   ]
  },
  {
   "cell_type": "code",
   "execution_count": null,
   "metadata": {},
   "outputs": [],
   "source": [
    "cmap = colors.ListedColormap(['black', 'white', 'red', 'blue'])\n",
    "bounds=[0,1,2,3,4]\n",
    "norm = colors.BoundaryNorm(bounds, cmap.N)"
   ]
  },
  {
   "cell_type": "code",
   "execution_count": null,
   "metadata": {},
   "outputs": [],
   "source": [
    "p = ax.pcolormesh(data, cmap=cmap, norm=norm)\n",
    "ax.invert_yaxis()\n",
    "cbar = fig.colorbar(p, cmap=cmap, norm=norm, boundaries=bounds, ticks=[0.5, 1.5, 2.5, 3.5])\n",
    "cbar.ax.set_yticklabels(['no connections', 'connections', 'lesion site', 'neighbours'], fontsize=24)"
   ]
  },
  {
   "cell_type": "code",
   "execution_count": null,
   "metadata": {},
   "outputs": [],
   "source": [
    "xticks = list(range(998))\n",
    "yticks = list(range(998))"
   ]
  },
  {
   "cell_type": "code",
   "execution_count": null,
   "metadata": {},
   "outputs": [],
   "source": [
    "xticklabels=['L194', ]\n",
    "yticklabels=['L194', ]"
   ]
  },
  {
   "cell_type": "code",
   "execution_count": null,
   "metadata": {},
   "outputs": [],
   "source": [
    "ax.set_xticks(xticks[193:194])\n",
    "ax.set_xticklabels(xticklabels)"
   ]
  },
  {
   "cell_type": "code",
   "execution_count": null,
   "metadata": {},
   "outputs": [],
   "source": [
    "ax.set_yticks(yticks[193:194])\n",
    "ax.set_yticklabels(yticklabels)"
   ]
  },
  {
   "cell_type": "code",
   "execution_count": null,
   "metadata": {},
   "outputs": [],
   "source": [
    "for tick in ax.yaxis.get_major_ticks():\n",
    "    tick.label.set_fontsize(24) "
   ]
  },
  {
   "cell_type": "code",
   "execution_count": null,
   "metadata": {},
   "outputs": [],
   "source": [
    "for tick in ax.xaxis.get_major_ticks():\n",
    "    tick.label.set_fontsize(24) "
   ]
  },
  {
   "cell_type": "code",
   "execution_count": null,
   "metadata": {},
   "outputs": [],
   "source": [
    "data = white_matter.weights.copy()"
   ]
  },
  {
   "cell_type": "code",
   "execution_count": null,
   "metadata": {},
   "outputs": [],
   "source": [
    "from matplotlib import colors\n",
    "fig, ax = plt.subplots(1, figsize=(25,20))"
   ]
  },
  {
   "cell_type": "markdown",
   "metadata": {},
   "source": [
    "for visualization purposes"
   ]
  },
  {
   "cell_type": "code",
   "execution_count": null,
   "metadata": {},
   "outputs": [],
   "source": [
    "data[data > 0] = 1"
   ]
  },
  {
   "cell_type": "markdown",
   "metadata": {},
   "source": [
    "make a color map of fixed colors"
   ]
  },
  {
   "cell_type": "code",
   "execution_count": null,
   "metadata": {},
   "outputs": [],
   "source": [
    "cmap = colors.ListedColormap(['black', 'white'])\n",
    "bounds=[0,1,2]\n",
    "norm = colors.BoundaryNorm(bounds, cmap.N)"
   ]
  },
  {
   "cell_type": "code",
   "execution_count": null,
   "metadata": {},
   "outputs": [],
   "source": [
    "p = ax.pcolormesh(data, cmap=cmap, norm=norm)\n",
    "ax.invert_yaxis()\n",
    "cbar = fig.colorbar(p, cmap=cmap, norm=norm, boundaries=bounds, ticks=[0.5, 1.5])\n",
    "cbar.ax.set_yticklabels(['no connections', 'connections', 'lesion site', 'neighbours'], fontsize=24)"
   ]
  },
  {
   "cell_type": "code",
   "execution_count": null,
   "metadata": {},
   "outputs": [],
   "source": [
    "xticks = list(range(998))\n",
    "yticks = list(range(998))"
   ]
  },
  {
   "cell_type": "code",
   "execution_count": null,
   "metadata": {},
   "outputs": [],
   "source": [
    "xticklabels=['RH']\n",
    "yticklabels=['RH']"
   ]
  },
  {
   "cell_type": "code",
   "execution_count": null,
   "metadata": {},
   "outputs": [],
   "source": [
    "ax.set_xticks(xticks[998//4:998//4+1])\n",
    "ax.set_xticklabels(xticklabels)"
   ]
  },
  {
   "cell_type": "code",
   "execution_count": null,
   "metadata": {},
   "outputs": [],
   "source": [
    "ax.set_yticks(yticks[998//4:998//4+1])\n",
    "ax.set_yticklabels(yticklabels)"
   ]
  },
  {
   "cell_type": "code",
   "execution_count": null,
   "metadata": {},
   "outputs": [],
   "source": [
    "for tick in ax.yaxis.get_major_ticks():\n",
    "    tick.label.set_fontsize(24) "
   ]
  },
  {
   "cell_type": "code",
   "execution_count": null,
   "metadata": {},
   "outputs": [],
   "source": [
    "for tick in ax.xaxis.get_major_ticks():\n",
    "    tick.label.set_fontsize(24) "
   ]
  },
  {
   "cell_type": "markdown",
   "metadata": {},
   "source": [
    "### References"
   ]
  },
  {
   "cell_type": "markdown",
   "metadata": {},
   "source": [
    "[1] Alstott et al. (2009) Modeling the impact of lesions in the human brain. Plos Comp Bio.<br>\n",
    "<br>\n",
    "[2] Damoiseaux et al. (2006) Consistent resting-state networks across healthy subjects. PNAS<br>\n",
    "<br>\n",
    "[3] Honey et al. (2009) Predicting human resting-state functional connectivity from structural connectivity. PNAS."
   ]
  }
 ],
 "metadata": {
  "kernelspec": {
   "display_name": "Python 3",
   "language": "python",
   "name": "python3"
  },
  "language_info": {
   "codemirror_mode": {
    "name": "ipython",
    "version": 3
   },
   "file_extension": ".py",
   "mimetype": "text/x-python",
   "name": "python",
   "nbconvert_exporter": "python",
   "pygments_lexer": "ipython3",
   "version": "3.7.0"
  }
 },
 "nbformat": 4,
 "nbformat_minor": 2
}
