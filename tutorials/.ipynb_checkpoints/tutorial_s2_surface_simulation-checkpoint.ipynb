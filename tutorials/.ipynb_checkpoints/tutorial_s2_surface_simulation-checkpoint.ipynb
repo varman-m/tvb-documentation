{
 "cells": [
  {
   "cell_type": "code",
   "execution_count": null,
   "metadata": {},
   "outputs": [],
   "source": [
    "#!/usr/bin/env python\n",
    "# coding: utf-8"
   ]
  },
  {
   "cell_type": "code",
   "execution_count": null,
   "metadata": {},
   "outputs": [],
   "source": [
    "get_ipython().magic('pylab inline')"
   ]
  },
  {
   "cell_type": "markdown",
   "metadata": {},
   "source": [
    "# Surface simulation tutorial"
   ]
  },
  {
   "cell_type": "markdown",
   "metadata": {},
   "source": [
    "This extends the basic region simulation, covered in the region simulation tutorial, to include the folded cortical surface to the anatomical structure on which the simulation is based, if you haven't already looked at that tutorial you probably should do that now as here we only really discuss in detail the extra things that are specific to a simulation on the cortical surface.<br>\n",
    "<br>\n",
    "In addition to the components discussed for a region simulation here we introduce one new major component, that is:<br>\n",
    "<br>\n",
    "1. *Cortex*, the primary component of which is a mesh surface defining a 2d representation of the convoluted cortical surface embedded in 3d space. This object includes a range of ancillary information and methods required for using it in simulations. <br>\n",
    "<br>\n",
    "We will also introduce two new *Monitors* that make more sense in the context of surface simulations."
   ]
  },
  {
   "cell_type": "markdown",
   "metadata": {},
   "source": [
    "Setup<br>\n",
    "-----<br>\n",
    "<br>\n",
    "Here we'll skip quickly over the configuration that was covered in \"Tutorial: Anatomy of a Region Simulation\". "
   ]
  },
  {
   "cell_type": "markdown",
   "metadata": {},
   "source": [
    "mport a bunch of stuff to ease command line usage"
   ]
  },
  {
   "cell_type": "code",
   "execution_count": null,
   "metadata": {},
   "outputs": [],
   "source": [
    "from tvb.simulator.lab import *"
   ]
  },
  {
   "cell_type": "markdown",
   "metadata": {},
   "source": [
    "nitialise a Model, Coupling, and Connectivity."
   ]
  },
  {
   "cell_type": "code",
   "execution_count": null,
   "metadata": {},
   "outputs": [],
   "source": [
    "oscillator = models.Generic2dOscillator()\n",
    "white_matter = connectivity.Connectivity(load_default=True)\n",
    "white_matter.speed = numpy.array([4.0])"
   ]
  },
  {
   "cell_type": "code",
   "execution_count": null,
   "metadata": {},
   "outputs": [],
   "source": [
    "white_matter_coupling = coupling.Linear(a=0.014)"
   ]
  },
  {
   "cell_type": "markdown",
   "metadata": {},
   "source": [
    "nitialise an Integrator"
   ]
  },
  {
   "cell_type": "code",
   "execution_count": null,
   "metadata": {},
   "outputs": [],
   "source": [
    "heunint = integrators.HeunDeterministic(dt=2**-4)"
   ]
  },
  {
   "cell_type": "markdown",
   "metadata": {},
   "source": [
    "*Surface*<br>\n",
    "-----------<br>\n",
    "<br>\n",
    "Now to the surface itself. The main two attributes of a surface that we'll typically want to modify are<br>\n",
    "the *LocalConnectivity*, which is a function describing the drop-off in connectivity with distance (in <br>\n",
    "its simplest form, think of a truncated Gaussian relative to every vertex of the surface), and the <br>\n",
    "*coupling_strength* which is just a weighting of the *LocalConnectivity* function, which potentially can<br>\n",
    "be specified independently for every vertex (node on the cortical surface).<br>\n",
    "<br>\n",
    "Here, we'll use the default *LocalConnectivity* function, and scale it appropriately based on the *Model*<br>\n",
    "*Cortex* and *Connectivity* we'll be using. Unfortunately, for the time being there is not an automated way <br>\n",
    "to determine the appropriate coupling strength given the Models selection, etc, so it is necessary to get <br>\n",
    "a feeling for a specific system (Models, structure, etc) by experimenting a bit -- we are working toward<br>\n",
    "tools that will ease this phase of model development."
   ]
  },
  {
   "cell_type": "markdown",
   "metadata": {},
   "source": [
    "nitialise a surface"
   ]
  },
  {
   "cell_type": "code",
   "execution_count": null,
   "metadata": {},
   "outputs": [],
   "source": [
    "default_cortex = cortex.Cortex(load_default=True)\n",
    "default_cortex.coupling_strength = numpy.array([2**-10])"
   ]
  },
  {
   "cell_type": "markdown",
   "metadata": {},
   "source": [
    "*Monitors*<br>\n",
    "-----------<br>\n",
    "<br>\n",
    "The first significant thing of note about surface simulations is that certain *Monitors* make a lot more sense in this<br>\n",
    "context than they do at the region level, and so we'll introduce a couple new *Monitors* here that we didn't bother with<br>\n",
    "in the region based example.<br>\n",
    "<br>\n",
    "The first of these new  *Monitors* is called *SpatialAverage*, this *Monitor* will, unsurprisingly, average over the space<br>\n",
    "(nodes) of the simulation. In the case of region level simulations we already have a situation of a relatively small number<br>\n",
    "of nodes, with each one representing a fairly large chunk of brain. In surface simulations on the other hand we can easily<br>\n",
    "have tens of thousands of nodes, and reducing this by averaging over sensible collections of these nodes can be valuable. <br>\n",
    "The basic mechanism is general, in the sense that the nodes can be broken up into any non-overlapping, complete, set of sets<br>\n",
    "-- said another way, each node can only be counted in one collection and all nodes must be in one collection. As a concrete <br>\n",
    "example, even in surface simulations information regarding a break up into regions exists, and this breakup, where each <br>\n",
    "cortical mesh node belongs to one and only one region can be used to define the spatial average. In fact this is the default <br>\n",
    "behaviour of the *SpatialAverage* monitor when applied to a surface simulation, that is it averages over nodes and returns<br>\n",
    "region based time-series.<br>\n",
    "<br>\n",
    "The second of these new *Monitors*, which is an instantiation of a biophysical measurement process, is called *EEG*. This<br>\n",
    "monitor, hopefully also unsurprisingly, returns the EEG signal resulting from the simulated neural dynamics. EEG signals <br>\n",
    "measured on the scalp depend strongly on the location and orientation of the underlying neural sources, which is why this <br>\n",
    "monitor is more realistic and useful in the case of surface based simulations -- where the simulation is run on the explicit<br>\n",
    "geometry of the cortex, which can potentially have been obtained from a specific individual's brain. In addition a simulation<br>\n",
    "being built on the specific anatomical structure of an individual subject, the specific electrodes used in experimental work<br>\n",
    "can also be incorporated, providing as direct as possible a link between simulation and experiment.<br>\n",
    "<br>\n",
    "Here, we'll once again rely on TVB's defaults, where the default *SpatialAverage* monitor will return region level time-series<br>\n",
    "and the *EEG* monitor will return a relatively standard 62 channel set based on the 10-20 system."
   ]
  },
  {
   "cell_type": "markdown",
   "metadata": {},
   "source": [
    "nitialise some Monitors with period in physical time"
   ]
  },
  {
   "cell_type": "code",
   "execution_count": null,
   "metadata": {},
   "outputs": [],
   "source": [
    "mon_tavg = monitors.TemporalAverage(period=2**-2)\n",
    "mon_savg = monitors.SpatialAverage(period=2**-2)\n",
    "# load the default region mapping\n",
    "rm = region_mapping.RegionMapping(load_default=True)\n",
    "mon_eeg = monitors.EEG(load_default=True, region_mapping=rm)\n",
    "#Bundle them\n",
    "what_to_watch = (mon_tavg, mon_savg, mon_eeg)"
   ]
  },
  {
   "cell_type": "markdown",
   "metadata": {},
   "source": [
    "Simulate<br>\n",
    "---------<br>\n",
    "<br>\n",
    "We can then configure and run the *Simulator* as in a region based simulation.<br>\n",
    "<br>\n",
    "NOTE: in this case the configuration needs to calculate the *LocalConnectivity* for the cortical surface, which can take a minute or two."
   ]
  },
  {
   "cell_type": "markdown",
   "metadata": {},
   "source": [
    "nitialise Simulator -- Model, Connectivity, Integrator, Monitors, and surface."
   ]
  },
  {
   "cell_type": "code",
   "execution_count": null,
   "metadata": {},
   "outputs": [],
   "source": [
    "sim = simulator.Simulator(model = oscillator, connectivity = white_matter,\n",
    "                          coupling = white_matter_coupling, \n",
    "                          integrator = heunint, monitors = what_to_watch,\n",
    "                          surface = default_cortex)"
   ]
  },
  {
   "cell_type": "code",
   "execution_count": null,
   "metadata": {},
   "outputs": [],
   "source": [
    "sim.configure()"
   ]
  },
  {
   "cell_type": "markdown",
   "metadata": {},
   "source": [
    "erform the simulation"
   ]
  },
  {
   "cell_type": "code",
   "execution_count": null,
   "metadata": {},
   "outputs": [],
   "source": [
    "tavg_data = []\n",
    "tavg_time = []\n",
    "savg_data = []\n",
    "savg_time = []\n",
    "eeg_data = []\n",
    "eeg_time = []\n",
    "for tavg, savg, eeg in sim(simulation_length=2**2):\n",
    "    if not tavg is None:\n",
    "        tavg_time.append(tavg[0])\n",
    "        tavg_data.append(tavg[1])\n",
    "    \n",
    "    if not savg is None:\n",
    "        savg_time.append(savg[0])\n",
    "        savg_data.append(savg[1])\n",
    "    \n",
    "    if not eeg is None:\n",
    "        eeg_time.append(eeg[0])\n",
    "        eeg_data.append(eeg[1])"
   ]
  },
  {
   "cell_type": "markdown",
   "metadata": {},
   "source": [
    "Pretty Pictures<br>\n",
    "----------------<br>\n",
    "<br>\n",
    "And finally, we can look at the results of our simulation in terms of time-series as we have before:"
   ]
  },
  {
   "cell_type": "markdown",
   "metadata": {},
   "source": [
    "ake the lists numpy.arrays for easier use."
   ]
  },
  {
   "cell_type": "code",
   "execution_count": null,
   "metadata": {},
   "outputs": [],
   "source": [
    "TAVG = numpy.array(tavg_data)\n",
    "SAVG = numpy.array(savg_data)\n",
    "EEG = numpy.array(eeg_data)"
   ]
  },
  {
   "cell_type": "markdown",
   "metadata": {},
   "source": [
    "lot region averaged time series"
   ]
  },
  {
   "cell_type": "code",
   "execution_count": null,
   "metadata": {},
   "outputs": [],
   "source": [
    "figure(1)\n",
    "plot(savg_time, SAVG[:, 0, :, 0])\n",
    "title(\"Region average\")"
   ]
  },
  {
   "cell_type": "markdown",
   "metadata": {},
   "source": [
    "lot EEG time series"
   ]
  },
  {
   "cell_type": "code",
   "execution_count": null,
   "metadata": {},
   "outputs": [],
   "source": [
    "figure(2)"
   ]
  },
  {
   "cell_type": "code",
   "execution_count": null,
   "metadata": {},
   "outputs": [],
   "source": [
    "plot(eeg_time, EEG[:, 0, :, 0])\n",
    "title(\"EEG\")"
   ]
  },
  {
   "cell_type": "markdown",
   "metadata": {},
   "source": [
    "how them"
   ]
  },
  {
   "cell_type": "code",
   "execution_count": null,
   "metadata": {},
   "outputs": [],
   "source": [
    "show()"
   ]
  },
  {
   "cell_type": "markdown",
   "metadata": {},
   "source": [
    "That's all folks -- so, what's next?<br>\n",
    "------------------------------------<br>\n",
    "<br>\n",
    "If you're still interested in surface simulations, then we have a number of other tutorials available,<br>\n",
    "which you might like to check out, on subjects like: defining a custom *LocalConnectivity*; and <br>\n",
    "applying stimuli to a surface simulation. Alternatively, you can get into the details of any aspects <br>\n",
    "of TVB simulations that interest you in TVB's hand-book, or the simulator's reference manual (which is<br>\n",
    "automatically generated from DocStrings within the code)... And, of course, dig into the code itself. "
   ]
  }
 ],
 "metadata": {
  "kernelspec": {
   "display_name": "Python 3",
   "language": "python",
   "name": "python3"
  },
  "language_info": {
   "codemirror_mode": {
    "name": "ipython",
    "version": 3
   },
   "file_extension": ".py",
   "mimetype": "text/x-python",
   "name": "python",
   "nbconvert_exporter": "python",
   "pygments_lexer": "ipython3",
   "version": "3.7.0"
  }
 },
 "nbformat": 4,
 "nbformat_minor": 2
}
