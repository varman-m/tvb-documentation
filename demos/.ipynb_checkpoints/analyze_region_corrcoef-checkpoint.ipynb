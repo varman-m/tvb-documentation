{
 "cells": [
  {
   "cell_type": "code",
   "execution_count": null,
   "metadata": {},
   "outputs": [],
   "source": [
    "#!/usr/bin/env python\n",
    "# coding: utf-8"
   ]
  },
  {
   "cell_type": "code",
   "execution_count": null,
   "metadata": {},
   "outputs": [],
   "source": [
    "get_ipython().magic('pylab nbagg')\n",
    "from tvb.simulator.lab import *\n",
    "import tvb.analyzers.correlation_coefficient as corr_coeff\n",
    "from tvb.datatypes.time_series import TimeSeriesRegion"
   ]
  },
  {
   "cell_type": "markdown",
   "metadata": {},
   "source": [
    "# Compute functional connectivity with the corrcoef analyzer<br>\n",
    "<br>\n",
    "This demo shows how to build a region time series object from simulated data and then apply an time series analyzer, corrcoef in this case, to the time series, resulting in functional connectivity.<br>\n",
    "<br>\n",
    "First, we build the simulator"
   ]
  },
  {
   "cell_type": "markdown",
   "metadata": {},
   "source": [
    "neural mass model parameters"
   ]
  },
  {
   "cell_type": "code",
   "execution_count": null,
   "metadata": {},
   "outputs": [],
   "source": [
    "pars = {'a': 1.05,\n",
    "        'b': -1.,\n",
    "        'c': 0.0,\n",
    "        'd': 0.1,\n",
    "        'e': 0.0,\n",
    "        'f': 1 / 3.,\n",
    "        'g': 1.0,\n",
    "        'alpha': 1.0,\n",
    "        'beta': 0.2,\n",
    "        'tau': 1.25,\n",
    "        'gamma': -1.0}"
   ]
  },
  {
   "cell_type": "markdown",
   "metadata": {},
   "source": [
    "sampling frequency"
   ]
  },
  {
   "cell_type": "code",
   "execution_count": null,
   "metadata": {},
   "outputs": [],
   "source": [
    "sfreq = 2048.0"
   ]
  },
  {
   "cell_type": "code",
   "execution_count": null,
   "metadata": {},
   "outputs": [],
   "source": [
    "sim = simulator.Simulator(\n",
    "    model=models.Generic2dOscillator(**pars),\n",
    "    connectivity=connectivity.Connectivity(load_default=True, speed=4.0),\n",
    "    coupling=coupling.Linear(a=0.033),\n",
    "    integrator=integrators.HeunStochastic(dt=0.06103515625, noise=noise.Additive(nsig=numpy.array([2 ** -10, ]))),\n",
    "    monitors=(monitors.TemporalAverage(period=1e3 / sfreq),\n",
    "              monitors.ProgressLogger(period=2e3)),\n",
    "    simulation_length=16e3\n",
    ").configure()"
   ]
  },
  {
   "cell_type": "markdown",
   "metadata": {},
   "source": [
    "and then run it"
   ]
  },
  {
   "cell_type": "code",
   "execution_count": null,
   "metadata": {},
   "outputs": [],
   "source": [
    "(tavg_time, tavg_samples), _ = sim.run()"
   ]
  },
  {
   "cell_type": "markdown",
   "metadata": {},
   "source": [
    "For the analyzer, we build a time series object,"
   ]
  },
  {
   "cell_type": "code",
   "execution_count": null,
   "metadata": {},
   "outputs": [],
   "source": [
    "tsr = TimeSeriesRegion(connectivity=sim.connectivity,\n",
    "                       data=tavg_samples,\n",
    "                       sample_period=sim.monitors[0].period)\n",
    "tsr.configure()"
   ]
  },
  {
   "cell_type": "markdown",
   "metadata": {},
   "source": [
    "and create & evaluate the analysis"
   ]
  },
  {
   "cell_type": "code",
   "execution_count": null,
   "metadata": {},
   "outputs": [],
   "source": [
    "corrcoeff_analyser = corr_coeff.CorrelationCoefficient(time_series=tsr)\n",
    "corrcoeff_data = corrcoeff_analyser.evaluate()\n",
    "corrcoeff_data.configure()\n",
    "FC = corrcoeff_data.array_data[..., 0, 0]"
   ]
  },
  {
   "cell_type": "markdown",
   "metadata": {},
   "source": [
    "and display the resulting triangular matrix"
   ]
  },
  {
   "cell_type": "code",
   "execution_count": null,
   "metadata": {},
   "outputs": [],
   "source": [
    "plot_tri_matrix(FC,\n",
    "                cmap=pyplot.cm.RdYlBu_r, \n",
    "                node_labels= sim.connectivity.region_labels,\n",
    "                size=[10., 10.],\n",
    "                color_anchor=(-1.0, 1.0));"
   ]
  }
 ],
 "metadata": {
  "kernelspec": {
   "display_name": "Python 3",
   "language": "python",
   "name": "python3"
  },
  "language_info": {
   "codemirror_mode": {
    "name": "ipython",
    "version": 3
   },
   "file_extension": ".py",
   "mimetype": "text/x-python",
   "name": "python",
   "nbconvert_exporter": "python",
   "pygments_lexer": "ipython3",
   "version": "3.7.0"
  }
 },
 "nbformat": 4,
 "nbformat_minor": 2
}
