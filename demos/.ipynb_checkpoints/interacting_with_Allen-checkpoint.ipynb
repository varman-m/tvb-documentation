{
 "cells": [
  {
   "cell_type": "code",
   "execution_count": 11,
   "metadata": {},
   "outputs": [
    {
     "name": "stdout",
     "output_type": "stream",
     "text": [
      "2016-11-21 22:56:44,476 - INFO - tvb.interfaces.web.mplh5.mplh5_server - MPLH5 back-end server started.\n"
     ]
    }
   ],
   "source": [
    "from tvb.basic.profile import TvbProfile\n",
    "TvbProfile.set_profile(TvbProfile.COMMAND_PROFILE)\n",
    "\n",
    "from tvb.interfaces.command.lab import *\n",
    "from tvb.adapters.creators.allen_creator import AllenConnectomeBuilder\n",
    "from tvb.core.services.flow_service import FlowService"
   ]
  },
  {
   "cell_type": "code",
   "execution_count": 12,
   "metadata": {},
   "outputs": [
    {
     "name": "stdout",
     "output_type": "stream",
     "text": [
      "                    name    id\n",
      "         Default_Project     1\n"
     ]
    }
   ],
   "source": [
    "list_projects()"
   ]
  },
  {
   "cell_type": "code",
   "execution_count": 13,
   "metadata": {},
   "outputs": [
    {
     "name": "stdout",
     "output_type": "stream",
     "text": [
      "2016-11-21 22:56:46,342 - INFO - tvb.core.services.flow_service - Starting operation AllenConnectomeBuilder\n",
      "2016-11-21 22:56:46,405 - INFO - tvb.core.services.flow_service - Finished operation:AllenConnectomeBuilder\n"
     ]
    }
   ],
   "source": [
    "## This ID of a project needs to exists in Db, and it can be taken from the WebInterface:\n",
    "project = dao.get_project_by_id(1)\n",
    "    \n",
    "builder_instance = ABCAdapter.build_adapter_from_class(AllenConnectomeBuilder)\n",
    "\n",
    "## Prepare the input algorithms as if they were coming from web UI submit:\n",
    "launch_args = {\"resolution\": 100, \n",
    "               \"weighting\": 1,\n",
    "               \"inf_vox_thresh\": 50,\n",
    "               \"vol_thresh\": 100000000}\n",
    "\n",
    "## launch an operation and have the results stored both in DB and on disk\n",
    "flow_service = FlowService()\n",
    "launched_operations = flow_service.fire_operation(builder_instance,\n",
    "                                                  project.administrator,\n",
    "                                                  project.id,\n",
    "                                                **launch_args)\n",
    "\n",
    "#allen_builder = allen_creator.AllenConnectomeBuilder()  # get an instance of the class\n",
    "#allen_builder.launch(100,1,50,100000000)                # call the method f of the instance"
   ]
  },
  {
   "cell_type": "code",
   "execution_count": null,
   "metadata": {
    "collapsed": true
   },
   "outputs": [],
   "source": []
  }
 ],
 "metadata": {
  "kernelspec": {
   "display_name": "Python 2",
   "language": "python",
   "name": "python2"
  },
  "language_info": {
   "codemirror_mode": {
    "name": "ipython",
    "version": 2
   },
   "file_extension": ".py",
   "mimetype": "text/x-python",
   "name": "python",
   "nbconvert_exporter": "python",
   "pygments_lexer": "ipython2",
   "version": "2.7.15"
  }
 },
 "nbformat": 4,
 "nbformat_minor": 1
}
