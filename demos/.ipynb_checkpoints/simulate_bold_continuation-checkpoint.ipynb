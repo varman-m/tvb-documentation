{
 "cells": [
  {
   "cell_type": "code",
   "execution_count": null,
   "metadata": {},
   "outputs": [],
   "source": [
    "#!/usr/bin/env python\n",
    "# coding: utf-8"
   ]
  },
  {
   "cell_type": "markdown",
   "metadata": {},
   "source": [
    "# Continuing a region stochastic BOLD simulation<br>\n",
    "<br>\n",
    "In many cases, it is useful to perform an initial simulation to allow the transient dynamics to dissipate, and then continue the simulation using the steady state obtained from the initial simulation as the initial conditions. The TVB web interface allows for this by 'branching' a loaded simulation. From a Python script, we need to handle the details ourselves. This demo shows how to do that for a region-level, stochastic simulation with the BOLD monitor."
   ]
  },
  {
   "cell_type": "code",
   "execution_count": null,
   "metadata": {},
   "outputs": [],
   "source": [
    "get_ipython().magic('pylab inline')\n",
    "from tvb.simulator.lab import *\n",
    "LOG = get_logger('demo')\n",
    "import pickle"
   ]
  },
  {
   "cell_type": "markdown",
   "metadata": {},
   "source": [
    "## Initial transient<br>\n",
    "<br>\n",
    "First, we build and configure the initial simulator,"
   ]
  },
  {
   "cell_type": "code",
   "execution_count": null,
   "metadata": {},
   "outputs": [],
   "source": [
    "sim = simulator.Simulator(\n",
    "    model=models.Generic2dOscillator(), \n",
    "    connectivity=connectivity.Connectivity(load_default=True),                      \n",
    "    coupling=coupling.Linear(a=0.0126),\n",
    "    simulation_length=1e4,\n",
    "    integrator=integrators.HeunStochastic(\n",
    "        dt=2 ** -4,\n",
    "        noise=noise.Additive(nsig=array([0.001]))),\n",
    "    monitors=(\n",
    "        monitors.TemporalAverage(period=1.0),\n",
    "        monitors.Bold(period=500.0),\n",
    "        monitors.ProgressLogger(period=1e3)\n",
    "    )\n",
    ").configure()"
   ]
  },
  {
   "cell_type": "markdown",
   "metadata": {},
   "source": [
    "let it run,"
   ]
  },
  {
   "cell_type": "code",
   "execution_count": null,
   "metadata": {},
   "outputs": [],
   "source": [
    "(tavg_time, tavg_data), (bold_time, bold_data), _ = sim.run()"
   ]
  },
  {
   "cell_type": "markdown",
   "metadata": {},
   "source": [
    "and plot the transient:"
   ]
  },
  {
   "cell_type": "code",
   "execution_count": null,
   "metadata": {},
   "outputs": [],
   "source": [
    "figure(figsize=(10, 5))\n",
    "plot(bold_time * 1e-3, bold_data[:, 0, :, 0], 'k', alpha=0.3)\n",
    "title('Initial transient in BOLD')\n",
    "xlabel('Time (s)')\n",
    "grid(True);"
   ]
  },
  {
   "cell_type": "markdown",
   "metadata": {},
   "source": [
    "To save the state of the simulator, we need to put a few arrays into files:"
   ]
  },
  {
   "cell_type": "code",
   "execution_count": null,
   "metadata": {},
   "outputs": [],
   "source": [
    "sim_state_fname = 'sim_state.pickle'"
   ]
  },
  {
   "cell_type": "code",
   "execution_count": null,
   "metadata": {},
   "outputs": [],
   "source": [
    "with open(sim_state_fname, 'wb') as file_descr:\n",
    "    pickle.dump({\n",
    "        'history': sim.history.buffer,\n",
    "        'current_step': sim.current_step,\n",
    "        'current_state': sim.current_state,\n",
    "        'bold_inner': sim.monitors[1]._interim_stock,\n",
    "        'bold': sim.monitors[1]._stock,\n",
    "        'rng': sim.integrator.noise.random_stream.get_state()\n",
    "    }, file_descr)"
   ]
  },
  {
   "cell_type": "markdown",
   "metadata": {},
   "source": [
    "The simulation state is now saved in the current folder:"
   ]
  },
  {
   "cell_type": "code",
   "execution_count": null,
   "metadata": {},
   "outputs": [],
   "source": [
    "get_ipython().system('ls -lh sim_state.pickle')"
   ]
  },
  {
   "cell_type": "markdown",
   "metadata": {},
   "source": [
    "We are free to dispose of the simulator:"
   ]
  },
  {
   "cell_type": "code",
   "execution_count": null,
   "metadata": {},
   "outputs": [],
   "source": [
    "del sim"
   ]
  },
  {
   "cell_type": "markdown",
   "metadata": {},
   "source": [
    "## Continuing the simulation<br>\n",
    "<br>\n",
    "Now we want to continue the simulator above with the saved state. In different scenarios, this might be in a different script, on a different day, so we need to build the simulator object again:"
   ]
  },
  {
   "cell_type": "code",
   "execution_count": null,
   "metadata": {},
   "outputs": [],
   "source": [
    "sim = simulator.Simulator(\n",
    "    model=models.Generic2dOscillator(), \n",
    "    connectivity=connectivity.Connectivity(load_default=True),                      \n",
    "    coupling=coupling.Linear(a=0.0126),\n",
    "    simulation_length=1e4,\n",
    "    integrator=integrators.HeunStochastic(\n",
    "        dt=2 ** -4,\n",
    "        noise=noise.Additive(nsig=array([0.001]))),\n",
    "    monitors=(\n",
    "        monitors.TemporalAverage(period=1.0),\n",
    "        monitors.Bold(period=500.0),\n",
    "        monitors.ProgressLogger(period=1e3)\n",
    "    )\n",
    ").configure()"
   ]
  },
  {
   "cell_type": "markdown",
   "metadata": {},
   "source": [
    "load its state,"
   ]
  },
  {
   "cell_type": "code",
   "execution_count": null,
   "metadata": {},
   "outputs": [],
   "source": [
    "with open(sim_state_fname, 'rb') as file_descr:\n",
    "    state = pickle.load(file_descr)"
   ]
  },
  {
   "cell_type": "code",
   "execution_count": null,
   "metadata": {},
   "outputs": [],
   "source": [
    "sim.history.buffer = state['history']\n",
    "sim.current_step = state['current_step']\n",
    "sim.current_state = state['current_state']\n",
    "sim.monitors[1]._interim_stock = state['bold_inner']\n",
    "sim.monitors[1]._stock = state['bold']\n",
    "sim.integrator.noise.random_stream.set_state(state['rng'])"
   ]
  },
  {
   "cell_type": "markdown",
   "metadata": {},
   "source": [
    "and run it again; note that the step and time start off where the old simulator stopped:"
   ]
  },
  {
   "cell_type": "code",
   "execution_count": null,
   "metadata": {},
   "outputs": [],
   "source": [
    "(tavg_time, tavg_data), (bold_time, bold_data), _ = sim.run()"
   ]
  },
  {
   "cell_type": "code",
   "execution_count": null,
   "metadata": {},
   "outputs": [],
   "source": [
    "figure(figsize=(10, 5))\n",
    "plot(bold_time * 1e-3, bold_data[:, 0, :, 0], 'k', alpha=0.3)\n",
    "title('Continued BOLD')\n",
    "xlabel('Time (s)')\n",
    "grid(True);"
   ]
  },
  {
   "cell_type": "markdown",
   "metadata": {},
   "source": [
    "The continued BOLD does not show the transient present in the initial simulation."
   ]
  }
 ],
 "metadata": {
  "kernelspec": {
   "display_name": "Python 3",
   "language": "python",
   "name": "python3"
  },
  "language_info": {
   "codemirror_mode": {
    "name": "ipython",
    "version": 3
   },
   "file_extension": ".py",
   "mimetype": "text/x-python",
   "name": "python",
   "nbconvert_exporter": "python",
   "pygments_lexer": "ipython3",
   "version": "3.7.0"
  }
 },
 "nbformat": 4,
 "nbformat_minor": 2
}
