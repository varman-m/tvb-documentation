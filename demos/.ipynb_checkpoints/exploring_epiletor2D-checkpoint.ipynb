{
 "cells": [
  {
   "cell_type": "code",
   "execution_count": null,
   "metadata": {},
   "outputs": [],
   "source": [
    "#!/usr/bin/env python\n",
    "# coding: utf-8"
   ]
  },
  {
   "cell_type": "code",
   "execution_count": null,
   "metadata": {},
   "outputs": [],
   "source": [
    "get_ipython().magic('pylab nbagg')"
   ]
  },
  {
   "cell_type": "code",
   "execution_count": null,
   "metadata": {},
   "outputs": [],
   "source": [
    "from tvb.simulator.lab import *"
   ]
  },
  {
   "cell_type": "code",
   "execution_count": null,
   "metadata": {},
   "outputs": [],
   "source": [
    "import numpy as np\n",
    "import time as tm "
   ]
  },
  {
   "cell_type": "markdown",
   "metadata": {},
   "source": [
    "<h1><font size=\"6\" face=\"arial\" color=\"#000000\">Reduction 2-dimentional Epileptor model</font></h1><br>\n",
    "***<br>\n",
    "<br>\n",
    "<p><div style=\"text-align: justify\"><font size=\"4.5\" face=\"time roman\">The <b>Epileptor 2D</b> model is the reduction of the 5 dimensions Epileptor model to only 2 dimensions, by applying averaging methods (see <b>Proix et al., 2014</b>). Then, the Epileptor equations become :</font></div></p><br>\n",
    "<br>\n",
    "\\begin{eqnarray}<br>\n",
    "    \\dot{x}_{1,i} &=& - x_{1,i}^{3} - 2x_{1,i}^{2} + 1 + I_{ext_{1}}\\\\<br>\n",
    "    \\dot{z}_{i} &=& \\dfrac{1}{\\tau_{0}} \\ (4(x_{1,i} - x_{0, i}) - z_{i} - K{s}\\sum_{j=1}^{N}C_{ij}(x_{1,j} - x_{1,i})))<br>\n",
    "\\end{eqnarray}<br>\n",
    "<br>\n",
    "<p><div style=\"text-align: justify\"><font size=\"4.5\" face=\"time roman\">where $\\tau_{0}=2857$, $I_{ext_{1}}=3.1$, and and the degree of epileptogenicity is represented through the value $x_{0}$. $C_{ij}$ are the entries of the anatomical structural connectivity matrix reweigthed by the global coupling parameter $K_{s}$.</font></div></p>"
   ]
  },
  {
   "cell_type": "markdown",
   "metadata": {},
   "source": [
    "<h1><font size=\"6\" face=\"arial\" color=\"black\"> 1. Exploring the Epileptor 2D model</font></h1><br>\n",
    "<br><br>\n",
    "<br>\n",
    "<p><div style=\"text-align: justify\"><font size=\"4.5\" face=\"time roman\">Before launching any simulations, we will have a look at the <b>phase space</b> of the model in order to better understand its dynamics. We will use the phase plane interactive tool.</font></div></p><br>\n",
    "<br>\n",
    "<p><div style=\"text-align: justify\"><font size=\"4.5\" face=\"time roman\">We plot the two nullclines that are defined as zero flux in either the $x_{1}$ or $z$ direction: the linear nullcline in green and the cubic nullcline in red. The intersections of the nullclines identify the fixed points of the system. The <b>interictal state</b> and the <b>ictal state</b> correspond to the <b>left</b> and the <b>right</b> branches of the cubic nullcline, respectively.</font></div></p><br>\n",
    "<br>\n",
    "<p><div style=\"text-align: justify\"><font size=\"4.5\" face=\"time roman\">Have a look to the phase space for the <b>2D system</b> (Fig. 8C in Proix et al. 2014):</font></div></p>"
   ]
  },
  {
   "cell_type": "code",
   "execution_count": null,
   "metadata": {},
   "outputs": [],
   "source": [
    "from tvb.simulator.plot.phase_plane_interactive import PhasePlaneInteractive"
   ]
  },
  {
   "cell_type": "markdown",
   "metadata": {},
   "source": [
    "Create an Epileptor model instance."
   ]
  },
  {
   "cell_type": "code",
   "execution_count": null,
   "metadata": {},
   "outputs": [],
   "source": [
    "epi = models.epileptor.Epileptor2D(x0=-0.5)"
   ]
  },
  {
   "cell_type": "markdown",
   "metadata": {},
   "source": [
    "Initialise a stochastic Integrator scheme."
   ]
  },
  {
   "cell_type": "code",
   "execution_count": null,
   "metadata": {},
   "outputs": [],
   "source": [
    "dt = 0.5                                           #integration steps [ms]\n",
    "heundetint = integrators.HeunDeterministic(dt=dt)\n",
    "#heunstochint = integrators.HeunStochastic(dt=dt)\n",
    "#heunstochint.noise.nsig = 0.01                      #standard deviation of the noise "
   ]
  },
  {
   "cell_type": "markdown",
   "metadata": {},
   "source": [
    "Open the phase plane tool with the Epileptor model and (stochastic) Integrator."
   ]
  },
  {
   "cell_type": "code",
   "execution_count": null,
   "metadata": {},
   "outputs": [],
   "source": [
    "ppi_fig = PhasePlaneInteractive(model=epi, integrator=heundetint)\n",
    "ppi_fig.show()"
   ]
  },
  {
   "cell_type": "markdown",
   "metadata": {},
   "source": [
    "<p><div style=\"text-align: justify\"><font size=\"4.5\" face=\"time roman\">According to the value of the parameter $\\pmb{x_{0}}$, the linear nullcline (green curve) moves left and right, changing the stability of the fixed point. Two typical trajectories are possible:<br>\n",
    "<br>\n",
    "<ul><br>\n",
    "    <li>For $\\pmb{x_{0} < -2.05}$, the trajectory is attracted to the <b>stable fixed point</b> in the interictal state on the left cubic nullcline and the Epileptor is said <b>not epileptogenic</b>, meaning not triggering epileptic seizure without external input. </li><br><br>\n",
    "    <li>For $\\pmb{x_{0} > -2.05}$, the stable point disappears through a Hopf bifurcation, and there is only <b>one unstable fixed point</b> left. The Epileptor enters an <b>oscillatory regime</b> and the Epileptor is said to be <b>epileptogenic</b>, triggering seizures autonomously.</li><br>\n",
    "</ul><br>\n",
    "</font></div></p>"
   ]
  },
  {
   "cell_type": "markdown",
   "metadata": {},
   "source": [
    "<h1><font size=\"6\" face=\"arial\" color=\"black\">2. Comparison with complete 5D Epileptor</font></h1><br>\n",
    "<br>\n",
    "<br>\n",
    "<p><div style=\"text-align: justify\"><font size=\"4.5\" face=\"time roman\">In order to compare the results obtained from the complete and reduced system, we will model a patient with a temporal lobe epilepsy (TLE).<br>\n",
    "<br>\n",
    "<br><br>\n",
    "To this end, we define a spatial map of epileptogenicity where each network's node $i$ is characterized by an excitability value  $x_{0,i}$, which quantifies its ability to trigger a seizure. <br>\n",
    "We set:<br>\n",
    "<ul><br>\n",
    "    <li>the right limbic areas (right hippocampus (rHC, region 47), parahippocampus (rPHC, region 62) and amygdala (rAMYG, region 40)) as <b>Epileptic Zone (EZ)</b> with an epileptogenicity parameter value equal to <b>- 1.6</b>, </li><br>\n",
    "    <li>and two lesser epileptogenic regions: the inferior temporal cortex (rTCI, region 69) and the ventral temporal cortex (rTCV, region 72) as <b>Propagation Zone (PZ)</b>, with an epileptogenicity parameter value equal to <b>- 1.8</b>,</li><br>\n",
    "    <li>and all the other regions (or <b>Non-Epileptogenic Zone, NEZ</b>) are set to -2.4.</li><br>\n",
    "</ul><br>\n",
    "</font></div></p> "
   ]
  },
  {
   "cell_type": "markdown",
   "metadata": {},
   "source": [
    "Initialise a Connectivity."
   ]
  },
  {
   "cell_type": "code",
   "execution_count": null,
   "metadata": {},
   "outputs": [],
   "source": [
    "con = connectivity.Connectivity(load_default=True)\n",
    "N = con.weights.shape[0]\n",
    "con.weights - con.weights * np.eye(N, N)\n",
    "con.weights = con.weights / np.abs(con.weights.max())\n",
    "con.tract_lengths = np.zeros((con.tract_lengths.shape))             # no time-delays \n",
    "con.configure()"
   ]
  },
  {
   "cell_type": "markdown",
   "metadata": {},
   "source": [
    "Initialise the complete model."
   ]
  },
  {
   "cell_type": "code",
   "execution_count": null,
   "metadata": {},
   "outputs": [],
   "source": [
    "Epileptor5D = models.epileptor.Epileptor(Ks=1, r=0.00015)\n",
    "Epileptor5D.x0 = np.ones((76))*-2.4                #NEZ\n",
    "Epileptor5D.x0[[62, 47, 40]] = np.ones((3))*-1.6   #EZ\n",
    "Epileptor5D.x0[[69, 72]] = np.ones((2))*-1.8       #PZ"
   ]
  },
  {
   "cell_type": "markdown",
   "metadata": {},
   "source": [
    "nitial conditions."
   ]
  },
  {
   "cell_type": "code",
   "execution_count": null,
   "metadata": {},
   "outputs": [],
   "source": [
    "Epileptor5D.state_variable_range[\"x1\"] = [-1.8, -1.8]\n",
    "Epileptor5D.state_variable_range[\"y1\"] = [-15, -15]\n",
    "Epileptor5D.state_variable_range[\"x2\"] = [-1, -1]\n",
    "Epileptor5D.state_variable_range[\"y2\"] = [0.01, 0.01]\n",
    "Epileptor5D.state_variable_range[\"z\"] = [3.6, 3.6]"
   ]
  },
  {
   "cell_type": "code",
   "execution_count": null,
   "metadata": {},
   "outputs": [],
   "source": [
    "Epileptor5D.variables_of_interest = ['x2 - x1', 'x1', 'z']"
   ]
  },
  {
   "cell_type": "markdown",
   "metadata": {},
   "source": [
    "Initialise Simulator."
   ]
  },
  {
   "cell_type": "code",
   "execution_count": null,
   "metadata": {},
   "outputs": [],
   "source": [
    "sim = simulator.Simulator(model=Epileptor5D, \n",
    "                          connectivity=con,\n",
    "                          coupling=coupling.Difference(a=-0.2), \n",
    "                          integrator=integrators.HeunDeterministic(dt=0.05), \n",
    "                          monitors=monitors.TemporalAverage(period=1.))"
   ]
  },
  {
   "cell_type": "code",
   "execution_count": null,
   "metadata": {},
   "outputs": [],
   "source": [
    "sim.configure()"
   ]
  },
  {
   "cell_type": "code",
   "execution_count": null,
   "metadata": {},
   "outputs": [],
   "source": [
    "print(\"Starting simulation...\")\n",
    "tic = tm.time()\n",
    "(t, y), = sim.run(simulation_length=10000)\n",
    "print(\"Finished simulation.\")\n",
    "print(('execute for' + str(tm.time()-tic)))"
   ]
  },
  {
   "cell_type": "markdown",
   "metadata": {},
   "source": [
    "Initialise the reduced model."
   ]
  },
  {
   "cell_type": "code",
   "execution_count": null,
   "metadata": {},
   "outputs": [],
   "source": [
    "Epileptor2D = models.epileptor.Epileptor2D(Ks=1, r=0.00015)\n",
    "Epileptor2D.x0 = np.ones((76))*-2.4               #NEZ\n",
    "Epileptor2D.x0[[62, 47, 40]] = np.ones((3))*-1.6  #EZ\n",
    "Epileptor2D.x0[[69, 72]] = np.ones((2))*-1.8      #PZ"
   ]
  },
  {
   "cell_type": "markdown",
   "metadata": {},
   "source": [
    "nitial conditions."
   ]
  },
  {
   "cell_type": "code",
   "execution_count": null,
   "metadata": {},
   "outputs": [],
   "source": [
    "Epileptor2D.state_variable_range[\"x1\"] = [-1.8, -1.8]\n",
    "Epileptor2D.state_variable_range[\"z\"] = [3.6, 3.6]"
   ]
  },
  {
   "cell_type": "markdown",
   "metadata": {},
   "source": [
    "Initialise Simulator."
   ]
  },
  {
   "cell_type": "code",
   "execution_count": null,
   "metadata": {},
   "outputs": [],
   "source": [
    "sim = simulator.Simulator(model=Epileptor2D, \n",
    "                          connectivity=con,\n",
    "                          coupling=coupling.Difference(a=-0.2), \n",
    "                          integrator=integrators.HeunDeterministic(dt=0.05), \n",
    "                          monitors=monitors.TemporalAverage(period=1.))"
   ]
  },
  {
   "cell_type": "code",
   "execution_count": null,
   "metadata": {},
   "outputs": [],
   "source": [
    "sim.configure()"
   ]
  },
  {
   "cell_type": "code",
   "execution_count": null,
   "metadata": {},
   "outputs": [],
   "source": [
    "print(\"Starting simulation...\")\n",
    "tic = tm.time()\n",
    "(s, z), = sim.run(simulation_length=10000)\n",
    "print(\"Finished simulation.\")\n",
    "print(('execute for' + str(tm.time()-tic)))"
   ]
  },
  {
   "cell_type": "markdown",
   "metadata": {},
   "source": [
    "Normalize the time series to have nice plots"
   ]
  },
  {
   "cell_type": "code",
   "execution_count": null,
   "metadata": {},
   "outputs": [],
   "source": [
    "y /= (np.max(y, 0) - np.min(y, 0))\n",
    "y -= np.mean(y, 0)\n",
    "z /= (np.max(z, 0) - np.min(z, 0))\n",
    "z -= np.mean(z, 0)"
   ]
  },
  {
   "cell_type": "markdown",
   "metadata": {},
   "source": [
    "Plot time series"
   ]
  },
  {
   "cell_type": "code",
   "execution_count": null,
   "metadata": {},
   "outputs": [],
   "source": [
    "figure(figsize=(10,10))\n",
    "plot(t[:], y[:, 1, :, 0] + np.r_[:76], 'C3')\n",
    "plot(s[:], z[:, 0, :, 0] + np.r_[:76], 'C0')\n",
    "title(\"Epileptors 5D (red) vs. 2D (blue) time series\", fontsize=15)\n",
    "xlabel('Time [ms]', fontsize=15)\n",
    "yticks(np.arange(len(sim.connectivity.region_labels)), sim.connectivity.region_labels, fontsize=6)\n",
    "show()"
   ]
  },
  {
   "cell_type": "markdown",
   "metadata": {},
   "source": [
    "<p><div style=\"text-align: justify\"><font size=\"4.5\" face=\"time roman\">Both systems show <b>good correspondance</b> with slight differences in the intrinsic frequencies.</font></div></p>"
   ]
  },
  {
   "cell_type": "markdown",
   "metadata": {},
   "source": [
    "<h1><font size=\"6\" face=\"arial\" color=\"black\">3. Modification of the slow permittivity variable $z$ dynamics</font></h1><br>\n",
    "<br>\n",
    "<p><div style=\"text-align: justify\"><font size=\"4.5\" face=\"time roman\">The duration of the ictal and interictal state is approximately the same in the Epileptor, which is not the case in clinical situations, where the <b>interictal period</b> is typically <b>longer</b>. To this end, we use a <b>slight modification</b> of the Epileptor equations and replace the linear influence of $x_{1}$ on the slow permittivity variable $z$ by the <b>nonlinear function</b> $\\pmb{h}$ causing a symmetry breaking between ictal and interictal period with an increase of the latter. The Epileptor equations with the here used modification read then as follows:</font></div></p><br>\n",
    "<br>\n",
    "\\begin{eqnarray}<br>\n",
    "    \\dot{x}_{1,i} &=& - x_{1,i}^{3} - 2x_{1,i}^{2} + 1 + I_{ext_{1}}\\\\<br>\n",
    "    \\dot{z}_{i} &=& \\dfrac{1}{\\tau_{0}} \\ (h(x_{1,i}) - z_{i} - K{s}\\sum_{j=1}^{N}C_{ij}(x_{1,j} - x_{1,i})))<br>\n",
    "\\end{eqnarray}<br>\n",
    "<br>\n",
    "<p><div style=\"text-align: justify\"><font size=\"4.5\" face=\"time roman\">where</font></div></p><br>\n",
    "<br>\n",
    "\\begin{eqnarray}<br>\n",
    "    h(x_{1,i}) = x_{0,i} + 3. \\ / \\left(1 + \\exp\\left(\\dfrac{-x_{1,i} - 0.5}{0.1}\\right)\\right)<br>\n",
    "\\end{eqnarray}"
   ]
  },
  {
   "cell_type": "markdown",
   "metadata": {},
   "source": [
    "<p><div style=\"text-align: justify\"><font size=\"4.5\" face=\"time roman\">First, we have a look to the phase space of the <b>2D system</b> for the <b>modified Epileptor</b> equations (see Fig. 8B in Proix et al., 2014).</font></div></p>"
   ]
  },
  {
   "cell_type": "code",
   "execution_count": null,
   "metadata": {},
   "outputs": [],
   "source": [
    "from tvb.simulator.plot.phase_plane_interactive import PhasePlaneInteractive"
   ]
  },
  {
   "cell_type": "markdown",
   "metadata": {},
   "source": [
    "Create an Epileptor model instance."
   ]
  },
  {
   "cell_type": "code",
   "execution_count": null,
   "metadata": {},
   "outputs": [],
   "source": [
    "epim = models.epileptor.Epileptor2D(x0=2, modification=1)"
   ]
  },
  {
   "cell_type": "markdown",
   "metadata": {},
   "source": [
    "Initialise a stochastic Integrator scheme."
   ]
  },
  {
   "cell_type": "code",
   "execution_count": null,
   "metadata": {},
   "outputs": [],
   "source": [
    "dt = 0.75                                           #integration steps [ms]\n",
    "heundetint = integrators.HeunDeterministic(dt=dt)\n",
    "#heunstochint = integrators.HeunStochastic(dt=dt)\n",
    "#heunstochint.noise.nsig = 0.01                      #standard deviation of the noise "
   ]
  },
  {
   "cell_type": "markdown",
   "metadata": {},
   "source": [
    "Open the phase plane tool with the Epileptor model and (stochastic) Integrator."
   ]
  },
  {
   "cell_type": "code",
   "execution_count": null,
   "metadata": {},
   "outputs": [],
   "source": [
    "ppi_fig = PhasePlaneInteractive(model=epim, integrator=heundetint)\n",
    "ppi_fig.show()"
   ]
  },
  {
   "cell_type": "markdown",
   "metadata": {},
   "source": [
    "<p><div style=\"text-align: justify\"><font size=\"4.5\" face=\"time roman\">According to the value of the parameter $\\pmb{x_{0}}$, the sigmoid nullcline (green curve) moves up and down, changing the number and stability of the fixed points. Two typical trajectories are possible:<br>\n",
    "<br>\n",
    "<ul><br>\n",
    "    <li>For $\\pmb{x_{0} > 2.91}$, the trajectory is attracted to the <b>stable fixed point</b> in the interictal state on the left cubic nullcline and the Epileptor is said <b>not epileptogenic</b>, meaning not triggering epileptic seizure without external input. </li><br><br>\n",
    "    <li>For $\\pmb{x_{0} < 2.91}$, the two left most fixed points disappear through a SNIC bifurcation, and there is only <b>one unstable fixed point</b> left. The Epileptor enters an <b>oscillatory regime</b> and the Epileptor is said to be <b>epileptogenic</b>, triggering seizures autonomously.</li><br>\n",
    "</ul><br>\n",
    "</font></div></p>"
   ]
  },
  {
   "cell_type": "markdown",
   "metadata": {},
   "source": [
    "Initialise the Model."
   ]
  },
  {
   "cell_type": "code",
   "execution_count": null,
   "metadata": {},
   "outputs": [],
   "source": [
    "Epileptormod = models.epileptor.Epileptor2D(Ks=1., r=0.00025, modification=1)\n",
    "Epileptormod.x0 = np.ones((76)) * 3.5\n",
    "Epileptormod.x0[[62, 47, 40]] = np.ones((3)) * 2.\n",
    "Epileptormod.x0[[69, 72]] = np.ones((2)) * 2.3"
   ]
  },
  {
   "cell_type": "code",
   "execution_count": null,
   "metadata": {},
   "outputs": [],
   "source": [
    "Epileptormod.state_variable_range[\"x1\"] = [-1.8, -1.8]\n",
    "Epileptormod.state_variable_range[\"z\"] = [3.6, 3.6]"
   ]
  },
  {
   "cell_type": "code",
   "execution_count": null,
   "metadata": {},
   "outputs": [],
   "source": [
    "sim = simulator.Simulator(model=Epileptormod, \n",
    "                          connectivity=con,\n",
    "                          coupling=coupling.Difference(a=-0.2), \n",
    "                          integrator=integrators.HeunDeterministic(dt=0.05), \n",
    "                          monitors=monitors.TemporalAverage(period=1.))"
   ]
  },
  {
   "cell_type": "code",
   "execution_count": null,
   "metadata": {},
   "outputs": [],
   "source": [
    "sim.configure()"
   ]
  },
  {
   "cell_type": "code",
   "execution_count": null,
   "metadata": {},
   "outputs": [],
   "source": [
    "print(\"Starting simulation...\")\n",
    "tic = tm.time()\n",
    "(s_, z_),  = sim.run(simulation_length=10000)\n",
    "print(\"Finished simulation.\")\n",
    "print(('execute for' + str(tm.time()-tic)))"
   ]
  },
  {
   "cell_type": "markdown",
   "metadata": {},
   "source": [
    "Normalize the time series to have nice plots"
   ]
  },
  {
   "cell_type": "code",
   "execution_count": null,
   "metadata": {},
   "outputs": [],
   "source": [
    "z_ /= (np.max(z_,0) - np.min(z_,0 ))\n",
    "z_ -= np.mean(z_, 0)"
   ]
  },
  {
   "cell_type": "markdown",
   "metadata": {},
   "source": [
    "Plot time series"
   ]
  },
  {
   "cell_type": "code",
   "execution_count": null,
   "metadata": {},
   "outputs": [],
   "source": [
    "figure(figsize=(10,10))\n",
    "#plot(s[:], z[:, 0, :, 0] + np.r_[:76], 'C4')\n",
    "plot(s_[:], z_[:, 0, :, 0] + np.r_[:76], 'C0')\n",
    "title(\"Modified Epileptors time series\", fontsize=15)\n",
    "xlabel('Time [ms]', fontsize=15)\n",
    "yticks(np.arange(len(sim.connectivity.region_labels)), sim.connectivity.region_labels, fontsize=6)\n",
    "show()"
   ]
  }
 ],
 "metadata": {
  "kernelspec": {
   "display_name": "Python 3",
   "language": "python",
   "name": "python3"
  },
  "language_info": {
   "codemirror_mode": {
    "name": "ipython",
    "version": 3
   },
   "file_extension": ".py",
   "mimetype": "text/x-python",
   "name": "python",
   "nbconvert_exporter": "python",
   "pygments_lexer": "ipython3",
   "version": "3.7.0"
  }
 },
 "nbformat": 4,
 "nbformat_minor": 2
}
