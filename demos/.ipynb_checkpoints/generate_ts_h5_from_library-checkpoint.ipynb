{
 "cells": [
  {
   "cell_type": "code",
   "execution_count": null,
   "metadata": {},
   "outputs": [],
   "source": [
    "#!/usr/bin/env python\n",
    "# coding: utf-8"
   ]
  },
  {
   "cell_type": "markdown",
   "metadata": {},
   "source": [
    "# Generate TimeSeries H5 from Library Profile to import in Web GUI<br>\n",
    "<br>\n",
    "<br>\n",
    "TVB has the custom notion of \"profile\". Based on the selected TVB profile, we enable/disable some TVB modules and default features (storage, load defaults).<br>\n",
    "<br>\n",
    "We make a clear distinction between running TVB under WEB_PROFILE or LIBRARY_PROFILE.<br>\n",
    "<br>\n",
    "Currently it is not possible to switch in the same code from one TVB profile to another, but it is  possible to share data, as described in the current demo. <br>\n",
    "<br>\n",
    "You can find more info about TVB profiles here: http://docs.thevirtualbrain.org/manuals/UserGuide/UserGuide-Shell.html#tvb-profiles"
   ]
  },
  {
   "cell_type": "markdown",
   "metadata": {},
   "source": [
    "## Step 1<br>\n",
    "<br>\n",
    "Let us start by running a standard TVB simulation, with the LIBRARY_PROFILE <br>\n",
    "(from tvb.simulator.lab import * will set the LIBRARY_PROFILE)."
   ]
  },
  {
   "cell_type": "code",
   "execution_count": null,
   "metadata": {},
   "outputs": [],
   "source": [
    "get_ipython().magic('pylab nbagg')\n",
    "from tvb.simulator.lab import *\n",
    "from tvb.datatypes import time_series\n",
    "from tvb.basic.config import settings\n",
    "import numpy as np"
   ]
  },
  {
   "cell_type": "code",
   "execution_count": null,
   "metadata": {},
   "outputs": [],
   "source": [
    "jrm = models.JansenRit(mu=0., v0=6.)\n",
    "monitor = monitors.TemporalAverage(period=2 ** -2)"
   ]
  },
  {
   "cell_type": "code",
   "execution_count": null,
   "metadata": {},
   "outputs": [],
   "source": [
    "phi_n_scaling = (jrm.a * jrm.A * (jrm.p_max-jrm.p_min) * 0.5 )**2 / 2.\n",
    "sigma         = numpy.zeros(6) \n",
    "sigma[3]      = phi_n_scaling"
   ]
  },
  {
   "cell_type": "markdown",
   "metadata": {},
   "source": [
    "the other aspects of the simulator are standard"
   ]
  },
  {
   "cell_type": "code",
   "execution_count": null,
   "metadata": {},
   "outputs": [],
   "source": [
    "sim = simulator.Simulator(\n",
    "    model=jrm,\n",
    "    connectivity=connectivity.Connectivity(load_default=True),\n",
    "    coupling=coupling.SigmoidalJansenRit(a=10.0),\n",
    "    integrator=integrators.HeunStochastic(dt=2 ** -4, noise=noise.Additive(nsig=sigma)),\n",
    "    monitors=[monitor],\n",
    "    simulation_length=1e3,\n",
    ").configure()"
   ]
  },
  {
   "cell_type": "markdown",
   "metadata": {},
   "source": [
    "run it"
   ]
  },
  {
   "cell_type": "code",
   "execution_count": null,
   "metadata": {},
   "outputs": [],
   "source": [
    "(time_array, data_array), = sim.run()"
   ]
  },
  {
   "cell_type": "markdown",
   "metadata": {},
   "source": [
    "## Step 2<br>\n",
    "<br>\n",
    "#### 2.1 Define some helper functions for writing an H5 file."
   ]
  },
  {
   "cell_type": "code",
   "execution_count": null,
   "metadata": {},
   "outputs": [],
   "source": [
    "import uuid\n",
    "import json\n",
    "from datetime import datetime"
   ]
  },
  {
   "cell_type": "code",
   "execution_count": null,
   "metadata": {},
   "outputs": [],
   "source": [
    "BOOL_VALUE_PREFIX = \"bool:\"\n",
    "DATETIME_VALUE_PREFIX = \"datetime:\"\n",
    "DATE_TIME_FORMAT = '%Y-%m-%d %H:%M:%S.%f'"
   ]
  },
  {
   "cell_type": "code",
   "execution_count": null,
   "metadata": {},
   "outputs": [],
   "source": [
    "def date2string(date_input, complex_format=True, date_format=None):\n",
    "    \"\"\"Convert date into string, after internal format\"\"\"\n",
    "    if date_input is None:\n",
    "        return \"None\"\n",
    "    if date_format is not None:\n",
    "        return date_input.strftime(date_format)\n",
    "    if complex_format:\n",
    "        return date_input.strftime(COMPLEX_TIME_FORMAT)\n",
    "    return date_input.strftime(SIMPLE_TIME_FORMAT)"
   ]
  },
  {
   "cell_type": "code",
   "execution_count": null,
   "metadata": {},
   "outputs": [],
   "source": [
    "def serialize_value(value):\n",
    "    \"\"\"\n",
    "    This method takes a value which will be stored as metadata and \n",
    "    apply some transformation if necessary\n",
    "      \n",
    "    :param value: value which is planned to be stored\n",
    "    :returns:  value to be stored\n",
    "     \"\"\"\n",
    "    if value is None:\n",
    "        return ''\n",
    "    # Force unicode strings to simple strings.\n",
    "    if isinstance(value, str):\n",
    "        return str(value)\n",
    "    # Transform boolean to string and prefix it\n",
    "    elif isinstance(value, bool):\n",
    "        return BOOL_VALUE_PREFIX + str(value)\n",
    "    # Transform date to string and append prefix\n",
    "    elif isinstance(value, datetime):\n",
    "        return DATETIME_VALUE_PREFIX + date2string(value, date_format=DATE_TIME_FORMAT)\n",
    "    else:\n",
    "        return json.dumps(value)\n",
    "    \n",
    "    \n",
    "def generate_guid():\n",
    "    \"\"\" \n",
    "    Generate new Global Unique Identifier.\n",
    "    This identifier should be unique per each station, \n",
    "    and unique for different machines.\n",
    "    \"\"\"\n",
    "    return str(uuid.uuid1())"
   ]
  },
  {
   "cell_type": "markdown",
   "metadata": {},
   "source": [
    "#### 2.2  Now actually write the simulation result in a H5 file."
   ]
  },
  {
   "cell_type": "code",
   "execution_count": null,
   "metadata": {},
   "outputs": [],
   "source": [
    "import h5py\n",
    "f = h5py.File(\"TimeSeriesRegion.h5\", 'w')"
   ]
  },
  {
   "cell_type": "code",
   "execution_count": null,
   "metadata": {},
   "outputs": [],
   "source": [
    "series_of_time = time_series.TimeSeries(data=data_array, time=time_array, sample_period=monitor.period)\n",
    "state_variable_dimension_name = series_of_time.labels_ordering[1]\n",
    "selected_vois = [jrm.variables_of_interest[idx] for idx in monitor.voi]\n",
    "series_of_time.labels_dimensions[state_variable_dimension_name] = selected_vois\n",
    "series_of_time.configure()"
   ]
  },
  {
   "cell_type": "code",
   "execution_count": null,
   "metadata": {},
   "outputs": [],
   "source": [
    "time_set = f.create_dataset(\"time\",data=series_of_time.time, maxshape=(None,))\n",
    "time_set.attrs['TVB_Minimum'] = np.min(series_of_time.time)\n",
    "time_set.attrs['TVB_Maximum'] = np.max(series_of_time.time)\n",
    "time_set.attrs['TVB_Mean'] = np.mean(series_of_time.time)"
   ]
  },
  {
   "cell_type": "code",
   "execution_count": null,
   "metadata": {},
   "outputs": [],
   "source": [
    "data_set = f.create_dataset(\"data\",data=series_of_time.data)\n",
    "data_set.attrs['TVB_Minimum'] = np.min(series_of_time.data)\n",
    "data_set.attrs['TVB_Maximum'] = np.max(series_of_time.data)\n",
    "data_set.attrs['TVB_Mean'] = np.mean(series_of_time.data)"
   ]
  },
  {
   "cell_type": "markdown",
   "metadata": {},
   "source": [
    "#### 2.3 And make sure all necessary metadata is in place in the H5 file, for TVB web GUI to recognize it at import time"
   ]
  },
  {
   "cell_type": "code",
   "execution_count": null,
   "metadata": {},
   "outputs": [],
   "source": [
    "from tvb.basic.profile import TvbProfile"
   ]
  },
  {
   "cell_type": "code",
   "execution_count": null,
   "metadata": {},
   "outputs": [],
   "source": [
    "f.attrs['TVB_Connectivity'] = \"f6be362b-5bb4-11e5-8b0d-a45e60e5b22f\"\n",
    "f.attrs['TVB_Create_date'] = serialize_value(datetime.now())\n",
    "f.attrs['TVB_Data_version'] = TvbProfile.current.version.DATA_VERSION\n",
    "f.attrs['TVB_Gid'] = generate_guid()\n",
    "f.attrs['TVB_Has_surface_mapping'] = \"true\"\n",
    "f.attrs['TVB_Has_volume_mapping'] = \"false\"\n",
    "f.attrs['TVB_Invalid'] = serialize_value(False)\n",
    "f.attrs['TVB_Is_nan'] = serialize_value(bool(np.isnan(data_array).any()))\n",
    "f.attrs['TVB_Labels_dimensions'] = serialize_value(series_of_time.labels_dimensions)\n",
    "f.attrs['TVB_Labels_ordering'] = serialize_value(series_of_time.labels_ordering)\n",
    "f.attrs['TVB_Length_1d'] = serialize_value(series_of_time.length_1d)\n",
    "f.attrs['TVB_Length_2d'] = serialize_value(series_of_time.length_2d)\n",
    "f.attrs['TVB_Length_3d'] = serialize_value(series_of_time.length_3d)\n",
    "f.attrs['TVB_Length_4d'] = serialize_value(series_of_time.length_4d)\n",
    "f.attrs['TVB_Module'] = \"tvb.datatypes.time_series\"\n",
    "f.attrs['TVB_Nr_dimensions'] = serialize_value(series_of_time.nr_dimensions)\n",
    "f.attrs['TVB_Region_mapping'] = \"002d1d23-5bb5-11e5-999a-a45e60e5b22f\"\n",
    "f.attrs['TVB_Sample_period'] = serialize_value(series_of_time.sample_period)\n",
    "f.attrs['TVB_Sample_period_unit'] = serialize_value(series_of_time.sample_period_unit)\n",
    "f.attrs['TVB_Sample_rate'] = serialize_value(series_of_time.sample_rate)\n",
    "f.attrs['TVB_Start_time'] = serialize_value(series_of_time.start_time)\n",
    "f.attrs['TVB_State'] = \"INTERMEDIATE\"\n",
    "f.attrs['TVB_Subject'] = \"FromIPython\"\n",
    "f.attrs['TVB_Title'] = serialize_value(series_of_time.title)\n",
    "f.attrs['TVB_Type'] = \"TimeSeriesRegion\"\n",
    "f.attrs['TVB_User_tag_1'] = \"You can type any text you want here\"\n",
    "f.attrs['TVB_User_tag_2'] = \"\"\n",
    "f.attrs['TVB_User_tag_3'] = \"\"\n",
    "f.attrs['TVB_User_tag_4'] = \"\"\n",
    "f.attrs['TVB_User_tag_5'] = \"\"\n",
    "f.attrs['TVB_Visible'] = serialize_value(True)"
   ]
  },
  {
   "cell_type": "code",
   "execution_count": null,
   "metadata": {},
   "outputs": [],
   "source": [
    "f.close()"
   ]
  },
  {
   "cell_type": "markdown",
   "metadata": {},
   "source": [
    "#### 2.4  Now you should have a file named \"TimeSeriesRegion.h5\" in the current folder where ipython notebook has been launched. <br>\n",
    "<br>\n",
    "You can take this \"TimeSeriesRegion.h5\" file and import it into TVB web GUI, as described here:<br>\n",
    "http://docs.thevirtualbrain.org/manuals/UserGuide/UserGuide-UI_Project.html#data-structure<br>\n",
    "<br>\n",
    "After import in TVB web GUI, you will have a new TimeSeriesRegion file in your current project, which can be used with TVB web visualizers.<br>\n",
    "<br>\n"
   ]
  }
 ],
 "metadata": {
  "kernelspec": {
   "display_name": "Python 3",
   "language": "python",
   "name": "python3"
  },
  "language_info": {
   "codemirror_mode": {
    "name": "ipython",
    "version": 3
   },
   "file_extension": ".py",
   "mimetype": "text/x-python",
   "name": "python",
   "nbconvert_exporter": "python",
   "pygments_lexer": "ipython3",
   "version": "3.7.0"
  }
 },
 "nbformat": 4,
 "nbformat_minor": 2
}
