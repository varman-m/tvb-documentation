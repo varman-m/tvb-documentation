{
 "cells": [
  {
   "cell_type": "code",
   "execution_count": null,
   "metadata": {},
   "outputs": [],
   "source": [
    "#!/usr/bin/env python\n",
    "# coding: utf-8"
   ]
  },
  {
   "cell_type": "markdown",
   "metadata": {},
   "source": [
    "# Simulate resting state dynamics in mouse brain<br>\n",
    "<br>\n",
    "This demo shows how to simulate and analyze resting state dynamics in mouse brain using as connectome a tracer-based connectome built thanks to the Allen Connectivity Builder.<br>\n",
    "<br>\n",
    "The results showed here are discussed in Melozzi et al., 2016 [1]<br>\n",
    "<br>\n",
    "<br>\n",
    "<br>\n",
    "First, we import all the required dependencies"
   ]
  },
  {
   "cell_type": "code",
   "execution_count": null,
   "metadata": {},
   "outputs": [],
   "source": [
    "from tvb.simulator.lab import *\n",
    "LOG = get_logger('demo')\n",
    "from tvb.simulator.plot.tools import *\n",
    "import numpy as np\n",
    "import pylab\n",
    "import matplotlib.pyplot as plt\n",
    "get_ipython().magic('matplotlib inline')\n",
    "matplotlib.rcParams['figure.figsize'] = (20.0, 10.0)"
   ]
  },
  {
   "cell_type": "markdown",
   "metadata": {},
   "source": [
    "## The Connectome<br>\n",
    "<br>\n",
    "In order to built the mouse brain network we used a tracer-based connectome.<br>\n",
    "<br>\n",
    "In particular we used a structural connectivity matrix (stored in the data folder of TVB), which is built thanks to the Allen Connectivity Builder in TVB.<br>\n",
    "The Allen Connectivity Builder is a tool that download and manipulate the open-source tracer experiments of the Allen Institute (Oh et al., 2014 [2]) in order to built a connectome and the corresponding parcelled volume according to the preferences of the user.<br>\n",
    "<br>\n",
    "The user can choose:<br>\n",
    "<br>\n",
    "  * the resolution of the grid volume in which the experimental data have been registered (here 100 $\\mu m$).<br>\n",
    "  * The definition of the connection strength between source region $i$ and target region $j$. (here $w_{ij}=\\frac{PD_j}{ID_i}$, where PD=projection density, ID=injection density)<br>\n",
    "<br>\n",
    "It is possible to choose the characteristics of the brain areas to be included in the parcellation using the two following criteria:<br>\n",
    " * Only brain areas where at least one injection has infected more than a given threshold of voxels. This kind of selection ensures that only the data with a certain level of experimental relevance is included in the connectome (Oh et al., 2014[2]), (here 50 voxels).<br>\n",
    " * Only brain areas that have a volume greater than a given threshold can be included (here 2$mm^3$).<br>\n",
    "<br>\n",
    "<br>\n",
    "<br>\n",
    "In the following the connectome is loaded in plotted. <br>\n",
    "  "
   ]
  },
  {
   "cell_type": "markdown",
   "metadata": {},
   "source": [
    "Load the connectivity data from the directory tvb_data"
   ]
  },
  {
   "cell_type": "code",
   "execution_count": null,
   "metadata": {},
   "outputs": [],
   "source": [
    "con = connectivity.Connectivity.from_file(\"../mouse/allen_2mm/Connectivity.h5\")"
   ]
  },
  {
   "cell_type": "markdown",
   "metadata": {},
   "source": [
    "Visualize the structural connectivity matrix"
   ]
  },
  {
   "cell_type": "code",
   "execution_count": null,
   "metadata": {},
   "outputs": [],
   "source": [
    "plt.subplots()\n",
    "cs=plt.imshow(np.log10(con.weights), cmap='jet', aspect='equal', interpolation='none')\n",
    "plt.title('Structural connectivity matrix', fontsize=20)\n",
    "axcb=plt.colorbar(cs)\n",
    "axcb.set_label('Log10(weights)', fontsize=20)"
   ]
  },
  {
   "cell_type": "markdown",
   "metadata": {},
   "source": [
    "## The simulation<br>\n",
    "<br>\n",
    "Once the brain network is defined is possible to simulate its activity. Here we simulate resting state dynamics using the reduced Wong Wang model (Deco et al. 2013 [3], Hansen et al., 2015 [4]).<br>\n",
    "<br>\n",
    "In order to convert the synaptic activity in BOLD signals we used the Balloon-Windkessel method (Friston et al., 200 [5]) using the default value implemented in The Virtual Brain."
   ]
  },
  {
   "cell_type": "markdown",
   "metadata": {},
   "source": [
    "Set the parameter of the resting state simulation"
   ]
  },
  {
   "cell_type": "code",
   "execution_count": null,
   "metadata": {},
   "outputs": [],
   "source": [
    "sim = simulator.Simulator(model=models.ReducedWongWang(w=1.0, I_o=0.3),\n",
    "                        connectivity=con,\n",
    "                        coupling=coupling.Linear(a=0.096),\n",
    "                        integrator=integrators.EulerStochastic(dt=0.1, noise=noise.Additive(nsig=0.000013)),\n",
    "                        monitors=(monitors.Bold(period=2e3),\n",
    "                                  monitors.TemporalAverage(period=1e3)),\n",
    "                        simulation_length=1200e3).configure()\n",
    "# Run the resting state simulation\n",
    "(bold_time, bold_data), _ = sim.run()"
   ]
  },
  {
   "cell_type": "markdown",
   "metadata": {},
   "source": [
    "The simulated bold signals can be visualized using matplotlib library."
   ]
  },
  {
   "cell_type": "markdown",
   "metadata": {},
   "source": [
    "Display the simulated bold timeseries"
   ]
  },
  {
   "cell_type": "code",
   "execution_count": null,
   "metadata": {},
   "outputs": [],
   "source": [
    "plt.subplots()\n",
    "plt.plot(bold_time,bold_data[:,0,:,0])\n",
    "plt.xlabel('Time (ms)', fontsize=20)\n",
    "plt.ylabel('Amplitude (au)', fontsize=20)\n",
    "plt.title('Simulated BOLD timeseries', fontsize=20)"
   ]
  },
  {
   "cell_type": "markdown",
   "metadata": {},
   "source": [
    "## Analysis<br>\n",
    "<br>\n",
    "The simulated BOLD signals can be analyzed in different way. <br>\n",
    "<br>\n",
    "### Functional Connectivity Dynamics<br>\n",
    "In particular here we focus on the Functional Connectivity Dynamics (FCD) a metric which is able to quantify the evolution of the functional states in time. There are several ways to estimate FCD (for a review Preti et al., 2016 [6]), TVB uses the sliding windows technique.<br>\n",
    "<br>\n",
    "<br>\n",
    "In order to estimate the FCD using the sliding window technique, the entire BOLD time-series is divided in time windows of a fixed length (3 min) and with an overlap of 176 s; the data points within each window centered at the time $t_i$ were used to calculate FC($t_i$). <br>\n",
    "The \\emph{ij}-th element of the FCD matrix is calculated as the Pearson correlation between the upper triangular part of the $FC(t_i)$ matrix arranged as a vector and the upper triangular part of the $FC(t_j)$ matrix arranged as a vector.<br>\n",
    "<br>\n",
    "<br>\n",
    "The FCD matrix allows identifying the epochs of stable FC configurations as blocks of elevated inter-$FC(t)$ correlation; these blocks are organized around the diagonal of the FCD matrix (Hansen et al., 2015 [4]).<br>\n",
    "<br>\n",
    "<br>\n",
    "In order to identify the epochs of stable FC configurations, TVB uses the spectral embedding method, that permits to group together the nodes of the FCD, i.e. the different time windows, in clusters."
   ]
  },
  {
   "cell_type": "markdown",
   "metadata": {},
   "source": [
    " Calculate the FCD matrix for the bold timeseries"
   ]
  },
  {
   "cell_type": "code",
   "execution_count": null,
   "metadata": {},
   "outputs": [],
   "source": [
    "import tvb.analyzers.fcd_matrix as fcd\n",
    "from tvb.datatypes.time_series import TimeSeriesRegion"
   ]
  },
  {
   "cell_type": "markdown",
   "metadata": {},
   "source": [
    "Build the time series object"
   ]
  },
  {
   "cell_type": "code",
   "execution_count": null,
   "metadata": {},
   "outputs": [],
   "source": [
    "tsr = TimeSeriesRegion(connectivity=sim.connectivity,\n",
    "                       data=bold_data,\n",
    "                       sample_period=sim.monitors[0].period)\n",
    "tsr.configure()"
   ]
  },
  {
   "cell_type": "markdown",
   "metadata": {},
   "source": [
    "Create and evaluate the analysis"
   ]
  },
  {
   "cell_type": "code",
   "execution_count": null,
   "metadata": {},
   "outputs": [],
   "source": [
    "wind_len=180e3 # windows length (ms)\n",
    "wind_sp=4e3 # spanning between sliding windows (ms)\n",
    "fcd_analyser = fcd.FcdCalculator(time_series=tsr, sw=wind_len, sp=wind_sp)\n",
    "fcd_data = fcd_analyser.evaluate()"
   ]
  },
  {
   "cell_type": "markdown",
   "metadata": {},
   "source": [
    "Store the results"
   ]
  },
  {
   "cell_type": "code",
   "execution_count": null,
   "metadata": {},
   "outputs": [],
   "source": [
    "FCD=fcd_data[0][:,:,0,0]\n",
    "FCD_segmented=fcd_data[1][:,:,0,0]"
   ]
  },
  {
   "cell_type": "markdown",
   "metadata": {},
   "source": [
    "The original and segmented FCD matrices can be visualized using the matplotlib library.<br>\n"
   ]
  },
  {
   "cell_type": "markdown",
   "metadata": {},
   "source": [
    "Plot the FCD matrix and the FCD matrix segmented in the epochs"
   ]
  },
  {
   "cell_type": "code",
   "execution_count": null,
   "metadata": {},
   "outputs": [],
   "source": [
    "plt.subplot(121)\n",
    "cs=plt.imshow(FCD, cmap='jet', aspect='equal')\n",
    "axcb =plt.colorbar(ticks=[0, 0.5, 1])\n",
    "axcb.set_label(r'CC [FC($t_i$), FC($t_j$)]', fontsize=20)\n",
    "cs.set_clim(0, 1.0)\n",
    "for t in axcb.ax.get_yticklabels():\n",
    "     t.set_fontsize(18)\n",
    "plt.xticks([0,len(FCD)/2-1, len(FCD)-1],['0','10', '20'], fontsize=18)\n",
    "plt.yticks([0,len(FCD)/2-1, len(FCD)-1],['0','10', '20'], fontsize=18)\n",
    "plt.xlabel(r'Time $t_j$ (min)', fontsize=20)\n",
    "plt.ylabel(r'Time $t_i$ (min)', fontsize=20)\n",
    "plt.title('FCD', fontsize=20)"
   ]
  },
  {
   "cell_type": "code",
   "execution_count": null,
   "metadata": {},
   "outputs": [],
   "source": [
    "plt.subplot(122)\n",
    "cs=plt.imshow(FCD_segmented, cmap='jet', aspect='equal')\n",
    "axcb =plt.colorbar(ticks=[0, 0.5, 1])\n",
    "axcb.set_label(r'CC [FC($t_i$), FC($t_j$)]', fontsize=20)\n",
    "cs.set_clim(0, 1.0)\n",
    "for t in axcb.ax.get_yticklabels():\n",
    "     t.set_fontsize(18)\n",
    "plt.xticks([0,len(FCD)/2-1, len(FCD)-1],['0','10', '20'], fontsize=18)\n",
    "plt.yticks([0,len(FCD)/2-1, len(FCD)-1],['0','10', '20'], fontsize=18)\n",
    "plt.xlabel(r'Time $t_j$ (min)', fontsize=20)\n",
    "plt.ylabel(r'Time $t_i$ (min)', fontsize=20)\n",
    "plt.title('FCD segmented', fontsize=20)"
   ]
  },
  {
   "cell_type": "markdown",
   "metadata": {},
   "source": [
    "### Functional hubs<br>\n",
    "<br>\n",
    "The functional connectivity matrix of each epoch defines a functional network; for each functional network, TVB identifies the hub regions with an approach analogous to the one used in graph theory for defining the eigenvector centrality of a network node (Newman 2008 [7]). <br>\n",
    "<br>\n",
    "Here the functional hub regions of the mouse brain are defined as the regions with the largest eigenvector components, in absolute value, associated with the three largest eigenvalues of the FC matrix.<br>\n",
    "<br>\n",
    "<br>\n",
    "The functional hubs are an output of the FCD function (that we have just run), so we can save the results and display them in the mouse brain sections."
   ]
  },
  {
   "cell_type": "markdown",
   "metadata": {},
   "source": [
    "Save the functional hubs calculated as output of the FCD function"
   ]
  },
  {
   "cell_type": "code",
   "execution_count": null,
   "metadata": {},
   "outputs": [],
   "source": [
    "Eigvect_dict=fcd_data[2]\n",
    "Eigval_dict=fcd_data[3]"
   ]
  },
  {
   "cell_type": "markdown",
   "metadata": {},
   "source": [
    "Plot the functional hubs extracted in the epochs"
   ]
  },
  {
   "cell_type": "code",
   "execution_count": null,
   "metadata": {},
   "outputs": [],
   "source": [
    "import h5py\n",
    "from mpl_toolkits.axes_grid1 import make_axes_locatable\n",
    "from tvb.basic.readers import try_get_absolute_path"
   ]
  },
  {
   "cell_type": "code",
   "execution_count": null,
   "metadata": {},
   "outputs": [],
   "source": [
    "fig, axes = plt.subplots(3,3)"
   ]
  },
  {
   "cell_type": "code",
   "execution_count": null,
   "metadata": {},
   "outputs": [],
   "source": [
    "mode=0\n",
    "var=0\n",
    "count=1\n",
    "slice_idy=73\n",
    "for ep in range(3):\n",
    "    for eigval in range(3):\n",
    "        f_path = try_get_absolute_path(\"tvb_data\", \"mouse/allen_2mm/RegionVolumeMapping.h5\")\n",
    "        print(\"trying to read \", f_path)\n",
    "        f = h5py.File(f_path, 'r', libver='latest')\n",
    "        Vol=f['array_data'][:,:,:]\n",
    "        f_path = try_get_absolute_path(\"tvb_data\", \"mouse/allen_2mm/StructuralMRI.h5\")\n",
    "        f = h5py.File(f_path, 'r', libver='latest')\n",
    "        template=f['array_data'][:,:,:]\n",
    "        lambda_=Eigval_dict[mode][var][ep+1][eigval]\n",
    "        eig=Eigvect_dict[mode][var][ep+1][eigval] \n",
    "        for i in range(np.shape(eig)[0]):\n",
    "            Vol[Vol==i]=eig[i]\n",
    "        Vol = np.ma.masked_where(Vol < (np.amax(eig)/2), Vol)        \n",
    "        im1 = axes[ep,eigval].imshow((template[:,slice_idy,:].T)[::-1], cmap='gray', vmin=template.min(), vmax=template.max())\n",
    "        cax = axes[ep,eigval].imshow((Vol[:,slice_idy,:].T)[::-1], cmap='YlOrRd', alpha=1, vmin=np.amax(eig)/2., vmax=np.amax(eig))\n",
    "        axes[ep,eigval].axis('off')\n",
    "        axes[ep,eigval].set_title(r'Epoch %s, $\\lambda$ = %1.3f'%(ep+1,lambda_))\n",
    "        divider = make_axes_locatable(axes[ep,eigval])\n",
    "        cax1 = divider.append_axes(\"right\", size=\"5%\", pad=0.05)\n",
    "        axcb=plt.colorbar(cax,cax1,ticks=[np.amax(eig)/2.,np.amax(eig)],orientation='vertical')\n",
    "        axcb.set_ticklabels(['Max/2', 'Max']) \n",
    "        axcb.set_label('Eigenvector components')"
   ]
  },
  {
   "cell_type": "markdown",
   "metadata": {},
   "source": [
    "## References<br>\n",
    "<br>\n",
    "[1] Melozzi, Francesca, Marmaduke Woodman, Viktor Jirsa, and Christophe Bernard. \"The Virtual Mouse Brain: A Computational Neuroinformatics Platform To Study Whole Mouse Brain Dynamics.\" bioRxiv (2017): 123406.<br>\n",
    "<br>\n",
    "<br>\n",
    "[2] Oh, Seung Wook, Julie A. Harris, Lydia Ng, Brent Winslow, Nicholas Cain, Stefan Mihalas, Quanxin Wang et al. \"A mesoscale connectome of the mouse brain.\" Nature 508, no. 7495 (2014): 207-214.<br>\n",
    "<br>\n",
    "<br>\n",
    "[3] Deco Gustavo, Ponce Alvarez Adrian, Dante Mantini, Gian Luca Romani, Patric Hagmann and Maurizio Corbetta. Resting-State Functional Connectivity Emerges from Structurally and Dynamically Shaped Slow Linear Fluctuations. The Journal of Neuroscience 32(27), 11239-11252, 2013.<br>\n",
    "<br>\n",
    "<br>\n",
    "[4] Hansen, Enrique CA, Demian Battaglia, Andreas Spiegler, Gustavo Deco, and Viktor K. Jirsa. \"Functional connectivity dynamics: modeling the switching behavior of the resting state.\" Neuroimage 105 (2015): 525-535.<br>\n",
    "<br>\n",
    "<br>\n",
    "[5] Friston, Karl J., Andrea Mechelli, Robert Turner, and Cathy J. Price. \"Nonlinear responses in fMRI: the Balloon model, Volterra kernels, and other hemodynamics.\" NeuroImage 12, no. 4 (2000): 466-477.<br>\n",
    "<br>\n",
    "<br>\n",
    "[6] Preti, Maria Giulia, Thomas AW Bolton, and Dimitri Van De Ville. \"The dynamic functional connectome: State-of-the-art and perspectives.\" NeuroImage (2016).<br>\n",
    "<br>\n",
    "<br>\n",
    "[7] Newman, Mark EJ. \"The mathematics of networks.\" The new palgrave encyclopedia of economics 2, no. 2008 (2008): 1-12."
   ]
  }
 ],
 "metadata": {
  "kernelspec": {
   "display_name": "Python 3",
   "language": "python",
   "name": "python3"
  },
  "language_info": {
   "codemirror_mode": {
    "name": "ipython",
    "version": 3
   },
   "file_extension": ".py",
   "mimetype": "text/x-python",
   "name": "python",
   "nbconvert_exporter": "python",
   "pygments_lexer": "ipython3",
   "version": "3.7.0"
  }
 },
 "nbformat": 4,
 "nbformat_minor": 2
}
