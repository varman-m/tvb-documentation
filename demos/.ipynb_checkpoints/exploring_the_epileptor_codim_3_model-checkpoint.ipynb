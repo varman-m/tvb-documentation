{
 "cells": [
  {
   "cell_type": "code",
   "execution_count": null,
   "metadata": {},
   "outputs": [],
   "source": [
    "#!/usr/bin/env python\n",
    "# coding: utf-8"
   ]
  },
  {
   "cell_type": "code",
   "execution_count": null,
   "metadata": {},
   "outputs": [],
   "source": [
    "get_ipython().magic('pylab nbagg')\n",
    "from tvb.simulator.lab import *\n",
    "from tvb.simulator.plot.phase_plane_interactive import PhasePlaneInteractive\n",
    "from tvb.simulator.models.epileptorcodim3 import EpileptorCodim3\n",
    "from tvb.simulator.models.epileptorcodim3 import EpileptorCodim3SlowMod\n",
    "from mpl_toolkits.mplot3d import Axes3D"
   ]
  },
  {
   "cell_type": "markdown",
   "metadata": {},
   "source": [
    "# Epileptor codim 3 model<br>\n",
    "<br>\n",
    "The Epileptor codim 3 model, developed by Saggio et al. 2017, is a neural mass model which has a rich set of possible bursting patterns. These bursters correspond to a seizure-like state as recorded in SEEG-recordings of epileptic patients. In this tutorial we will explore a number of classes of bursting which are present in this model.<br>\n",
    "<br>\n",
    "The model consists of a fast and a slow subsystem. The fast subsystem is based on a spherical unfolding of the degenerate Takens-Bogdanov bifurcation. The slow subsystem controls the parameters of the fast subsystem <br>\n",
    "along a path on the spherical unfolding. The class of a burster is determined by which bifurcations happen at onset and offset of the oscillation, which is in turn determined by the path on the spherical unfolding."
   ]
  },
  {
   "cell_type": "code",
   "execution_count": null,
   "metadata": {},
   "outputs": [],
   "source": [
    "Epileptorcd3 = EpileptorCodim3()"
   ]
  },
  {
   "cell_type": "markdown",
   "metadata": {},
   "source": [
    "First we look at the phase plane. The default parameters of the model are setup so we have a Saddle-Node bifurcation at onset and a Saddle-Homoclinic bifucation at offset. This corresponds to bifurcations in the original Epileptor model. By adjusting the variable z, we can travel on the spherical unfolding in a predetermined path. The Saddle-Node bifurcation happens at z=0 and the Saddle Homoclinic bifurcation happens at z=0.14."
   ]
  },
  {
   "cell_type": "code",
   "execution_count": null,
   "metadata": {},
   "outputs": [],
   "source": [
    "Epileptorcd3.state_variable_range = {\"x\": array([-2.0, 2.0]),\n",
    "                 \"y\": array([-2.0, 2.0]),\n",
    "                 \"z\": array([-0.1, 0.3])}\n",
    "ppi_fig = PhasePlaneInteractive(model=Epileptorcd3)\n",
    "ppi_fig.show()\n",
    "Epileptorcd3.state_variable_range = {\"x\": numpy.array([0.4, 0.6]),\n",
    "                 \"y\": numpy.array([-0.1, 0.1]),\n",
    "                 \"z\": numpy.array([0.0, 0.1])}"
   ]
  },
  {
   "cell_type": "markdown",
   "metadata": {},
   "source": [
    "Next we simulate the model to validate that the desired burster happens."
   ]
  },
  {
   "cell_type": "code",
   "execution_count": null,
   "metadata": {},
   "outputs": [],
   "source": [
    "Epileptorcd3.variables_of_interest=['x', 'y', 'z']\n",
    "sim = simulator.Simulator(\n",
    "    model=Epileptorcd3,\n",
    "    connectivity=connectivity.Connectivity(load_default=True),\n",
    "    coupling=coupling.Linear(a=0.0152),\n",
    "    integrator=integrators.HeunDeterministic(dt=2 ** -4),\n",
    "    monitors=monitors.TemporalAverage(period=2 ** -2),\n",
    "    simulation_length=2 ** 10,\n",
    ").configure()"
   ]
  },
  {
   "cell_type": "code",
   "execution_count": null,
   "metadata": {},
   "outputs": [],
   "source": [
    "(tavg_time, tavg_data), = sim.run()"
   ]
  },
  {
   "cell_type": "code",
   "execution_count": null,
   "metadata": {},
   "outputs": [],
   "source": [
    "figure()\n",
    "plot(tavg_time, tavg_data[:, 0, 0, 0], label='x')\n",
    "plot(tavg_time, tavg_data[:, 2, 0, 0], label='z')\n",
    "legend()\n",
    "grid(True)\n",
    "xlabel('Time (ms)')\n",
    "ylabel(\"Temporal average\")\n",
    "show()"
   ]
  },
  {
   "cell_type": "code",
   "execution_count": null,
   "metadata": {},
   "outputs": [],
   "source": [
    "fig2 = figure()\n",
    "ax = fig2.add_subplot(111, projection='3d')\n",
    "ax.plot(tavg_data[:, 0, 0, 0], tavg_data[:, 1, 0, 0], tavg_data[:, 2, 0, 0])\n",
    "plt.grid(True)\n",
    "plt.xlabel('x')\n",
    "plt.ylabel('y')\n",
    "plt.show()"
   ]
  },
  {
   "cell_type": "markdown",
   "metadata": {},
   "source": [
    "# Classes of bursters<br>\n",
    "<br>\n",
    "As stated earlier, the class of burster is affected by which path the bifurcation parameters take on the spherical unfolding of the degenerate Takens-Bogdanov bifurcation. These figures, from Saggio et al. 2017, show the bifurcation diagram of the deg. TB-bifurcation of the focus type. We parametrise theses paths using an arc of a great circle. "
   ]
  },
  {
   "cell_type": "markdown",
   "metadata": {},
   "source": [
    "![Unfolding_r0p4.png](attachment:Unfolding_r0p4.png)<br>\n",
    "![Unfolding_planar.PNG](attachment:Unfolding_planar.PNG)"
   ]
  },
  {
   "cell_type": "markdown",
   "metadata": {},
   "source": [
    "Here are the parameter settings for the bursting classes which are listed above. They are constructed by choosing the vectors A and B as the starting and end point of the arc of the great circle respectively. Note that the bursters happen at different timescales."
   ]
  },
  {
   "cell_type": "markdown",
   "metadata": {},
   "source": [
    "This is a simulation of the 'c0' class which is a Saddle-Node/Saddle-Node burster. While this class behaves like a buster, it does not contain a limit cycle during the oscillatory phase."
   ]
  },
  {
   "cell_type": "code",
   "execution_count": null,
   "metadata": {},
   "outputs": [],
   "source": [
    "A = [0.2649, -0.05246, 0.2951]\n",
    "B = [0.2688, 0.05363, 0.2914]\n",
    "c = 0.001"
   ]
  },
  {
   "cell_type": "code",
   "execution_count": null,
   "metadata": {},
   "outputs": [],
   "source": [
    "sim = simulator.Simulator(\n",
    "    model= EpileptorCodim3(variables_of_interest=['x', 'y', 'z'], mu1_start=-A[1], mu2_start=A[0], nu_start=A[2],mu1_stop=-B[1], mu2_stop=B[0], nu_stop=B[2], c=c),\n",
    "    connectivity=connectivity.Connectivity(load_default=True),\n",
    "    coupling=coupling.Linear(a=0.0152),\n",
    "    integrator=integrators.HeunDeterministic(dt=2 ** -4),\n",
    "    monitors=monitors.TemporalAverage(period=2 ** -2),\n",
    "    simulation_length=2 ** 11,\n",
    ").configure()\n",
    "(tavg_time, tavg_data), = sim.run()\n",
    "figure()\n",
    "plot(tavg_time, tavg_data[:, 0, 0, 0], label='x')\n",
    "plot(tavg_time, tavg_data[:, 2, 0, 0], label='z')\n",
    "legend()\n",
    "grid(True)\n",
    "xlabel('Time (ms)')\n",
    "ylabel(\"Temporal average\")\n",
    "fig2 = figure()\n",
    "ax = fig2.add_subplot(111, projection='3d')\n",
    "ax.plot(tavg_data[:, 0, 0, 0], tavg_data[:, 1, 0, 0], tavg_data[:, 2, 0, 0])\n",
    "plt.grid(True)\n",
    "plt.xlabel('x')\n",
    "plt.ylabel('y')\n",
    "show()"
   ]
  },
  {
   "cell_type": "markdown",
   "metadata": {},
   "source": [
    "This is a simulation of the 'c2s' class which is a Saddle-Node/Saddle-Homoclinic burster. This is the default setting for the Epileptor codim 3 model and is the same burster which is the basis of the original Epileptor model."
   ]
  },
  {
   "cell_type": "code",
   "execution_count": null,
   "metadata": {},
   "outputs": [],
   "source": [
    "A = [0.3448,0.02285,0.2014]\n",
    "B = [0.3351,0.07465,0.2053]\n",
    "c=0.001 "
   ]
  },
  {
   "cell_type": "code",
   "execution_count": null,
   "metadata": {},
   "outputs": [],
   "source": [
    "sim = simulator.Simulator(\n",
    "    model= EpileptorCodim3(variables_of_interest=['x', 'y', 'z'], mu1_start=-A[1], mu2_start=A[0], nu_start=A[2],mu1_stop=-B[1], mu2_stop=B[0], nu_stop=B[2], c=c),\n",
    "    connectivity=connectivity.Connectivity(load_default=True),\n",
    "    coupling=coupling.Linear(a=0.0152),\n",
    "    integrator=integrators.HeunDeterministic(dt=2 ** -4),\n",
    "    monitors=monitors.TemporalAverage(period=2 ** -2),\n",
    "    simulation_length=2 ** 10,\n",
    ").configure()\n",
    "(tavg_time, tavg_data), = sim.run()\n",
    "figure()\n",
    "plot(tavg_time, tavg_data[:, 0, 0, 0], label='x')\n",
    "plot(tavg_time, tavg_data[:, 2, 0, 0], label='z')\n",
    "legend()\n",
    "grid(True)\n",
    "xlabel('Time (ms)')\n",
    "ylabel(\"Temporal average\")\n",
    "fig2 = figure()\n",
    "ax = fig2.add_subplot(111, projection='3d')\n",
    "ax.plot(tavg_data[:, 0, 0, 0], tavg_data[:, 1, 0, 0], tavg_data[:, 2, 0, 0])\n",
    "plt.grid(True)\n",
    "plt.xlabel('x')\n",
    "plt.ylabel('y')\n",
    "show()"
   ]
  },
  {
   "cell_type": "markdown",
   "metadata": {},
   "source": [
    "This is a simulation of the 'c3s' class which is a Saddle-Node/Supercritical Hopf burster."
   ]
  },
  {
   "cell_type": "code",
   "execution_count": null,
   "metadata": {},
   "outputs": [],
   "source": [
    "A = [0.2552,-0.0637,0.3014]\n",
    "B = [0.3496,0.0795,0.1774]\n",
    "c=0.0004 "
   ]
  },
  {
   "cell_type": "code",
   "execution_count": null,
   "metadata": {},
   "outputs": [],
   "source": [
    "sim = simulator.Simulator(\n",
    "    model= EpileptorCodim3(variables_of_interest=['x', 'y', 'z'], mu1_start=-A[1], mu2_start=A[0], nu_start=A[2],mu1_stop=-B[1], mu2_stop=B[0], nu_stop=B[2], c=c),\n",
    "    connectivity=connectivity.Connectivity(load_default=True),\n",
    "    coupling=coupling.Linear(a=0.0152),\n",
    "    integrator=integrators.HeunDeterministic(dt=2 ** -4),\n",
    "    monitors=monitors.TemporalAverage(period=2 ** -2),\n",
    "    simulation_length=2 ** 13,\n",
    ").configure()\n",
    "(tavg_time, tavg_data), = sim.run()\n",
    "figure()\n",
    "plot(tavg_time, tavg_data[:, 0, 0, 0], label='x')\n",
    "plot(tavg_time, tavg_data[:, 2, 0, 0], label='z')\n",
    "legend()\n",
    "grid(True)\n",
    "xlabel('Time (ms)')\n",
    "ylabel(\"Temporal average\")\n",
    "fig2 = figure()\n",
    "ax = fig2.add_subplot(111, projection='3d')\n",
    "ax.plot(tavg_data[:, 0, 0, 0], tavg_data[:, 1, 0, 0], tavg_data[:, 2, 0, 0])\n",
    "plt.grid(True)\n",
    "plt.xlabel('x')\n",
    "plt.ylabel('y')\n",
    "show()"
   ]
  },
  {
   "cell_type": "markdown",
   "metadata": {},
   "source": [
    "This is a simulation of the 'c10s' class which is a Supercritical Hopf/Saddle-Homoclinic burster."
   ]
  },
  {
   "cell_type": "code",
   "execution_count": null,
   "metadata": {},
   "outputs": [],
   "source": [
    "A = [0.3448,0.0228,0.2014]\n",
    "B = [0.3118,0.0670,0.2415]\n",
    "c=0.00005 "
   ]
  },
  {
   "cell_type": "code",
   "execution_count": null,
   "metadata": {},
   "outputs": [],
   "source": [
    "sim = simulator.Simulator(\n",
    "    model= EpileptorCodim3(variables_of_interest=['x', 'y', 'z'], mu1_start=-A[1], mu2_start=A[0], nu_start=A[2],mu1_stop=-B[1], mu2_stop=B[0], nu_stop=B[2], c=c),\n",
    "    connectivity=connectivity.Connectivity(load_default=True),\n",
    "    coupling=coupling.Linear(a=0.0152),\n",
    "    integrator=integrators.HeunDeterministic(dt=2 ** -4),\n",
    "    monitors=monitors.TemporalAverage(period=2 ** -2),\n",
    "    simulation_length=2 ** 14,\n",
    ").configure()\n",
    "(tavg_time, tavg_data), = sim.run()\n",
    "figure()\n",
    "plot(tavg_time, tavg_data[:, 0, 0, 0], label='x')\n",
    "plot(tavg_time, tavg_data[:, 2, 0, 0], label='z')\n",
    "legend()\n",
    "grid(True)\n",
    "xlabel('Time (ms)')\n",
    "ylabel(\"Temporal average\")\n",
    "fig2 = figure()\n",
    "ax = fig2.add_subplot(111, projection='3d')\n",
    "ax.plot(tavg_data[:, 0, 0, 0], tavg_data[:, 1, 0, 0], tavg_data[:, 2, 0, 0])\n",
    "plt.grid(True)\n",
    "plt.xlabel('x')\n",
    "plt.ylabel('y')\n",
    "show()"
   ]
  },
  {
   "cell_type": "markdown",
   "metadata": {},
   "source": [
    "This is a simulation of the 'c11s' class which is a Saddle-Node/Saddle-Node burster."
   ]
  },
  {
   "cell_type": "code",
   "execution_count": null,
   "metadata": {},
   "outputs": [],
   "source": [
    "A = [0.3131,-0.06743,0.2396]\n",
    "B = [0.3163,0.06846,0.2351]\n",
    "c=0.00004 "
   ]
  },
  {
   "cell_type": "code",
   "execution_count": null,
   "metadata": {},
   "outputs": [],
   "source": [
    "sim = simulator.Simulator(\n",
    "    model= EpileptorCodim3(variables_of_interest=['x', 'y', 'z'], mu1_start=-A[1], mu2_start=A[0], nu_start=A[2],mu1_stop=-B[1], mu2_stop=B[0], nu_stop=B[2], c=c),\n",
    "    connectivity=connectivity.Connectivity(load_default=True),\n",
    "    coupling=coupling.Linear(a=0.0152),\n",
    "    integrator=integrators.HeunDeterministic(dt=2 ** -4),\n",
    "    monitors=monitors.TemporalAverage(period=2 ** -2),\n",
    "    simulation_length=2 ** 15,\n",
    ").configure()\n",
    "(tavg_time, tavg_data), = sim.run()\n",
    "figure()\n",
    "plot(tavg_time, tavg_data[:, 0, 0, 0], label='x')\n",
    "plot(tavg_time, tavg_data[:, 2, 0, 0], label='z')\n",
    "legend()\n",
    "grid(True)\n",
    "xlabel('Time (ms)')\n",
    "ylabel(\"Temporal average\")\n",
    "fig2 = figure()\n",
    "ax = fig2.add_subplot(111, projection='3d')\n",
    "ax.plot(tavg_data[:, 0, 0, 0], tavg_data[:, 1, 0, 0], tavg_data[:, 2, 0, 0])\n",
    "plt.grid(True)\n",
    "plt.xlabel('x')\n",
    "plt.ylabel('y')\n",
    "show()"
   ]
  },
  {
   "cell_type": "markdown",
   "metadata": {},
   "source": [
    "This is a simulation of the 'c2b' class which is a Saddle-Node/Saddle-Homoclinic burster. It is similar to the 'c2s' class, but it has a big limit cycle which encompasses the stable node."
   ]
  },
  {
   "cell_type": "code",
   "execution_count": null,
   "metadata": {},
   "outputs": [],
   "source": [
    "A = [0.3216,0.0454,-0.2335]\n",
    "B = [0.285,0.05855,-0.2745]\n",
    "c=0.004 "
   ]
  },
  {
   "cell_type": "code",
   "execution_count": null,
   "metadata": {},
   "outputs": [],
   "source": [
    "sim = simulator.Simulator(\n",
    "    model= EpileptorCodim3(variables_of_interest=['x', 'y', 'z'], mu1_start=-A[1], mu2_start=A[0], nu_start=A[2],mu1_stop=-B[1], mu2_stop=B[0], nu_stop=B[2], c=c),\n",
    "    connectivity=connectivity.Connectivity(load_default=True),\n",
    "    coupling=coupling.Linear(a=0.0152),\n",
    "    integrator=integrators.HeunDeterministic(dt=2 ** -4),\n",
    "    monitors=monitors.TemporalAverage(period=2 ** -2),\n",
    "    simulation_length=2 ** 10,\n",
    ").configure()\n",
    "(tavg_time, tavg_data), = sim.run()\n",
    "figure()\n",
    "plot(tavg_time, tavg_data[:, 0, 0, 0], label='x')\n",
    "plot(tavg_time, tavg_data[:, 2, 0, 0], label='z')\n",
    "legend()\n",
    "grid(True)\n",
    "xlabel('Time (ms)')\n",
    "ylabel(\"Temporal average\")\n",
    "fig2 = figure()\n",
    "ax = fig2.add_subplot(111, projection='3d')\n",
    "ax.plot(tavg_data[:, 0, 0, 0], tavg_data[:, 1, 0, 0], tavg_data[:, 2, 0, 0])\n",
    "plt.grid(True)\n",
    "plt.xlabel('x')\n",
    "plt.ylabel('y')\n",
    "show()"
   ]
  },
  {
   "cell_type": "markdown",
   "metadata": {},
   "source": [
    "This is a simulation of the 'c4b' class which is a Saddle-Node/Fold Limit Cycle burster with a big limit cycle."
   ]
  },
  {
   "cell_type": "code",
   "execution_count": null,
   "metadata": {},
   "outputs": [],
   "source": [
    "A = [0.1871,-0.02512,-0.3526]\n",
    "B = [0.2081,-0.01412,-0.3413]\n",
    "c=0.008"
   ]
  },
  {
   "cell_type": "code",
   "execution_count": null,
   "metadata": {},
   "outputs": [],
   "source": [
    "sim = simulator.Simulator(\n",
    "    model= EpileptorCodim3(variables_of_interest=['x', 'y', 'z'], mu1_start=-A[1], mu2_start=A[0], nu_start=A[2],mu1_stop=-B[1], mu2_stop=B[0], nu_stop=B[2], c=c),\n",
    "    connectivity=connectivity.Connectivity(load_default=True),\n",
    "    coupling=coupling.Linear(a=0.0152),\n",
    "    integrator=integrators.HeunDeterministic(dt=2 ** -4),\n",
    "    monitors=monitors.TemporalAverage(period=2 ** -2),\n",
    "    simulation_length=2 ** 10,\n",
    ").configure()\n",
    "(tavg_time, tavg_data), = sim.run()\n",
    "figure()\n",
    "plot(tavg_time, tavg_data[:, 0, 0, 0], label='x')\n",
    "plot(tavg_time, tavg_data[:, 2, 0, 0], label='z')\n",
    "legend()\n",
    "grid(True)\n",
    "xlabel('Time (ms)')\n",
    "ylabel(\"Temporal average\")\n",
    "fig2 = figure()\n",
    "ax = fig2.add_subplot(111, projection='3d')\n",
    "ax.plot(tavg_data[:, 0, 0, 0], tavg_data[:, 1, 0, 0], tavg_data[:, 2, 0, 0])\n",
    "plt.grid(True)\n",
    "plt.xlabel('x')\n",
    "plt.ylabel('y')\n",
    "show()"
   ]
  },
  {
   "cell_type": "markdown",
   "metadata": {},
   "source": [
    "This is a simulation of the 'c14b' class which is a Subcritical Hopf/Saddle-Homoclinic burster with a big limit cycle."
   ]
  },
  {
   "cell_type": "code",
   "execution_count": null,
   "metadata": {},
   "outputs": [],
   "source": [
    "A = [0.3216,0.0454,-0.2335]\n",
    "B = [0.106,0.005238,-0.3857]\n",
    "c=0.002 "
   ]
  },
  {
   "cell_type": "code",
   "execution_count": null,
   "metadata": {},
   "outputs": [],
   "source": [
    "sim = simulator.Simulator(\n",
    "    model= EpileptorCodim3(variables_of_interest=['x', 'y', 'z'], mu1_start=-A[1], mu2_start=A[0], nu_start=A[2],mu1_stop=-B[1], mu2_stop=B[0], nu_stop=B[2], c=c),\n",
    "    connectivity=connectivity.Connectivity(load_default=True),\n",
    "    coupling=coupling.Linear(a=0.0152),\n",
    "    integrator=integrators.HeunDeterministic(dt=2 ** -4),\n",
    "    monitors=monitors.TemporalAverage(period=2 ** -2),\n",
    "    simulation_length=2 ** 12,\n",
    ").configure()\n",
    "(tavg_time, tavg_data), = sim.run()\n",
    "figure()\n",
    "plot(tavg_time, tavg_data[:, 0, 0, 0], label='x')\n",
    "plot(tavg_time, tavg_data[:, 2, 0, 0], label='z')\n",
    "legend()\n",
    "grid(True)\n",
    "xlabel('Time (ms)')\n",
    "ylabel(\"Temporal average\")\n",
    "fig2 = figure()\n",
    "ax = fig2.add_subplot(111, projection='3d')\n",
    "ax.plot(tavg_data[:, 0, 0, 0], tavg_data[:, 1, 0, 0], tavg_data[:, 2, 0, 0])\n",
    "plt.grid(True)\n",
    "plt.xlabel('x')\n",
    "plt.ylabel('y')\n",
    "show()"
   ]
  },
  {
   "cell_type": "markdown",
   "metadata": {},
   "source": [
    "This is a simulation of the 'c16b' class which is a Subcritical/Fold Limit Cycle burster with a big limit cycle."
   ]
  },
  {
   "cell_type": "code",
   "execution_count": null,
   "metadata": {},
   "outputs": [],
   "source": [
    "A = [0.04098,-0.07373,-0.391]\n",
    "B = [-0.01301,-0.03242,-0.3985]\n",
    "c=0.004 "
   ]
  },
  {
   "cell_type": "code",
   "execution_count": null,
   "metadata": {},
   "outputs": [],
   "source": [
    "sim = simulator.Simulator(\n",
    "    model= EpileptorCodim3(variables_of_interest=['x', 'y', 'z'], mu1_start=-A[1], mu2_start=A[0], nu_start=A[2],mu1_stop=-B[1], mu2_stop=B[0], nu_stop=B[2], c=c),\n",
    "    connectivity=connectivity.Connectivity(load_default=True),\n",
    "    coupling=coupling.Linear(a=0.0152),\n",
    "    integrator=integrators.HeunDeterministic(dt=2 ** -4),\n",
    "    monitors=monitors.TemporalAverage(period=2 ** -2),\n",
    "    simulation_length=2 ** 10,\n",
    ").configure()\n",
    "(tavg_time, tavg_data), = sim.run()\n",
    "figure()\n",
    "plot(tavg_time, tavg_data[:, 0, 0, 0], label='x')\n",
    "plot(tavg_time, tavg_data[:, 2, 0, 0], label='z')\n",
    "legend()\n",
    "grid(True)\n",
    "xlabel('Time (ms)')\n",
    "ylabel(\"Temporal average\")\n",
    "fig2 = figure()\n",
    "ax = fig2.add_subplot(111, projection='3d')\n",
    "ax.plot(tavg_data[:, 0, 0, 0], tavg_data[:, 1, 0, 0], tavg_data[:, 2, 0, 0])\n",
    "plt.grid(True)\n",
    "plt.xlabel('x')\n",
    "plt.ylabel('y')\n",
    "show()"
   ]
  },
  {
   "cell_type": "markdown",
   "metadata": {},
   "source": [
    "It is also possible to use spherical coördinates (R, phi, theta) to design a great circle. Here R is the radius of the sphere, phi is the azimuthal angle and theta is the polar angle. The corresponding Cartesian coördinates are (mu2,-mu1,nu)"
   ]
  },
  {
   "cell_type": "code",
   "execution_count": null,
   "metadata": {},
   "outputs": [],
   "source": [
    "Epileptorcd3=EpileptorCodim3()"
   ]
  },
  {
   "cell_type": "code",
   "execution_count": null,
   "metadata": {},
   "outputs": [],
   "source": [
    "phi_start = -0.2\n",
    "theta_start = 0.93\n",
    "phi_stop = pi/4\n",
    "theta_stop = 0.2"
   ]
  },
  {
   "cell_type": "code",
   "execution_count": null,
   "metadata": {},
   "outputs": [],
   "source": [
    "Epileptorcd3.R=0.4 #Default radius of the sphere\n",
    "Epileptorcd3.mu2_start=Epileptorcd3.R*sin(theta_start)*cos(phi_start)\n",
    "Epileptorcd3.mu1_start=-Epileptorcd3.R*sin(theta_start)*sin(phi_start)\n",
    "Epileptorcd3.nu_start=Epileptorcd3.R*cos(theta_start)\n",
    "Epileptorcd3.mu2_stop=Epileptorcd3.R*sin(theta_stop)*cos(phi_stop)\n",
    "Epileptorcd3.mu1_stop=-Epileptorcd3.R*sin(theta_stop)*sin(phi_stop)\n",
    "Epileptorcd3.nu_stop=Epileptorcd3.R*cos(theta_stop)\n",
    "Epileptorcd3.c=0.001"
   ]
  },
  {
   "cell_type": "code",
   "execution_count": null,
   "metadata": {},
   "outputs": [],
   "source": [
    "Epileptorcd3.variables_of_interest=['x', 'y', 'z']\n",
    "sim = simulator.Simulator(\n",
    "    model=Epileptorcd3,\n",
    "    connectivity=connectivity.Connectivity(load_default=True),\n",
    "    coupling=coupling.Linear(a=0.0152),\n",
    "    integrator=integrators.HeunDeterministic(dt=2 ** -4),\n",
    "    monitors=monitors.TemporalAverage(period=2 ** -2),\n",
    "    simulation_length=2 ** 12,\n",
    ").configure()\n",
    "(tavg_time, tavg_data), = sim.run()\n",
    "figure()\n",
    "plot(tavg_time, tavg_data[:, 0, 0, 0], label='x')\n",
    "plot(tavg_time, tavg_data[:, 2, 0, 0], label='z')\n",
    "legend()\n",
    "grid(True)\n",
    "xlabel('Time (ms)')\n",
    "ylabel(\"Temporal average\")\n",
    "fig2 = figure()\n",
    "ax = fig2.add_subplot(111, projection='3d')\n",
    "ax.plot(tavg_data[:, 0, 0, 0], tavg_data[:, 1, 0, 0], tavg_data[:, 2, 0, 0])\n",
    "plt.grid(True)\n",
    "plt.xlabel('x')\n",
    "plt.ylabel('y')\n",
    "show()"
   ]
  },
  {
   "cell_type": "markdown",
   "metadata": {},
   "source": [
    "# Epileptogenicity and modification<br>\n",
    "<br>\n",
    "The value of c determines the size of the timescale separation between the slow and the fast subsystem. For timescale separation we need that c<< 1 , though it depends on the bifurcations what value of c is suitable. The epileptogenicity of the system is determined by the value of dstar. For dstar>1 (approximately) the system will get stuck in the bursting state."
   ]
  },
  {
   "cell_type": "markdown",
   "metadata": {},
   "source": [
    "The default value for dstar is 0.3 which produces the usual pattern of stability followed by bursters"
   ]
  },
  {
   "cell_type": "code",
   "execution_count": null,
   "metadata": {},
   "outputs": [],
   "source": [
    "dstar=0.3"
   ]
  },
  {
   "cell_type": "code",
   "execution_count": null,
   "metadata": {},
   "outputs": [],
   "source": [
    "sim = simulator.Simulator(\n",
    "    model=EpileptorCodim3(dstar=dstar, variables_of_interest=['x', 'y', 'z']),\n",
    "    connectivity=connectivity.Connectivity(load_default=True),\n",
    "    coupling=coupling.Linear(a=0.0152),\n",
    "    integrator=integrators.HeunDeterministic(dt=2 ** -4),\n",
    "    monitors=monitors.TemporalAverage(period=2 ** -2),\n",
    "    simulation_length=2 ** 11,\n",
    ").configure()\n",
    "(tavg_time, tavg_data), = sim.run()\n",
    "figure()\n",
    "plot(tavg_time, tavg_data[:, 0, 0, 0], label='x')\n",
    "plot(tavg_time, tavg_data[:, 2, 0, 0], label='z')\n",
    "legend()\n",
    "grid(True)\n",
    "xlabel('Time (ms)')\n",
    "ylabel(\"Temporal average\")\n",
    "fig2 = figure()\n",
    "ax = fig2.add_subplot(111, projection='3d')\n",
    "ax.plot(tavg_data[:, 0, 0, 0], tavg_data[:, 1, 0, 0], tavg_data[:, 2, 0, 0])\n",
    "plt.grid(True)\n",
    "plt.xlabel('x')\n",
    "plt.ylabel('y')\n",
    "show()"
   ]
  },
  {
   "cell_type": "markdown",
   "metadata": {},
   "source": [
    "For dstar equal to 0.1 the oscillations are shorter and less frequent than the default value. Though for every positive value of dstar we still have bursting activity."
   ]
  },
  {
   "cell_type": "code",
   "execution_count": null,
   "metadata": {},
   "outputs": [],
   "source": [
    "dstar=0.1"
   ]
  },
  {
   "cell_type": "code",
   "execution_count": null,
   "metadata": {},
   "outputs": [],
   "source": [
    "sim = simulator.Simulator(\n",
    "    model=EpileptorCodim3(dstar=dstar, variables_of_interest=['x', 'y', 'z']),\n",
    "    connectivity=connectivity.Connectivity(load_default=True),\n",
    "    coupling=coupling.Linear(a=0.0152),\n",
    "    integrator=integrators.HeunDeterministic(dt=2 ** -4),\n",
    "    monitors=monitors.TemporalAverage(period=2 ** -2),\n",
    "    simulation_length=2 ** 11,\n",
    ").configure()\n",
    "(tavg_time, tavg_data), = sim.run()\n",
    "figure()\n",
    "plot(tavg_time, tavg_data[:, 0, 0, 0], label='x')\n",
    "plot(tavg_time, tavg_data[:, 2, 0, 0], label='z')\n",
    "legend()\n",
    "grid(True)\n",
    "xlabel('Time (ms)')\n",
    "ylabel(\"Temporal average\")\n",
    "fig2 = figure()\n",
    "ax = fig2.add_subplot(111, projection='3d')\n",
    "ax.plot(tavg_data[:, 0, 0, 0], tavg_data[:, 1, 0, 0], tavg_data[:, 2, 0, 0])\n",
    "plt.grid(True)\n",
    "plt.xlabel('x')\n",
    "plt.ylabel('y')\n",
    "show()"
   ]
  },
  {
   "cell_type": "markdown",
   "metadata": {},
   "source": [
    "If dstar is 0 then the system remains stable."
   ]
  },
  {
   "cell_type": "code",
   "execution_count": null,
   "metadata": {},
   "outputs": [],
   "source": [
    "dstar=0"
   ]
  },
  {
   "cell_type": "code",
   "execution_count": null,
   "metadata": {},
   "outputs": [],
   "source": [
    "sim = simulator.Simulator(\n",
    "    model=EpileptorCodim3(dstar=dstar, variables_of_interest=['x', 'y', 'z']),\n",
    "    connectivity=connectivity.Connectivity(load_default=True),\n",
    "    coupling=coupling.Linear(a=0.0152),\n",
    "    integrator=integrators.HeunDeterministic(dt=2 ** -4),\n",
    "    monitors=monitors.TemporalAverage(period=2 ** -2),\n",
    "    simulation_length=2 ** 11,\n",
    ").configure()\n",
    "(tavg_time, tavg_data), = sim.run()\n",
    "figure()\n",
    "plot(tavg_time, tavg_data[:, 0, 0, 0], label='x')\n",
    "plot(tavg_time, tavg_data[:, 2, 0, 0], label='z')\n",
    "legend()\n",
    "grid(True)\n",
    "xlabel('Time (ms)')\n",
    "ylabel(\"Temporal average\")\n",
    "fig2 = figure()\n",
    "ax = fig2.add_subplot(111, projection='3d')\n",
    "ax.plot(tavg_data[:, 0, 0, 0], tavg_data[:, 1, 0, 0], tavg_data[:, 2, 0, 0])\n",
    "plt.grid(True)\n",
    "plt.xlabel('x')\n",
    "plt.ylabel('y')\n",
    "show()"
   ]
  },
  {
   "cell_type": "markdown",
   "metadata": {},
   "source": [
    "For dstar larger than 1 (approximately) the system will head to a indefinite oscillatory state."
   ]
  },
  {
   "cell_type": "code",
   "execution_count": null,
   "metadata": {},
   "outputs": [],
   "source": [
    "dstar=1"
   ]
  },
  {
   "cell_type": "code",
   "execution_count": null,
   "metadata": {},
   "outputs": [],
   "source": [
    "sim = simulator.Simulator(\n",
    "    model=EpileptorCodim3(dstar=dstar, variables_of_interest=['x', 'y', 'z']),\n",
    "    connectivity=connectivity.Connectivity(load_default=True),\n",
    "    coupling=coupling.Linear(a=0.0152),\n",
    "    integrator=integrators.HeunDeterministic(dt=2 ** -4),\n",
    "    monitors=monitors.TemporalAverage(period=2 ** -2),\n",
    "    simulation_length=2 ** 11,\n",
    ").configure()\n",
    "(tavg_time, tavg_data), = sim.run()\n",
    "figure()\n",
    "plot(tavg_time, tavg_data[:, 0, 0, 0], label='x')\n",
    "plot(tavg_time, tavg_data[:, 2, 0, 0], label='z')\n",
    "legend()\n",
    "grid(True)\n",
    "xlabel('Time (ms)')\n",
    "ylabel(\"Temporal average\")\n",
    "fig2 = figure()\n",
    "ax = fig2.add_subplot(111, projection='3d')\n",
    "ax.plot(tavg_data[:, 0, 0, 0], tavg_data[:, 1, 0, 0], tavg_data[:, 2, 0, 0])\n",
    "plt.grid(True)\n",
    "plt.xlabel('x')\n",
    "plt.ylabel('y')\n",
    "show()"
   ]
  },
  {
   "cell_type": "markdown",
   "metadata": {},
   "source": [
    "For a negative dstar the bifurcation parameters wraps around the great circle in the wrong direction, producing an artificial burster"
   ]
  },
  {
   "cell_type": "code",
   "execution_count": null,
   "metadata": {},
   "outputs": [],
   "source": [
    "dstar=-0.3"
   ]
  },
  {
   "cell_type": "code",
   "execution_count": null,
   "metadata": {},
   "outputs": [],
   "source": [
    "sim = simulator.Simulator(\n",
    "    model=EpileptorCodim3(dstar=dstar, variables_of_interest=['x', 'y', 'z']),\n",
    "    connectivity=connectivity.Connectivity(load_default=True),\n",
    "    coupling=coupling.Linear(a=0.0152),\n",
    "    integrator=integrators.HeunDeterministic(dt=2 ** -4),\n",
    "    monitors=monitors.TemporalAverage(period=2 ** -2),\n",
    "    simulation_length=2 ** 14,\n",
    ").configure()\n",
    "(tavg_time, tavg_data), = sim.run()\n",
    "figure()\n",
    "plot(tavg_time, tavg_data[:, 0, 0, 0], label='x')\n",
    "plot(tavg_time, tavg_data[:, 2, 0, 0], label='z')\n",
    "legend()\n",
    "grid(True)\n",
    "xlabel('Time (ms)')\n",
    "ylabel(\"Temporal average\")\n",
    "fig2 = figure()\n",
    "ax = fig2.add_subplot(111, projection='3d')\n",
    "ax.plot(tavg_data[:, 0, 0, 0], tavg_data[:, 1, 0, 0], tavg_data[:, 2, 0, 0])\n",
    "plt.grid(True)\n",
    "plt.xlabel('x')\n",
    "plt.ylabel('y')\n",
    "show()"
   ]
  },
  {
   "cell_type": "markdown",
   "metadata": {},
   "source": [
    "By introducing a small modification it is possible to stabilize the system without affecting the model with a positive dstar"
   ]
  },
  {
   "cell_type": "code",
   "execution_count": null,
   "metadata": {},
   "outputs": [],
   "source": [
    "dstar=0\n",
    "modification=1"
   ]
  },
  {
   "cell_type": "code",
   "execution_count": null,
   "metadata": {},
   "outputs": [],
   "source": [
    "sim = simulator.Simulator(\n",
    "    model=EpileptorCodim3(dstar=dstar, variables_of_interest=['x', 'y', 'z'], modification=modification),\n",
    "    connectivity=connectivity.Connectivity(load_default=True),\n",
    "    coupling=coupling.Linear(a=0.0152),\n",
    "    integrator=integrators.HeunDeterministic(dt=2 ** -4),\n",
    "    monitors=monitors.TemporalAverage(period=2 ** -2),\n",
    "    simulation_length=2 ** 14,\n",
    ").configure()\n",
    "(tavg_time, tavg_data), = sim.run()\n",
    "figure()\n",
    "plot(tavg_time, tavg_data[:, 0, 0, 0], label='x')\n",
    "plot(tavg_time, tavg_data[:, 2, 0, 0], label='z')\n",
    "legend()\n",
    "grid(True)\n",
    "xlabel('Time (ms)')\n",
    "ylabel(\"Temporal average\")\n",
    "fig2 = figure()\n",
    "ax = fig2.add_subplot(111, projection='3d')\n",
    "ax.plot(tavg_data[:, 0, 0, 0], tavg_data[:, 1, 0, 0], tavg_data[:, 2, 0, 0])\n",
    "plt.grid(True)\n",
    "plt.xlabel('x')\n",
    "plt.ylabel('y')\n",
    "show()"
   ]
  },
  {
   "cell_type": "markdown",
   "metadata": {},
   "source": [
    "Here we see that the modification doesn't affect the generic oscillations of the system. Though note that the initial conditions are random."
   ]
  },
  {
   "cell_type": "markdown",
   "metadata": {},
   "source": [
    "nmodified"
   ]
  },
  {
   "cell_type": "code",
   "execution_count": null,
   "metadata": {},
   "outputs": [],
   "source": [
    "sim = simulator.Simulator(\n",
    "    model=EpileptorCodim3(),\n",
    "    connectivity=connectivity.Connectivity(load_default=True),\n",
    "    coupling=coupling.Linear(a=0.0152),\n",
    "    integrator=integrators.HeunDeterministic(dt=2 ** -4),\n",
    "    monitors=monitors.TemporalAverage(period=2 ** -2),\n",
    "    simulation_length=2 ** 10,\n",
    ").configure()"
   ]
  },
  {
   "cell_type": "markdown",
   "metadata": {},
   "source": [
    "odified"
   ]
  },
  {
   "cell_type": "code",
   "execution_count": null,
   "metadata": {},
   "outputs": [],
   "source": [
    "modification=1\n",
    "sim2 = simulator.Simulator(\n",
    "    model=EpileptorCodim3(modification=modification),\n",
    "    connectivity=connectivity.Connectivity(load_default=True),\n",
    "    coupling=coupling.Linear(a=0.0152),\n",
    "    integrator=integrators.HeunDeterministic(dt=2 ** -4),\n",
    "    monitors=monitors.TemporalAverage(period=2 ** -2),\n",
    "    simulation_length=2 ** 10,\n",
    ").configure()\n",
    "(tavg_time, tavg_data), = sim.run()\n",
    "(tavg_time2, tavg_data2), = sim2.run()"
   ]
  },
  {
   "cell_type": "code",
   "execution_count": null,
   "metadata": {},
   "outputs": [],
   "source": [
    "figure()\n",
    "plot(tavg_time, tavg_data[:, 0, 0, 0], label='x (no modification)')\n",
    "plot(tavg_time, tavg_data[:, 1, 0, 0], label='z (no modification)')\n",
    "legend()\n",
    "grid(True)\n",
    "xlabel('Time (ms)')\n",
    "ylabel(\"Temporal average\")"
   ]
  },
  {
   "cell_type": "code",
   "execution_count": null,
   "metadata": {},
   "outputs": [],
   "source": [
    "figure()\n",
    "plot(tavg_time2, tavg_data2[:, 0, 0, 0], label='x (with modification)')\n",
    "plot(tavg_time2, tavg_data2[:, 1, 0, 0], label='z (with modification)')\n",
    "legend()\n",
    "grid(True)\n",
    "xlabel('Time (ms)')\n",
    "ylabel(\"Temporal average\")\n",
    "show()"
   ]
  },
  {
   "cell_type": "markdown",
   "metadata": {},
   "source": [
    "# Ultra-slow transition of classes of bursters<br>\n",
    "<br>\n",
    "By adjusting the path through the parameter space we can transition between classes of bursters. This is implemented in the EpileptorCodim3_slowmod model. Most input parameters are the same as the EpileptorCodim3 model. However the input parameters which dictate the class of burster has been modified. The offset and onset parameters are given of the initial class of burster are given by the subscript Ain and Bin respectively. The offset and onset parameters are given of the final class of burster are given by the subscript Aend and Bend respectively. "
   ]
  },
  {
   "cell_type": "code",
   "execution_count": null,
   "metadata": {},
   "outputs": [],
   "source": [
    "EpileptorCodim3_slowmod()"
   ]
  },
  {
   "cell_type": "markdown",
   "metadata": {},
   "source": [
    "The default setting corresponds to a transition from the classes c0, c11s, c10s, c2s, c2b, c4b and finally c16b. You might need to zoom in to clearly see the different bursters."
   ]
  },
  {
   "cell_type": "code",
   "execution_count": null,
   "metadata": {},
   "outputs": [],
   "source": [
    "sim = simulator.Simulator(\n",
    "    model= EpileptorCodim3_slowmod(),\n",
    "    connectivity=connectivity.Connectivity(load_default=True),\n",
    "    coupling=coupling.Linear(a=0.0152),\n",
    "    integrator=integrators.HeunDeterministic(dt=2 ** -4),\n",
    "    monitors=monitors.TemporalAverage(period=2 ** -2),\n",
    "    simulation_length=2 ** 14,\n",
    ").configure()\n",
    "(tavg_time, tavg_data), = sim.run()\n",
    "figure()\n",
    "plot(tavg_time, tavg_data[:, 0, 0, 0], label='x')\n",
    "plot(tavg_time, tavg_data[:, 1, 0, 0], label='z')\n",
    "legend()\n",
    "grid(True)\n",
    "xlabel('Time (ms)')\n",
    "ylabel(\"Temporal average\")\n",
    "show()"
   ]
  }
 ],
 "metadata": {
  "kernelspec": {
   "display_name": "Python 3",
   "language": "python",
   "name": "python3"
  },
  "language_info": {
   "codemirror_mode": {
    "name": "ipython",
    "version": 3
   },
   "file_extension": ".py",
   "mimetype": "text/x-python",
   "name": "python",
   "nbconvert_exporter": "python",
   "pygments_lexer": "ipython3",
   "version": "3.7.0"
  }
 },
 "nbformat": 4,
 "nbformat_minor": 2
}
