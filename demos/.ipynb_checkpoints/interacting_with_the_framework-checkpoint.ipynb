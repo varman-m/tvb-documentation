{
 "cells": [
  {
   "cell_type": "markdown",
   "metadata": {},
   "source": [
    "Command Profile in TVB\n",
    "----------------------\n",
    "\n",
    "This is a simple demo showing for to interract with TVB in the command profile.\n",
    "\n",
    "More examples can be found here:\n",
    "https://github.com/the-virtual-brain/tvb-framework/tree/master/tvb/interfaces/command/demos"
   ]
  },
  {
   "cell_type": "code",
   "execution_count": 65,
   "metadata": {},
   "outputs": [],
   "source": [
    "from tvb.basic.profile import TvbProfile\n",
    "TvbProfile.set_profile(TvbProfile.COMMAND_PROFILE)\n",
    "from tvb.interfaces.command.lab import *"
   ]
  },
  {
   "cell_type": "code",
   "execution_count": 2,
   "metadata": {},
   "outputs": [
    {
     "name": "stdout",
     "output_type": "stream",
     "text": [
      "                    name    id\n",
      "         Default_Project     1\n"
     ]
    }
   ],
   "source": [
    "list_projects()"
   ]
  },
  {
   "cell_type": "markdown",
   "metadata": {},
   "source": [
    "Create a new project to test with"
   ]
  },
  {
   "cell_type": "code",
   "execution_count": 3,
   "metadata": {
    "collapsed": true
   },
   "outputs": [],
   "source": [
    "proj = new_project(\"sandbox\")"
   ]
  },
  {
   "cell_type": "markdown",
   "metadata": {},
   "source": [
    "If you have the web UI open at the same time, you'll notice there's now a new project named \"sandbox\""
   ]
  },
  {
   "cell_type": "code",
   "execution_count": 5,
   "metadata": {},
   "outputs": [
    {
     "name": "stdout",
     "output_type": "stream",
     "text": [
      "                    type              tag    id                              gid         date\n"
     ]
    }
   ],
   "source": [
    "list_datatypes(proj.id)"
   ]
  },
  {
   "cell_type": "markdown",
   "metadata": {},
   "source": [
    "Nothing! Let's import a connectivity"
   ]
  },
  {
   "cell_type": "code",
   "execution_count": 6,
   "metadata": {},
   "outputs": [],
   "source": [
    "import os\n",
    "import tvb_data\n",
    "p = os.path.join(os.path.dirname(tvb_data.__file__), 'connectivity/connectivity_66.zip')\n",
    "import_conn_zip(proj.id, p)"
   ]
  },
  {
   "cell_type": "code",
   "execution_count": 7,
   "metadata": {},
   "outputs": [
    {
     "name": "stdout",
     "output_type": "stream",
     "text": [
      "                    type              tag    id                              gid         date\n",
      "            Connectivity             None    16 53155d80-36d2-11e6-8c5f-64006a75eba5 2016-06-20 12:32:44.735000\n"
     ]
    }
   ],
   "source": [
    "list_datatypes(proj.id)"
   ]
  },
  {
   "cell_type": "markdown",
   "metadata": {},
   "source": [
    "Now let's grab that connectivity from the database. \n",
    "IMPORTANT: Make sure to adjust the DT id below to match the value in the id column above"
   ]
  },
  {
   "cell_type": "code",
   "execution_count": 8,
   "metadata": {},
   "outputs": [
    {
     "data": {
      "text/html": [
       "<table width=100%><tr><td>Number of connections</td><td>1377</td></tr><tr><td>Tract lengths - Mean non zero</td><td>82.3333994849</td></tr><tr><td>Tract lengths - Var. non zero (connections)</td><td>2727.07958881</td></tr><tr><td>Tract lengths - Max. non zero (connections)</td><td>238.0</td></tr><tr><td>Weights - Variance</td><td>0.00265501924904</td></tr><tr><td>Tract lengths - Variance</td><td>2327.55571837</td></tr><tr><td>Number of regions</td><td>66</td></tr><tr><td>Weights - Min. non zero</td><td>3.59450032551e-05</td></tr><tr><td>Tract lengths - Mean</td><td>26.0268804157</td></tr><tr><td>Tract lengths - Min. non zero (connections)</td><td>7.0</td></tr><tr><td>Weights - Maximum</td><td>0.512164524459</td></tr><tr><td>Tract lengths - Min. non zero</td><td>7.0</td></tr><tr><td>Weights - Var. non zero</td><td>0.0068489215326</td></tr><tr><td>Weights - Mean</td><td>0.01504926893</td></tr><tr><td>Tract lengths - Var. non zero</td><td>2727.07958881</td></tr><tr><td>Weights - Mean non zero</td><td>0.0476068376608</td></tr><tr><td>Undirected</td><td>0</td></tr><tr><td>Tract lengths - Maximum</td><td>238.0</td></tr><tr><td>Tract lengths - Mean non zero (connections)</td><td>82.3333994849</td></tr>"
      ],
      "text/plain": [
       "<DataType(16, 53155d80-36d2-11e6-8c5f-64006a75eba5, Connectivity, tvb.datatypes.connectivity, John Doe, RAW_DATA, None, None, None, None, None, None)>"
      ]
     },
     "execution_count": 8,
     "metadata": {},
     "output_type": "execute_result"
    }
   ],
   "source": [
    "conn, = load_dt(16)\n",
    "conn"
   ]
  },
  {
   "cell_type": "markdown",
   "metadata": {},
   "source": [
    "and run a simulation with it"
   ]
  },
  {
   "cell_type": "code",
   "execution_count": 11,
   "metadata": {},
   "outputs": [],
   "source": [
    "params = dict(connectivity=conn)\n",
    "sim_op = fire_simulation(project_id=proj.id, connectivity=conn.gid, simulation_length=100)"
   ]
  },
  {
   "cell_type": "markdown",
   "metadata": {
    "collapsed": true
   },
   "source": [
    "We should wait for the simulation to finish, and afterwards, TimeSeries should also be part of this project.\n",
    "\n",
    "Refresh the Web GUI to see the status of your operation."
   ]
  },
  {
   "cell_type": "code",
   "execution_count": 13,
   "metadata": {},
   "outputs": [
    {
     "name": "stdout",
     "output_type": "stream",
     "text": [
      "                    type              tag    id                              gid         date\n",
      "            Connectivity             None    16 53155d80-36d2-11e6-8c5f-64006a75eba5 2016-06-20 12:32:44.735000\n",
      "         SimulationState             None    17 71bb964f-36d2-11e6-a200-64006a75eba5 2016-06-20 12:33:36.091000\n",
      "        TimeSeriesRegion             None    18 71bad300-36d2-11e6-a55f-64006a75eba5 2016-06-20 12:33:38.256000\n",
      "         SimulationState             None    19 75c70c70-36d2-11e6-9b2c-64006a75eba5 2016-06-20 12:33:42.898000\n",
      "        TimeSeriesRegion             None    20 75c4e98f-36d2-11e6-b6ed-64006a75eba5 2016-06-20 12:33:45.309000\n"
     ]
    }
   ],
   "source": [
    "list_datatypes(proj.id)"
   ]
  },
  {
   "cell_type": "code",
   "execution_count": 70,
   "metadata": {},
   "outputs": [
    {
     "data": {
      "text/html": [
       "<table width=100%><tr><td>Edge lengths, shortest (mm)</td><td>0.663807630539</td></tr><tr><td>Has two hemispheres</td><td>True</td></tr><tr><td>Number of edges</td><td>49140</td></tr><tr><td>Number of vertices</td><td>16384</td></tr><tr><td>Number of triangles</td><td>32760</td></tr><tr><td>Edge lengths, longest (mm)</td><td>7.75671815872</td></tr><tr><td>Edge lengths, mean (mm)</td><td>3.9760529995</td></tr><tr><td>Surface type</td><td>CorticalSurface</td></tr>"
      ],
      "text/plain": [
       "<DataType(39, 45942aeb-25c1-11e5-8e9d-14109fe3bf71, CorticalSurface, tvb.datatypes.surfaces, John Doe, RAW_DATA, None, srf_16k, , , , )>"
      ]
     },
     "execution_count": 70,
     "metadata": {},
     "output_type": "execute_result"
    }
   ],
   "source": [
    "from tvb.core.entities.storage import dao\n",
    "surface,  = load_dt(39)\n",
    "surface = dao.get_datatype_by_gid(surface.gid)\n",
    "surface"
   ]
  },
  {
   "cell_type": "code",
   "execution_count": 68,
   "metadata": {},
   "outputs": [
    {
     "data": {
      "text/html": [
       "<table width=100%><tr><td>Edge lengths, shortest (mm)</td><td>0.663807630539</td></tr><tr><td>Has two hemispheres</td><td>False</td></tr><tr><td>Number of edges</td><td>49140</td></tr><tr><td>Number of vertices</td><td>16384</td></tr><tr><td>Number of triangles</td><td>32760</td></tr><tr><td>Edge lengths, longest (mm)</td><td>7.75671815872</td></tr><tr><td>Edge lengths, mean (mm)</td><td>3.9760529995</td></tr><tr><td>Surface type</td><td>CorticalSurface</td></tr>"
      ],
      "text/plain": [
       "<DataType(39, 45942aeb-25c1-11e5-8e9d-14109fe3bf71, CorticalSurface, tvb.datatypes.surfaces, John Doe, RAW_DATA, None, srf_16k, , , , )>"
      ]
     },
     "execution_count": 68,
     "metadata": {},
     "output_type": "execute_result"
    }
   ],
   "source": [
    "surface.hemisphere_mask = [1 if v[0]< 0 else 0 for v in surface.vertices]\n",
    "surface.bi_hemispheric = True\n",
    "surface.configure()\n",
    "surface.persist_full_metadata()\n",
    "surface"
   ]
  },
  {
   "cell_type": "code",
   "execution_count": 69,
   "metadata": {},
   "outputs": [
    {
     "data": {
      "text/html": [
       "<table width=100%><tr><td>Edge lengths, shortest (mm)</td><td>0.663807630539</td></tr><tr><td>Has two hemispheres</td><td>False</td></tr><tr><td>Number of edges</td><td>49140</td></tr><tr><td>Number of vertices</td><td>16384</td></tr><tr><td>Number of triangles</td><td>32760</td></tr><tr><td>Edge lengths, longest (mm)</td><td>7.75671815872</td></tr><tr><td>Edge lengths, mean (mm)</td><td>3.9760529995</td></tr><tr><td>Surface type</td><td>CorticalSurface</td></tr>"
      ],
      "text/plain": [
       "<DataType(39, 45942aeb-25c1-11e5-8e9d-14109fe3bf71, CorticalSurface, tvb.datatypes.surfaces, John Doe, RAW_DATA, None, srf_16k, , , , )>"
      ]
     },
     "execution_count": 69,
     "metadata": {},
     "output_type": "execute_result"
    }
   ],
   "source": [
    "from tvb.core.traits.db_events import fill_before_insert\n",
    "fill_before_insert(_, _, surface)\n",
    "dao.store_entity(surface)\n"
   ]
  },
  {
   "cell_type": "markdown",
   "metadata": {},
   "source": [
    "You can re-evaluate this cell multiple times while it's running to see how the results gradually show up as the simulation finishes."
   ]
  }
 ],
 "metadata": {
  "kernelspec": {
   "display_name": "Python 2",
   "language": "python",
   "name": "python2"
  },
  "language_info": {
   "codemirror_mode": {
    "name": "ipython",
    "version": 2
   },
   "file_extension": ".py",
   "mimetype": "text/x-python",
   "name": "python",
   "nbconvert_exporter": "python",
   "pygments_lexer": "ipython2",
   "version": "2.7.15"
  }
 },
 "nbformat": 4,
 "nbformat_minor": 1
}
