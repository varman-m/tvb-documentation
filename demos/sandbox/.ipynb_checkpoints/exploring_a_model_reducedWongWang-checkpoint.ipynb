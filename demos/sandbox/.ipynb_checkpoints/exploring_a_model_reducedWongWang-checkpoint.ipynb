{
 "cells": [
  {
   "cell_type": "code",
   "execution_count": null,
   "metadata": {},
   "outputs": [],
   "source": [
    "#!/usr/bin/env python\n",
    "# coding: utf-8"
   ]
  },
  {
   "cell_type": "code",
   "execution_count": null,
   "metadata": {},
   "outputs": [],
   "source": [
    "get_ipython().magic('pylab nbagg')\n",
    "from tvb.simulator.lab import *"
   ]
  },
  {
   "cell_type": "markdown",
   "metadata": {},
   "source": [
    "# The Reduced Wong Wang Model<br>\n"
   ]
  },
  {
   "cell_type": "markdown",
   "metadata": {},
   "source": [
    "This model is a reduction of the model presented in [1] to a single population model and used it in a<br>\n",
    "modelling study of resting state [2, 3]. It is alternatively called dynamic mean-field model. "
   ]
  },
  {
   "cell_type": "markdown",
   "metadata": {},
   "source": [
    "The local recurrent connections is the parameter that changes the<br>\n",
    "stability of the system from monostable to bistable. In the model of<br>\n",
    "[2] the variable of the local recurrent connections<br>\n",
    "is denoted by $w$ and its value is 0.9.  However,<br>\n",
    "[3], used a value of $w=1$ and showed that an<br>\n",
    "increase of the external input, represented by $I_o$ will result in<br>\n",
    "three different regimes. Note that in a coupled network, the input to<br>\n",
    "one node is the addition of both the external input, $I_o$ and the<br>\n",
    "long-range coupling term."
   ]
  },
  {
   "cell_type": "code",
   "execution_count": null,
   "metadata": {},
   "outputs": [],
   "source": [
    "S = numpy.linspace(0., 1., num=1000)\n",
    "S = S[:, numpy.newaxis]\n",
    "rww = models.ReducedWongWang()"
   ]
  },
  {
   "cell_type": "markdown",
   "metadata": {},
   "source": [
    "Have a look at the **default parameters**"
   ]
  },
  {
   "cell_type": "code",
   "execution_count": null,
   "metadata": {},
   "outputs": [],
   "source": [
    "rww"
   ]
  },
  {
   "cell_type": "markdown",
   "metadata": {},
   "source": [
    "## Effect of the external input for $w=0.6$<br>\n"
   ]
  },
  {
   "cell_type": "code",
   "execution_count": null,
   "metadata": {},
   "outputs": [],
   "source": [
    "Io = numpy.linspace(0.00, 0.42, num=100)"
   ]
  },
  {
   "cell_type": "code",
   "execution_count": null,
   "metadata": {},
   "outputs": [],
   "source": [
    "dS = numpy.zeros((100, 1000))\n",
    "fig = plt.figure(figsize=(12, 10))\n",
    "for i, io in enumerate(Io):\n",
    "    rww.I_o = io \n",
    "    dS[i, :]= rww.dfun(S[:, numpy.newaxis].T, numpy.array([[0.0]]))\n",
    "    plt.plot(S, dS[i, :].T, 'k', alpha=0.1)\n",
    "print(S.shape)"
   ]
  },
  {
   "cell_type": "code",
   "execution_count": null,
   "metadata": {},
   "outputs": [],
   "source": [
    "plt.plot(S, dS[0, :].T, 'k', lw=4, alpha=0.7, label =r\"I_o=%0.2f\" % Io[0])\n",
    "plt.plot(S, dS[63, :].T, 'b',lw=4, alpha=0.7, label =r\"I_o=%0.2f\" % Io[63])\n",
    "plt.plot(S, dS[77, :].T, 'r',lw=4, alpha=0.7, label =r\"I_o=%0.2f\" % Io[77])\n",
    "plt.plot(S, dS[99, :].T, 'g',lw=4, alpha=0.7, label =r\"I_o=%0.2f\" % Io[99])\n",
    "plt.plot(S, numpy.zeros(S.shape), 'k--')\n",
    "plt.ylim([-0.01, 0.01])\n",
    "plt.xlabel('S')\n",
    "plt.ylabel('dS')\n",
    "#plt.legend()"
   ]
  },
  {
   "cell_type": "markdown",
   "metadata": {},
   "source": [
    "Effect of the external input for $w=1$<br>\n",
    "--------------------------------------"
   ]
  },
  {
   "cell_type": "code",
   "execution_count": null,
   "metadata": {},
   "outputs": [],
   "source": [
    "dS = numpy.zeros((100, 1000))\n",
    "fig = plt.figure(figsize=(12, 10))\n",
    "rww.w = 1.0\n",
    "for i, io in enumerate(Io):\n",
    "    rww.I_o = io \n",
    "    dS[i, :]= rww.dfun(S[:, numpy.newaxis].T, numpy.array([[0.0]]))\n",
    "    plt.plot(S, dS[i, :].T, 'k', alpha=0.1)\n",
    "print(S.shape)"
   ]
  },
  {
   "cell_type": "code",
   "execution_count": null,
   "metadata": {},
   "outputs": [],
   "source": [
    "plt.plot(S, dS[0, :].T, 'k', lw=4, alpha=0.7, label =r\"I_o=%0.4f\" % Io[0])\n",
    "plt.plot(S, dS[70, :].T, 'b',lw=4, alpha=0.7, label =r\"I_o=%0.4f\" % Io[70])\n",
    "plt.plot(S, dS[75, :].T, 'b',lw=4, alpha=0.5, label =r\"I_o=%0.4f\" % Io[75])\n",
    "plt.plot(S, dS[76, :].T, 'r',lw=4, alpha=0.5, label =r\"I_o=%0.4f\" % Io[76])\n",
    "plt.plot(S, dS[80, :].T, 'r',lw=4, alpha=0.7, label =r\"I_o=%0.4f\" % Io[80])\n",
    "plt.plot(S, dS[99, :].T, 'g',lw=4, alpha=0.7, label =r\"I_o=%0.4f\" % Io[99])\n",
    "plt.plot(S, numpy.zeros(S.shape), 'k--')\n",
    "plt.ylim([-0.01, 0.01])\n",
    "plt.xlabel('S')\n",
    "plt.ylabel('dS')\n",
    "#plt.legend()"
   ]
  },
  {
   "cell_type": "code",
   "execution_count": null,
   "metadata": {},
   "outputs": [],
   "source": [
    "W = numpy.linspace(0.8, 1.05, num=100)"
   ]
  },
  {
   "cell_type": "code",
   "execution_count": null,
   "metadata": {},
   "outputs": [],
   "source": [
    "rww.I_o=0.325"
   ]
  },
  {
   "cell_type": "code",
   "execution_count": null,
   "metadata": {},
   "outputs": [],
   "source": [
    "dS = numpy.zeros((100, 1000))\n",
    "fig = plt.figure(figsize=(12, 10))\n",
    "rww.w = 1.0\n",
    "for i, w in enumerate(W):\n",
    "    rww.w = w \n",
    "    dS[i, :]= rww.dfun(S[:, numpy.newaxis].T, numpy.array([[0.0]]))\n",
    "    plt.plot(S, dS[i, :].T, 'k', alpha=0.1)\n",
    "print(S.shape)"
   ]
  },
  {
   "cell_type": "code",
   "execution_count": null,
   "metadata": {},
   "outputs": [],
   "source": [
    "plt.plot(S, dS[0, :].T, 'k', lw=4, alpha=0.7, label =r\"w=%0.4f\" % W[0])\n",
    "plt.plot(S, dS[60, :].T, 'b',lw=4,  alpha=0.7, label =r\"w=%0.4f\" % W[60])\n",
    "plt.plot(S, dS[62, :].T, 'b',lw=4, alpha=0.3, label =r\"w=%0.4f\" % W[62])\n",
    "plt.plot(S, dS[79, :].T, 'r',lw=4, alpha=0.3, label =r\"w=%0.4f\" % W[79])\n",
    "plt.plot(S, dS[81, :].T, 'r',lw=4, alpha=0.7, label =r\"w=%0.4f\" % W[81])\n",
    "plt.plot(S, dS[99, :].T, 'g',lw=4, alpha=0.7, label =r\"w=%0.4f\" % W[99])\n",
    "plt.plot(S, numpy.zeros(S.shape), 'k--')\n",
    "plt.ylim([-0.0001, 0.0001])\n",
    "plt.xlabel('S')\n",
    "plt.ylabel('dS')\n",
    "#plt.legend()"
   ]
  },
  {
   "cell_type": "markdown",
   "metadata": {},
   "source": [
    "References<br>\n",
    "----------<br>\n",
    "<br>\n",
    "[1] Wong, K.-F. & Wang, X.-J. A Recurrent Network Mechanism of Time Integration in Perceptual Decisions J. Neurosci., 2006, 26, 1314-1328<br>\n",
    "<br>\n",
    "[2] Deco, G.; Ponce-Alvarez, A.; Mantini, D.; Romani, G. L.; Hagmann, P. & Corbetta, M. Resting-state functional connectivity emerges from structurally and dynamically shaped slow linear fluctuations.<br>\n",
    "<br>\n",
    "[3] Hansen, E et al. Neuroimage, 2014 (in review)"
   ]
  }
 ],
 "metadata": {
  "kernelspec": {
   "display_name": "Python 3",
   "language": "python",
   "name": "python3"
  },
  "language_info": {
   "codemirror_mode": {
    "name": "ipython",
    "version": 3
   },
   "file_extension": ".py",
   "mimetype": "text/x-python",
   "name": "python",
   "nbconvert_exporter": "python",
   "pygments_lexer": "ipython3",
   "version": "3.7.0"
  }
 },
 "nbformat": 4,
 "nbformat_minor": 2
}
