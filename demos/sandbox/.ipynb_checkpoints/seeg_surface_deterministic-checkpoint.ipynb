{
 "cells": [
  {
   "cell_type": "code",
   "execution_count": null,
   "metadata": {},
   "outputs": [],
   "source": [
    "#!/usr/bin/env python\n",
    "# coding: utf-8"
   ]
  },
  {
   "cell_type": "code",
   "execution_count": null,
   "metadata": {},
   "outputs": [],
   "source": [
    "get_ipython().magic('pylab inline')"
   ]
  },
  {
   "cell_type": "markdown",
   "metadata": {},
   "source": [
    "###Demonstrate using the simulator for a deterministic surface simulation with SEEG monitor <br>\n",
    "integration.<br>\n",
    "<br>\n",
    "``Run time``: approximately 27 seconds (workstation circa 2010).<br>\n",
    "``Memory requirement``: ~ 1 GB"
   ]
  },
  {
   "cell_type": "code",
   "execution_count": null,
   "metadata": {},
   "outputs": [],
   "source": [
    "from tvb.datatypes.cortex import Cortex"
   ]
  },
  {
   "cell_type": "code",
   "execution_count": null,
   "metadata": {},
   "outputs": [],
   "source": [
    "from tvb.simulator.lab import *\n",
    "LOG = get_logger('demo')"
   ]
  },
  {
   "cell_type": "code",
   "execution_count": null,
   "metadata": {},
   "outputs": [],
   "source": [
    "LOG.info(\"Configuring...\")"
   ]
  },
  {
   "cell_type": "markdown",
   "metadata": {},
   "source": [
    "nitialise a Model, Coupling, and Connectivity."
   ]
  },
  {
   "cell_type": "code",
   "execution_count": null,
   "metadata": {},
   "outputs": [],
   "source": [
    "sens = sensors.SensorsInternal(load_default=True)"
   ]
  },
  {
   "cell_type": "code",
   "execution_count": null,
   "metadata": {},
   "outputs": [],
   "source": [
    "oscillator = models.Generic2dOscillator()\n",
    "white_matter = connectivity.Connectivity(load_default=True)\n",
    "white_matter.speed = numpy.array([4.0])"
   ]
  },
  {
   "cell_type": "code",
   "execution_count": null,
   "metadata": {},
   "outputs": [],
   "source": [
    "white_matter_coupling = coupling.Linear(a=0.014)"
   ]
  },
  {
   "cell_type": "markdown",
   "metadata": {},
   "source": [
    "nitialise an Integrator"
   ]
  },
  {
   "cell_type": "code",
   "execution_count": null,
   "metadata": {},
   "outputs": [],
   "source": [
    "heunint = integrators.HeunDeterministic(dt=2 ** -4)"
   ]
  },
  {
   "cell_type": "markdown",
   "metadata": {},
   "source": [
    "nitialise some Monitors with period in physical time"
   ]
  },
  {
   "cell_type": "code",
   "execution_count": null,
   "metadata": {},
   "outputs": [],
   "source": [
    "mon_tavg = monitors.TemporalAverage(period=2 ** -2)\n",
    "mon_savg = monitors.SpatialAverage(period=2 ** -2)"
   ]
  },
  {
   "cell_type": "markdown",
   "metadata": {},
   "source": [
    "load the default region mapping"
   ]
  },
  {
   "cell_type": "code",
   "execution_count": null,
   "metadata": {},
   "outputs": [],
   "source": [
    "rm = region_mapping.RegionMapping(load_default=True)\n",
    "#Initialise some Monitors with period in physical time\n",
    "mon_eeg = monitors.EEG(load_default=True,\n",
    "                       region_mapping=rm,\n",
    "                       period=2 ** -2) \n",
    "mon_seeg = monitors.iEEG(load_default=True,\n",
    "                         region_mapping=rm,\n",
    "                         period=2 ** -2)"
   ]
  },
  {
   "cell_type": "markdown",
   "metadata": {},
   "source": [
    "undle them"
   ]
  },
  {
   "cell_type": "code",
   "execution_count": null,
   "metadata": {},
   "outputs": [],
   "source": [
    "what_to_watch = (mon_tavg, mon_savg, mon_eeg, mon_seeg)"
   ]
  },
  {
   "cell_type": "markdown",
   "metadata": {},
   "source": [
    "nitialise a surface"
   ]
  },
  {
   "cell_type": "code",
   "execution_count": null,
   "metadata": {},
   "outputs": [],
   "source": [
    "local_coupling_strength = numpy.array([2 ** -10])\n",
    "default_cortex = Cortex(load_default=True)\n",
    "default_cortex.coupling_strength = local_coupling_strength"
   ]
  },
  {
   "cell_type": "markdown",
   "metadata": {},
   "source": [
    "nitialise Simulator -- Model, Connectivity, Integrator, Monitors, and surface."
   ]
  },
  {
   "cell_type": "code",
   "execution_count": null,
   "metadata": {},
   "outputs": [],
   "source": [
    "sim = simulator.Simulator(model=oscillator, connectivity=white_matter,\n",
    "                          coupling=white_matter_coupling,\n",
    "                          integrator=heunint, monitors=what_to_watch,\n",
    "                          surface=default_cortex)\n",
    "sim.configure()"
   ]
  },
  {
   "cell_type": "markdown",
   "metadata": {},
   "source": [
    "erform the simulation"
   ]
  },
  {
   "cell_type": "code",
   "execution_count": null,
   "metadata": {},
   "outputs": [],
   "source": [
    "tavg_data = []\n",
    "tavg_time = []\n",
    "savg_data = []\n",
    "savg_time = []\n",
    "eeg_data = []\n",
    "eeg_time = []\n",
    "seeg_data = []\n",
    "seeg_time = []"
   ]
  },
  {
   "cell_type": "code",
   "execution_count": null,
   "metadata": {},
   "outputs": [],
   "source": [
    "for tavg, savg, eeg, seeg in sim(simulation_length=2 ** 2):\n",
    "    if not tavg is None:\n",
    "        tavg_time.append(tavg[0])\n",
    "        tavg_data.append(tavg[1])\n",
    "    if not savg is None:\n",
    "        savg_time.append(savg[0])\n",
    "        savg_data.append(savg[1])\n",
    "    if not eeg is None:\n",
    "        eeg_time.append(eeg[0])\n",
    "        eeg_data.append(eeg[1])\n",
    "    if not seeg is None:\n",
    "        seeg_time.append(seeg[0])\n",
    "        seeg_data.append(seeg[1])"
   ]
  },
  {
   "cell_type": "code",
   "execution_count": null,
   "metadata": {},
   "outputs": [],
   "source": [
    "LOG.info(\"finished simulation.\")"
   ]
  },
  {
   "cell_type": "markdown",
   "metadata": {},
   "source": [
    "####Plot pretty pictures of what we just did  "
   ]
  },
  {
   "cell_type": "markdown",
   "metadata": {},
   "source": [
    "ake the lists numpy.arrays for easier use."
   ]
  },
  {
   "cell_type": "code",
   "execution_count": null,
   "metadata": {},
   "outputs": [],
   "source": [
    "TAVG = numpy.array(tavg_data)\n",
    "SAVG = numpy.array(savg_data)\n",
    "EEG = numpy.array(eeg_data)\n",
    "SEEG = numpy.array(seeg_data)"
   ]
  },
  {
   "cell_type": "markdown",
   "metadata": {},
   "source": [
    "lot region averaged time series"
   ]
  },
  {
   "cell_type": "code",
   "execution_count": null,
   "metadata": {},
   "outputs": [],
   "source": [
    "figure(3)\n",
    "plot(savg_time, SAVG[:, 0, :, 0])\n",
    "title(\"Region average\")"
   ]
  },
  {
   "cell_type": "markdown",
   "metadata": {},
   "source": [
    "lot EEG time series"
   ]
  },
  {
   "cell_type": "code",
   "execution_count": null,
   "metadata": {},
   "outputs": [],
   "source": [
    "figure(4)\n",
    "color_idx = numpy.linspace(0, 1, EEG.shape[2])\n",
    "for i in color_idx:\n",
    "    plot(eeg_time, EEG[:, 0, i, 0], color=cm.cool(i), lw=3, alpha=0.2)\n",
    "title(\"EEG\")"
   ]
  },
  {
   "cell_type": "markdown",
   "metadata": {},
   "source": [
    "lot SEEG time series"
   ]
  },
  {
   "cell_type": "code",
   "execution_count": null,
   "metadata": {},
   "outputs": [],
   "source": [
    "figure(5)\n",
    "color_idx = numpy.linspace(0, 1, SEEG.shape[2])\n",
    "for i in color_idx:\n",
    "    plot(seeg_time, SEEG[:, 0, i, 0], color=cm.cool(i), lw=3, alpha=0.2)\n",
    "title(\"SEEG\")"
   ]
  },
  {
   "cell_type": "markdown",
   "metadata": {},
   "source": [
    "how them"
   ]
  },
  {
   "cell_type": "code",
   "execution_count": null,
   "metadata": {},
   "outputs": [],
   "source": [
    "show()"
   ]
  },
  {
   "cell_type": "markdown",
   "metadata": {},
   "source": [
    "urface movie, requires mayavi.mlab"
   ]
  }
 ],
 "metadata": {
  "kernelspec": {
   "display_name": "Python 3",
   "language": "python",
   "name": "python3"
  },
  "language_info": {
   "codemirror_mode": {
    "name": "ipython",
    "version": 3
   },
   "file_extension": ".py",
   "mimetype": "text/x-python",
   "name": "python",
   "nbconvert_exporter": "python",
   "pygments_lexer": "ipython3",
   "version": "3.7.0"
  }
 },
 "nbformat": 4,
 "nbformat_minor": 2
}
