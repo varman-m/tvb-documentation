{
 "cells": [
  {
   "cell_type": "code",
   "execution_count": null,
   "metadata": {},
   "outputs": [],
   "source": [
    "#!/usr/bin/env python\n",
    "# coding: utf-8"
   ]
  },
  {
   "cell_type": "code",
   "execution_count": null,
   "metadata": {},
   "outputs": [],
   "source": [
    "get_ipython().magic('pylab inline')"
   ]
  },
  {
   "cell_type": "markdown",
   "metadata": {},
   "source": [
    "###Display surface parcellation"
   ]
  },
  {
   "cell_type": "code",
   "execution_count": null,
   "metadata": {},
   "outputs": [],
   "source": [
    "from tvb.datatypes.cortex import Cortex"
   ]
  },
  {
   "cell_type": "code",
   "execution_count": null,
   "metadata": {},
   "outputs": [],
   "source": [
    "from tvb.simulator.lab import *\n",
    "LOG = get_logger('demo')\n",
    "from tvb.simulator.region_boundaries import RegionBoundaries\n",
    "from tvb.simulator.region_colours import RegionColours "
   ]
  },
  {
   "cell_type": "code",
   "execution_count": null,
   "metadata": {},
   "outputs": [],
   "source": [
    "CORTEX = Cortex.from_file()\n",
    "CORTEX_BOUNDARIES = RegionBoundaries(CORTEX)"
   ]
  },
  {
   "cell_type": "code",
   "execution_count": null,
   "metadata": {},
   "outputs": [],
   "source": [
    "region_colours = RegionColours(CORTEX_BOUNDARIES.region_neighbours)\n",
    "colouring = region_colours.back_track()"
   ]
  },
  {
   "cell_type": "markdown",
   "metadata": {},
   "source": [
    "ake the hemispheres symmetric<br>\n",
    "TODO: should prob. et colouring for one hemisphere then just stack two copies..."
   ]
  },
  {
   "cell_type": "code",
   "execution_count": null,
   "metadata": {},
   "outputs": [],
   "source": [
    "number_of_regions = len(CORTEX_BOUNDARIES.region_neighbours)\n",
    "for k in range(int(number_of_regions)):\n",
    "    colouring[k + int(number_of_regions)] = colouring[k]"
   ]
  },
  {
   "cell_type": "code",
   "execution_count": null,
   "metadata": {},
   "outputs": [],
   "source": [
    "mapping_colours = list(\"rgbcmyRGBCMY\")\n",
    "colour_rgb = {\"r\": numpy.array([255,   0,   0], dtype=numpy.uint8),\n",
    "              \"g\": numpy.array([  0, 255,   0], dtype=numpy.uint8),\n",
    "              \"b\": numpy.array([  0,   0, 255], dtype=numpy.uint8),\n",
    "              \"c\": numpy.array([  0, 255, 255], dtype=numpy.uint8),\n",
    "              \"m\": numpy.array([255,   0, 255], dtype=numpy.uint8),\n",
    "              \"y\": numpy.array([255, 255,   0], dtype=numpy.uint8),\n",
    "              \"R\": numpy.array([128,   0,   0], dtype=numpy.uint8),\n",
    "              \"G\": numpy.array([  0, 128,   0], dtype=numpy.uint8),\n",
    "              \"B\": numpy.array([  0,   0, 128], dtype=numpy.uint8),\n",
    "              \"C\": numpy.array([  0, 128, 128], dtype=numpy.uint8),\n",
    "              \"M\": numpy.array([128,   0, 128], dtype=numpy.uint8),\n",
    "              \"Y\": numpy.array([128, 128,   0], dtype=numpy.uint8)}"
   ]
  }
 ],
 "metadata": {
  "kernelspec": {
   "display_name": "Python 3",
   "language": "python",
   "name": "python3"
  },
  "language_info": {
   "codemirror_mode": {
    "name": "ipython",
    "version": 3
   },
   "file_extension": ".py",
   "mimetype": "text/x-python",
   "name": "python",
   "nbconvert_exporter": "python",
   "pygments_lexer": "ipython3",
   "version": "3.7.0"
  }
 },
 "nbformat": 4,
 "nbformat_minor": 2
}
