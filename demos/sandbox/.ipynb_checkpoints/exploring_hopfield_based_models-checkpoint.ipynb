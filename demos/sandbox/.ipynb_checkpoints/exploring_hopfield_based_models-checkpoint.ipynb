{
 "cells": [
  {
   "cell_type": "code",
   "execution_count": null,
   "metadata": {},
   "outputs": [],
   "source": [
    "#!/usr/bin/env python\n",
    "# coding: utf-8"
   ]
  },
  {
   "cell_type": "code",
   "execution_count": null,
   "metadata": {},
   "outputs": [],
   "source": [
    "get_ipython().magic('pylab nbagg')\n",
    "from tvb.simulator.lab import *"
   ]
  },
  {
   "cell_type": "markdown",
   "metadata": {},
   "source": [
    "Exploring Hopfield Based Models<br>\n",
    "===<br>\n",
    "<br>\n",
    "This tutorial explores the different dynamics of Hopfield based models.<br>\n",
    "<br>\n",
    "The Hopfield neural network is a discrete time dynamical system composed of multiple binary nodes, with a connectivity matrix built from a predetermined set of patterns. The update, inspired from the spin-glass model (used to describe magnetic properties of dilute alloys), is based on a random scanning of every node. The existence of fixed point dynamics is guaranteed by a Lyapunov function. The Hopfield network is expected to have those multiple patterns as attractors (multistable dynamical system). When the initial conditions are close to one of the 'learned' patterns, the dynamical system is expected to relax on the corresponding attractor. <br>\n",
    "<br>\n",
    "A possible output of the system is the final attractive state (interpreted as an associative memory).<br>\n",
    "<br>\n",
    "Various extensions of the initial model have been proposed, among which a noiseless and continuous version [Hopfield 1984] having a slightly different Lyapunov function, but essentially the same dynamical properties, with more straightforward physiological interpretation. A continuous Hopfield neural network (with a sigmoid transfer function) can indeed be interpreted as a network of neural masses with every node corresponding to the mean field activity of a local brain region, with many bridges with the Wilson Cowan model [ref].<br>\n",
    "<br>\n",
    "**References**:<br>\n",
    "<br>\n",
    "[Hopfield1982] Hopfield, J. J., *Neural networks and physical systems with emergent collective computational abilities*, Proc. Nat. Acad. Sci. (USA) 79, 2554-2558, 1982.<br>\n",
    "<br>\n",
    "[Hopfield1984] Hopfield, J. J., *Neurons with graded response have collective computational properties like those of two-sate neurons*, Proc. Nat. Acad. Sci. (USA) 81, 3088-3092, 1984.<br>\n",
    "<br>\n",
    "See also, http://www.scholarpedia.org/article/Hopfield_network<br>\n",
    "<br>\n",
    "**Note:** This model can use a global and dynamic (time-varying) threshold permitting multistable dynamic for a positive structural connectivity matrix."
   ]
  },
  {
   "cell_type": "markdown",
   "metadata": {},
   "source": [
    "<br>\n",
    "## Configuration<br>\n",
    "<br>\n",
    "In the following **S/D** will refer to **Static/Dynamic** and **L/G** to **Local/Global** respectively.<br>\n",
    "Thus there are 4 variants or models<br>\n",
    "<br>\n",
    "- Static Local (**SL**)<br>\n",
    "- Static Global (**SG**)<br>\n",
    "- Dynamic Local (**DL**)<br>\n",
    "- Dynamic Global (**DG**)<br>\n"
   ]
  },
  {
   "cell_type": "markdown",
   "metadata": {},
   "source": [
    "### Parameters"
   ]
  },
  {
   "cell_type": "markdown",
   "metadata": {},
   "source": [
    "Global coupling function parameters"
   ]
  },
  {
   "cell_type": "code",
   "execution_count": null,
   "metadata": {},
   "outputs": [],
   "source": [
    "P_SL = 1.0       # Excitation / Inhibition ratio in sigmoidal coupling\n",
    "P_SG = 0.9\n",
    "P_DL = 4.0\n",
    "P_DG = 0.6\n",
    "G = 900.         # Gain of sigmoidal coupling"
   ]
  },
  {
   "cell_type": "markdown",
   "metadata": {},
   "source": [
    "Model parameters"
   ]
  },
  {
   "cell_type": "code",
   "execution_count": null,
   "metadata": {},
   "outputs": [],
   "source": [
    "taux = 10.       # Time constant for potentials\n",
    "tauT = 80.       # Time constant for inhibition\n",
    "sigx = 8e-5      # Noise on potentials\n",
    "sigT = 3e-6      # Noise for inhibition\n",
    "dt = 0.1         # Time step [ms]\n",
    "f0 = 0.3         # Initial density"
   ]
  },
  {
   "cell_type": "markdown",
   "metadata": {},
   "source": [
    "### Model<br>\n",
    "<br>\n",
    "Here, we'll create two variants of the model"
   ]
  },
  {
   "cell_type": "code",
   "execution_count": null,
   "metadata": {},
   "outputs": [],
   "source": [
    "modelS = models.Hopfield(taux=taux)\n",
    "modelD = models.Hopfield(taux=taux, tauT=tauT, dynamic=1)"
   ]
  },
  {
   "cell_type": "markdown",
   "metadata": {},
   "source": [
    "### Connectivity"
   ]
  },
  {
   "cell_type": "code",
   "execution_count": null,
   "metadata": {},
   "outputs": [],
   "source": [
    "Connectome = connectivity.Connectivity.from_file(\"connectivity_66.zip\")\n",
    "Connectome.weights /= norm(Connectome.weights) # to have the same P parameters used for the models\n",
    "Connectome.configure()                         # to reach the number of nodes"
   ]
  },
  {
   "cell_type": "markdown",
   "metadata": {},
   "source": [
    "### Coupling and $\\theta_{Static}$ initialization"
   ]
  },
  {
   "cell_type": "code",
   "execution_count": null,
   "metadata": {},
   "outputs": [],
   "source": [
    "thetaL = (Connectome.weights.sum(0) * 0.5)          # As defined in Continuous Hopfield model\n",
    "thetaG = [(Connectome.weights.sum(0) * 0.5).mean()] # Average over nodes for a global threshold\n",
    "coupSL = coupling.PreSigmoidal(G=G, P=P_SL, dynamic=False, globalT=False, theta=thetaL)\n",
    "coupSG = coupling.PreSigmoidal(G=G, P=P_SG, dynamic=False, globalT=True, theta=thetaG)\n",
    "coupDL = coupling.PreSigmoidal(G=G, P=P_DL, dynamic=True, globalT=False)\n",
    "coupDG = coupling.PreSigmoidal(G=G, P=P_DG, dynamic=True, globalT=True)"
   ]
  },
  {
   "cell_type": "markdown",
   "metadata": {},
   "source": [
    "### Integrator & Noise"
   ]
  },
  {
   "cell_type": "code",
   "execution_count": null,
   "metadata": {},
   "outputs": [],
   "source": [
    "noiseS  = noise.Additive(nsig = array([sigx])) \n",
    "noiseDL = noise.Additive(nsig = array([sigx, sigT]))\n",
    "noiseDG = noise.Additive(nsig = array([sigx, sigT]))\n",
    "integratorS = integrators.EulerStochastic(dt=dt, noise=noiseS)\n",
    "integratorDL = integrators.EulerStochastic(dt=dt, noise=noiseDL)\n",
    "integratorDG = integrators.EulerStochastic(dt=dt, noise=noiseDG)"
   ]
  },
  {
   "cell_type": "markdown",
   "metadata": {},
   "source": [
    "### Monitors"
   ]
  },
  {
   "cell_type": "code",
   "execution_count": null,
   "metadata": {},
   "outputs": [],
   "source": [
    "monitorsS = monitors.Raw()\n",
    "monitorsD = monitors.Raw()"
   ]
  },
  {
   "cell_type": "markdown",
   "metadata": {},
   "source": [
    "## Initialization & Run"
   ]
  },
  {
   "cell_type": "markdown",
   "metadata": {},
   "source": [
    "**Initial Conditions**<br>\n",
    "<br>\n",
    "We can consider the *initial density* as the number of active nodes over the number of nodes at t=0.<br>\n",
    "The number of possible attrators for the **SL model** is the biggest for an initial density of **0.5** and P=1.<br>\n",
    "For the **SG model**, it is for an initial density of **0.3** and P=0.9. The **D models** don't need specific initial densities.<br>\n",
    "<br>\n",
    "**Note:** For the **DG model**, the initialization of the threshold $\\theta$ have to be a vector with a size equal to the number of nodes. Onyl the first node is used as a global node but the others have also to be initialized."
   ]
  },
  {
   "cell_type": "markdown",
   "metadata": {},
   "source": [
    "This should be the history array shape ... The base Hopfield model has two state-variables."
   ]
  },
  {
   "cell_type": "code",
   "execution_count": null,
   "metadata": {},
   "outputs": [],
   "source": [
    "SVshape = 1, 1, Connectome.number_of_regions, 1"
   ]
  },
  {
   "cell_type": "code",
   "execution_count": null,
   "metadata": {},
   "outputs": [],
   "source": [
    "x_0 = np.where(rand(*SVshape) > f0, 0., 0.5)\n",
    "x_0b= np.where(rand(*SVshape) > 0.3, 0., 0.5)\n",
    "theta0_L = (P_DL * Connectome.weights.dot(x_0)).reshape(SVshape)\n",
    "theta0_G = (P_DG * Connectome.weights.dot(x_0).mean() * ones(Connectome.number_of_regions)).reshape(SVshape)"
   ]
  },
  {
   "cell_type": "code",
   "execution_count": null,
   "metadata": {},
   "outputs": [],
   "source": [
    "initialSL = concatenate([x_0, zeros(x_0.shape)], axis=1)\n",
    "initialSG = concatenate([x_0b, zeros(x_0b.shape)], axis=1)\n",
    "initialDL = concatenate((x_0, theta0_L), axis=1)\n",
    "initialDG = concatenate((x_0, theta0_G), axis=1)"
   ]
  },
  {
   "cell_type": "markdown",
   "metadata": {},
   "source": [
    "**Simulator**"
   ]
  },
  {
   "cell_type": "code",
   "execution_count": null,
   "metadata": {},
   "outputs": [],
   "source": [
    "static = {'model': modelS,\n",
    "          'integrator': integratorS,\n",
    "          'monitors': monitorsS,\n",
    "          'connectivity': Connectome,}\n",
    "dynamic = {'model': modelD,\n",
    "           'monitors': monitorsD,\n",
    "           'connectivity': Connectome,}"
   ]
  },
  {
   "cell_type": "code",
   "execution_count": null,
   "metadata": {},
   "outputs": [],
   "source": [
    "simSL = simulator.Simulator(coupling=coupSL, initial_conditions=initialSL, **static)\n",
    "simSG = simulator.Simulator(coupling=coupSG, initial_conditions=initialSG, **static)\n",
    "simDL = simulator.Simulator(coupling=coupDL, integrator=integratorDL, initial_conditions=initialDL, **dynamic)\n",
    "simDG = simulator.Simulator(coupling=coupDG, integrator=integratorDG, initial_conditions=initialDG, **dynamic)\n",
    "simSL.configure()\n",
    "simSG.configure()\n",
    "simDL.configure()\n",
    "simDG.configure();"
   ]
  },
  {
   "cell_type": "markdown",
   "metadata": {},
   "source": [
    "**Static & Local**"
   ]
  },
  {
   "cell_type": "code",
   "execution_count": null,
   "metadata": {},
   "outputs": [],
   "source": [
    "raw_data_SL = []"
   ]
  },
  {
   "cell_type": "code",
   "execution_count": null,
   "metadata": {},
   "outputs": [],
   "source": [
    "for raw, in simSL(simulation_length=250):\n",
    "    raw_data_SL.append(raw[1])\n",
    "SL_X = array(raw_data_SL)[:,0,:,0]"
   ]
  },
  {
   "cell_type": "markdown",
   "metadata": {},
   "source": [
    "**Static & Global**"
   ]
  },
  {
   "cell_type": "code",
   "execution_count": null,
   "metadata": {},
   "outputs": [],
   "source": [
    "raw_data_SG = []"
   ]
  },
  {
   "cell_type": "code",
   "execution_count": null,
   "metadata": {},
   "outputs": [],
   "source": [
    "for raw, in simSG(simulation_length=250):\n",
    "    raw_data_SG.append(raw[1])\n",
    "SG_X = array(raw_data_SG)[:,0,:,0]"
   ]
  },
  {
   "cell_type": "markdown",
   "metadata": {},
   "source": [
    "**Dynamic & Local**"
   ]
  },
  {
   "cell_type": "code",
   "execution_count": null,
   "metadata": {},
   "outputs": [],
   "source": [
    "raw_data_DL = []"
   ]
  },
  {
   "cell_type": "code",
   "execution_count": null,
   "metadata": {},
   "outputs": [],
   "source": [
    "for raw, in simDL(simulation_length=2500):\n",
    "    raw_data_DL.append(raw[1])\n",
    "DL_X = array(raw_data_DL)[:,0,:,0]"
   ]
  },
  {
   "cell_type": "markdown",
   "metadata": {},
   "source": [
    "**Dynamic & Global**"
   ]
  },
  {
   "cell_type": "code",
   "execution_count": null,
   "metadata": {},
   "outputs": [],
   "source": [
    "raw_data_DG = []"
   ]
  },
  {
   "cell_type": "code",
   "execution_count": null,
   "metadata": {},
   "outputs": [],
   "source": [
    "for raw, in simDG(simulation_length=5000):\n",
    "    raw_data_DG.append(raw[1])\n",
    "DG_X = array(raw_data_DG)[:,0,:,0]"
   ]
  },
  {
   "cell_type": "markdown",
   "metadata": {},
   "source": [
    "----------<br>\n",
    "## Display"
   ]
  },
  {
   "cell_type": "code",
   "execution_count": null,
   "metadata": {},
   "outputs": [],
   "source": [
    "figure(figsize=(13,8))\n",
    "subplot(411); plot(SL_X); title('Static & Local')\n",
    "subplot(412); plot(SG_X); title('Static & Global')\n",
    "subplot(413); plot(DL_X); title('Dynamic & Local')\n",
    "subplot(414); plot(DG_X); title('Dynamic & Global'); show()"
   ]
  },
  {
   "cell_type": "code",
   "execution_count": null,
   "metadata": {},
   "outputs": [],
   "source": [
    "figure(figsize=(13,8))\n",
    "subplot(411); imshow(SL_X.T, aspect='auto', interpolation='nearest'); title('Static & Local')\n",
    "subplot(412); imshow(SG_X.T, aspect='auto', interpolation='nearest'); title('Static & Global')\n",
    "subplot(413); imshow(DL_X.T, aspect='auto', interpolation='nearest'); title('Dynamic & Local')\n",
    "subplot(414); imshow(DG_X.T, aspect='auto', interpolation='nearest'); title('Dynamic & Global'); show()"
   ]
  }
 ],
 "metadata": {
  "kernelspec": {
   "display_name": "Python 3",
   "language": "python",
   "name": "python3"
  },
  "language_info": {
   "codemirror_mode": {
    "name": "ipython",
    "version": 3
   },
   "file_extension": ".py",
   "mimetype": "text/x-python",
   "name": "python",
   "nbconvert_exporter": "python",
   "pygments_lexer": "ipython3",
   "version": "3.7.0"
  }
 },
 "nbformat": 4,
 "nbformat_minor": 2
}
