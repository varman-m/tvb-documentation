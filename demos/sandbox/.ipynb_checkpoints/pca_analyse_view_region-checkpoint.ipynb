{
 "cells": [
  {
   "cell_type": "code",
   "execution_count": null,
   "metadata": {},
   "outputs": [],
   "source": [
    "#!/usr/bin/env python\n",
    "# coding: utf-8"
   ]
  },
  {
   "cell_type": "code",
   "execution_count": null,
   "metadata": {},
   "outputs": [],
   "source": [
    "get_ipython().magic('pylab nbagg')"
   ]
  },
  {
   "cell_type": "markdown",
   "metadata": {},
   "source": [
    "###PCA analysis and visualisation demo.<br>\n",
    "<br>\n",
    "``Run time``: approximately ? minutes (workstation circa 2010)<br>\n",
    "<br>\n",
    "``Memory requirement``: ~ ?GB<br>\n"
   ]
  },
  {
   "cell_type": "code",
   "execution_count": null,
   "metadata": {},
   "outputs": [],
   "source": [
    "from tvb.simulator.lab import *\n",
    "from tvb.datatypes.time_series import TimeSeriesRegion\n",
    "from tvb.simulator.plot import timeseries_interactive as timeseries_interactive"
   ]
  },
  {
   "cell_type": "code",
   "execution_count": null,
   "metadata": {},
   "outputs": [],
   "source": [
    "import tvb.analyzers.pca as pca"
   ]
  },
  {
   "cell_type": "code",
   "execution_count": null,
   "metadata": {},
   "outputs": [],
   "source": [
    "LOG = get_logger('demo')"
   ]
  },
  {
   "cell_type": "markdown",
   "metadata": {},
   "source": [
    "if the demo data are not generated, this function will."
   ]
  },
  {
   "cell_type": "code",
   "execution_count": null,
   "metadata": {},
   "outputs": [],
   "source": [
    "def generate_region_demo_data():\n",
    "    \"\"\"\n",
    "    Generate 16 seconds of 2048Hz data at the region level, stochastic integration.\n",
    "    \n",
    "    ``Run time``: approximately 4 minutes (workstation circa 2010)\n",
    "    \n",
    "    ``Memory requirement``: < 1GB\n",
    "    ``Storage requirement``: ~ 19MB\n",
    "    \n",
    "    .. moduleauthor:: Stuart A. Knock <stuart.knock@gmail.com>\n",
    "    \n",
    "    \"\"\"\n",
    "    \n",
    "   \n",
    "    ##----------------------------------------------------------------------------##\n",
    "    ##-                      Perform the simulation                              -##\n",
    "    ##----------------------------------------------------------------------------##\n",
    "    \n",
    "    LOG.info(\"Configuring...\")\n",
    "    \n",
    "    #Initialise a Model, Coupling, and Connectivity.\n",
    "    pars = {'a': 1.05,\n",
    "            'b': -1.,\n",
    "            'c': 0.0,\n",
    "            'd': 0.1,\n",
    "            'e': 0.0,\n",
    "            'f': 1 / 3.,\n",
    "            'g': 1.0,\n",
    "            'alpha': 1.0,\n",
    "            'beta': 0.2,\n",
    "            'tau': 1.25,\n",
    "            'gamma': -1.0}\n",
    "    \n",
    "    oscillator = models.Generic2dOscillator(**pars)\n",
    "    \n",
    "    white_matter = connectivity.Connectivity(load_default=True)\n",
    "    white_matter.speed = numpy.array([4.0])\n",
    "    white_matter_coupling = coupling.Linear(a=0.033)\n",
    "    \n",
    "    #Initialise an Integrator\n",
    "    hiss = noise.Additive(nsig=numpy.array([2 ** -10, ]))\n",
    "    heunint = integrators.HeunStochastic(dt=0.06103515625, noise=hiss) \n",
    "    \n",
    "    #Initialise a Monitor with period in physical time\n",
    "    what_to_watch = monitors.TemporalAverage(period=0.48828125)     # 2048Hz => period=1000.0/2048.0\n",
    "    \n",
    "    #Initialise a Simulator -- Model, Connectivity, Integrator, and Monitors.\n",
    "    sim = simulator.Simulator(model=oscillator, connectivity=white_matter,\n",
    "                              coupling=white_matter_coupling,\n",
    "                              integrator=heunint, monitors=what_to_watch)\n",
    "    \n",
    "    sim.configure()\n",
    "    \n",
    "    #Perform the simulation\n",
    "    tavg_data = []\n",
    "    tavg_time = []\n",
    "    LOG.info(\"Starting simulation...\")\n",
    "    for tavg in sim(simulation_length=16000):\n",
    "        if tavg is not None:\n",
    "            tavg_time.append(tavg[0][0])    # TODO:The first [0] is a hack for single monitor\n",
    "            tavg_data.append(tavg[0][1])    # TODO:The first [0] is a hack for single monitor\n",
    "    \n",
    "    LOG.info(\"Finished simulation.\")\n",
    "    \n",
    "    \n",
    "    ##----------------------------------------------------------------------------##\n",
    "    ##-                     Save the data to a file                              -##\n",
    "    ##----------------------------------------------------------------------------##\n",
    "    \n",
    "    #Make the list a numpy.array.\n",
    "    LOG.info(\"Converting result to array...\")\n",
    "    TAVG = numpy.array(tavg_data)\n",
    "    \n",
    "    #Save it\n",
    "    FILE_NAME = \"demo_data_region_16s_2048Hz.npy\"\n",
    "    LOG.info(\"Saving array to %s...\" % FILE_NAME)\n",
    "    numpy.save(FILE_NAME, TAVG)\n",
    "    \n",
    "    LOG.info(\"Done.\")"
   ]
  },
  {
   "cell_type": "markdown",
   "metadata": {},
   "source": [
    "oad the demo region timeseries dataset "
   ]
  },
  {
   "cell_type": "code",
   "execution_count": null,
   "metadata": {},
   "outputs": [],
   "source": [
    "try:\n",
    "    data = numpy.load(\"demo_data_region_16s_2048Hz.npy\")\n",
    "except IOError:\n",
    "    LOG.error(\"Can't load demo data. Run demos/generate_region_demo_data.py\")\n",
    "    generate_region_demo_data()\n",
    "    data = numpy.load(\"demo_data_region_16s_2048Hz.npy\")"
   ]
  },
  {
   "cell_type": "code",
   "execution_count": null,
   "metadata": {},
   "outputs": [],
   "source": [
    "period = 0.00048828125  # s"
   ]
  },
  {
   "cell_type": "markdown",
   "metadata": {},
   "source": [
    "ut the data into a TimeSeriesRegion datatype"
   ]
  },
  {
   "cell_type": "code",
   "execution_count": null,
   "metadata": {},
   "outputs": [],
   "source": [
    "white_matter = connectivity.Connectivity(load_default=True)\n",
    "tsr = TimeSeriesRegion(connectivity=white_matter,\n",
    "                       data=data,\n",
    "                       sample_period=period)\n",
    "tsr.configure()"
   ]
  },
  {
   "cell_type": "markdown",
   "metadata": {},
   "source": [
    "reate and run the analyser"
   ]
  },
  {
   "cell_type": "code",
   "execution_count": null,
   "metadata": {},
   "outputs": [],
   "source": [
    "pca_analyser = pca.PCA(time_series=tsr)\n",
    "pca_data = pca_analyser.evaluate()"
   ]
  },
  {
   "cell_type": "markdown",
   "metadata": {},
   "source": [
    "enerate derived data, such as, component time series, etc."
   ]
  },
  {
   "cell_type": "code",
   "execution_count": null,
   "metadata": {},
   "outputs": [],
   "source": [
    "pca_data.configure()"
   ]
  },
  {
   "cell_type": "markdown",
   "metadata": {},
   "source": [
    "ut the data into a TimeSeriesSurface datatype"
   ]
  },
  {
   "cell_type": "code",
   "execution_count": null,
   "metadata": {},
   "outputs": [],
   "source": [
    "component_tsr = TimeSeriesRegion(connectivity=white_matter,\n",
    "                                 data=pca_data.component_time_series,\n",
    "                                 sample_period=period)\n",
    "component_tsr.configure()"
   ]
  },
  {
   "cell_type": "markdown",
   "metadata": {},
   "source": [
    "rutty puctures..."
   ]
  },
  {
   "cell_type": "code",
   "execution_count": null,
   "metadata": {},
   "outputs": [],
   "source": [
    "figure()\n",
    "tsi = timeseries_interactive.TimeSeriesInteractive(time_series=component_tsr)\n",
    "tsi.configure()\n",
    "tsi.show()"
   ]
  },
  {
   "cell_type": "code",
   "execution_count": null,
   "metadata": {},
   "outputs": [],
   "source": [
    "figure()\n",
    "tsr = timeseries_interactive.TimeSeriesInteractive(time_series=tsr)\n",
    "tsr.configure()\n",
    "tsr.show()"
   ]
  }
 ],
 "metadata": {
  "kernelspec": {
   "display_name": "Python 3",
   "language": "python",
   "name": "python3"
  },
  "language_info": {
   "codemirror_mode": {
    "name": "ipython",
    "version": 3
   },
   "file_extension": ".py",
   "mimetype": "text/x-python",
   "name": "python",
   "nbconvert_exporter": "python",
   "pygments_lexer": "ipython3",
   "version": "3.7.0"
  }
 },
 "nbformat": 4,
 "nbformat_minor": 2
}
